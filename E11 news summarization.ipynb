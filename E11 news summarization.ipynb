{
 "cells": [
  {
   "cell_type": "markdown",
   "id": "mobile-vacuum",
   "metadata": {},
   "source": [
    "# 11.뉴스 요약봇 만들기"
   ]
  },
  {
   "cell_type": "markdown",
   "id": "metric-overhead",
   "metadata": {},
   "source": [
    "### ?? 프로젝트 목표 : 뉴스를 전처리 단계를 거치고, 텍스트 요약 모델 학습하고, Extractive와 Abstractive 요약 결과 비교"
   ]
  },
  {
   "cell_type": "markdown",
   "id": "incident-occurrence",
   "metadata": {},
   "source": [
    "## Step 1. 데이터 수집하기"
   ]
  },
  {
   "cell_type": "markdown",
   "id": "above-beaver",
   "metadata": {},
   "source": [
    "### 라이브러리 가져오기"
   ]
  },
  {
   "cell_type": "code",
   "execution_count": 3,
   "id": "architectural-alias",
   "metadata": {},
   "outputs": [
    {
     "name": "stderr",
     "output_type": "stream",
     "text": [
      "[nltk_data] Downloading package stopwords to /home/aiffel-\n",
      "[nltk_data]     dj29/nltk_data...\n",
      "[nltk_data]   Package stopwords is already up-to-date!\n"
     ]
    }
   ],
   "source": [
    "import nltk\n",
    "nltk.download('stopwords')\n",
    "\n",
    "import numpy as np\n",
    "import pandas as pd\n",
    "import os\n",
    "import re\n",
    "import matplotlib.pyplot as plt\n",
    "from nltk.corpus import stopwords\n",
    "from bs4 import BeautifulSoup \n",
    "from tensorflow.keras.preprocessing.text import Tokenizer \n",
    "from tensorflow.keras.preprocessing.sequence import pad_sequences\n",
    "import urllib.request\n"
   ]
  },
  {
   "cell_type": "markdown",
   "id": "becoming-jonathan",
   "metadata": {},
   "source": [
    "### 뉴스 데이터 가져 오기 (데이터량이 10만개까지 아니라서 그대로 씀)"
   ]
  },
  {
   "cell_type": "code",
   "execution_count": 4,
   "id": "muslim-palace",
   "metadata": {},
   "outputs": [
    {
     "name": "stdout",
     "output_type": "stream",
     "text": [
      "전체 샘플수 : 98401\n"
     ]
    }
   ],
   "source": [
    "data = pd.read_csv(os.getenv(\"HOME\")+\"/news_summarization/data/news_summary_more.csv\")\n",
    "print('전체 샘플수 :',(len(data)))"
   ]
  },
  {
   "cell_type": "code",
   "execution_count": 5,
   "id": "unavailable-explosion",
   "metadata": {},
   "outputs": [
    {
     "data": {
      "text/html": [
       "<div>\n",
       "<style scoped>\n",
       "    .dataframe tbody tr th:only-of-type {\n",
       "        vertical-align: middle;\n",
       "    }\n",
       "\n",
       "    .dataframe tbody tr th {\n",
       "        vertical-align: top;\n",
       "    }\n",
       "\n",
       "    .dataframe thead th {\n",
       "        text-align: right;\n",
       "    }\n",
       "</style>\n",
       "<table border=\"1\" class=\"dataframe\">\n",
       "  <thead>\n",
       "    <tr style=\"text-align: right;\">\n",
       "      <th></th>\n",
       "      <th>headlines</th>\n",
       "      <th>text</th>\n",
       "    </tr>\n",
       "  </thead>\n",
       "  <tbody>\n",
       "    <tr>\n",
       "      <th>3100</th>\n",
       "      <td>Delhi HC sets aside Centre's ban on medicine '...</td>\n",
       "      <td>The Delhi High Court has set aside Centre's ba...</td>\n",
       "    </tr>\n",
       "    <tr>\n",
       "      <th>94120</th>\n",
       "      <td>MobiKwik gets â¹6 cr from Cisco, BCCL in Seri...</td>\n",
       "      <td>MobiKwik has received about â¹6 crore (about ...</td>\n",
       "    </tr>\n",
       "    <tr>\n",
       "      <th>10752</th>\n",
       "      <td>Two held for murder of sex worker at Chennai's...</td>\n",
       "      <td>The Chennai Police have arrested two auto driv...</td>\n",
       "    </tr>\n",
       "    <tr>\n",
       "      <th>29042</th>\n",
       "      <td>People said Toilet- Ek Prem Katha changed mind...</td>\n",
       "      <td>Actor Akshay Kumar has said that he received f...</td>\n",
       "    </tr>\n",
       "    <tr>\n",
       "      <th>7195</th>\n",
       "      <td>Will never bring my kids in front of camera on...</td>\n",
       "      <td>Akshay Kumar has said he doesn't like his chil...</td>\n",
       "    </tr>\n",
       "    <tr>\n",
       "      <th>10157</th>\n",
       "      <td>Air India pilot who failed alcohol tests remov...</td>\n",
       "      <td>Senior Air India pilot Arvind Kathpalia, who f...</td>\n",
       "    </tr>\n",
       "    <tr>\n",
       "      <th>28044</th>\n",
       "      <td>Sushma Swaraj's husband shares tweet asking hi...</td>\n",
       "      <td>External Affairs Minister Sushma Swaraj's husb...</td>\n",
       "    </tr>\n",
       "    <tr>\n",
       "      <th>69176</th>\n",
       "      <td>World's 1st 'nano-robot' capable of building m...</td>\n",
       "      <td>Scientists at The University of Manchester hav...</td>\n",
       "    </tr>\n",
       "    <tr>\n",
       "      <th>53048</th>\n",
       "      <td>Journos accompanying Mamata to UK caught steal...</td>\n",
       "      <td>Senior journalists accompanying West Bengal CM...</td>\n",
       "    </tr>\n",
       "    <tr>\n",
       "      <th>62167</th>\n",
       "      <td>US Prez Trump not invited to Paris climate cha...</td>\n",
       "      <td>US President Donald Trump has not been invited...</td>\n",
       "    </tr>\n",
       "  </tbody>\n",
       "</table>\n",
       "</div>"
      ],
      "text/plain": [
       "                                               headlines  \\\n",
       "3100   Delhi HC sets aside Centre's ban on medicine '...   \n",
       "94120  MobiKwik gets â¹6 cr from Cisco, BCCL in Seri...   \n",
       "10752  Two held for murder of sex worker at Chennai's...   \n",
       "29042  People said Toilet- Ek Prem Katha changed mind...   \n",
       "7195   Will never bring my kids in front of camera on...   \n",
       "10157  Air India pilot who failed alcohol tests remov...   \n",
       "28044  Sushma Swaraj's husband shares tweet asking hi...   \n",
       "69176  World's 1st 'nano-robot' capable of building m...   \n",
       "53048  Journos accompanying Mamata to UK caught steal...   \n",
       "62167  US Prez Trump not invited to Paris climate cha...   \n",
       "\n",
       "                                                    text  \n",
       "3100   The Delhi High Court has set aside Centre's ba...  \n",
       "94120  MobiKwik has received about â¹6 crore (about ...  \n",
       "10752  The Chennai Police have arrested two auto driv...  \n",
       "29042  Actor Akshay Kumar has said that he received f...  \n",
       "7195   Akshay Kumar has said he doesn't like his chil...  \n",
       "10157  Senior Air India pilot Arvind Kathpalia, who f...  \n",
       "28044  External Affairs Minister Sushma Swaraj's husb...  \n",
       "69176  Scientists at The University of Manchester hav...  \n",
       "53048  Senior journalists accompanying West Bengal CM...  \n",
       "62167  US President Donald Trump has not been invited...  "
      ]
     },
     "execution_count": 5,
     "metadata": {},
     "output_type": "execute_result"
    }
   ],
   "source": [
    "data.sample(10)"
   ]
  },
  {
   "cell_type": "code",
   "execution_count": 6,
   "id": "contrary-gregory",
   "metadata": {},
   "outputs": [
    {
     "data": {
      "text/html": [
       "<div>\n",
       "<style scoped>\n",
       "    .dataframe tbody tr th:only-of-type {\n",
       "        vertical-align: middle;\n",
       "    }\n",
       "\n",
       "    .dataframe tbody tr th {\n",
       "        vertical-align: top;\n",
       "    }\n",
       "\n",
       "    .dataframe thead th {\n",
       "        text-align: right;\n",
       "    }\n",
       "</style>\n",
       "<table border=\"1\" class=\"dataframe\">\n",
       "  <thead>\n",
       "    <tr style=\"text-align: right;\">\n",
       "      <th></th>\n",
       "      <th>headlines</th>\n",
       "      <th>text</th>\n",
       "    </tr>\n",
       "  </thead>\n",
       "  <tbody>\n",
       "    <tr>\n",
       "      <th>0</th>\n",
       "      <td>upGrad learner switches to career in ML &amp; Al w...</td>\n",
       "      <td>Saurav Kant, an alumnus of upGrad and IIIT-B's...</td>\n",
       "    </tr>\n",
       "    <tr>\n",
       "      <th>1</th>\n",
       "      <td>Delhi techie wins free food from Swiggy for on...</td>\n",
       "      <td>Kunal Shah's credit card bill payment platform...</td>\n",
       "    </tr>\n",
       "    <tr>\n",
       "      <th>2</th>\n",
       "      <td>New Zealand end Rohit Sharma-led India's 12-ma...</td>\n",
       "      <td>New Zealand defeated India by 8 wickets in the...</td>\n",
       "    </tr>\n",
       "    <tr>\n",
       "      <th>3</th>\n",
       "      <td>Aegon life iTerm insurance plan helps customer...</td>\n",
       "      <td>With Aegon Life iTerm Insurance plan, customer...</td>\n",
       "    </tr>\n",
       "    <tr>\n",
       "      <th>4</th>\n",
       "      <td>Have known Hirani for yrs, what if MeToo claim...</td>\n",
       "      <td>Speaking about the sexual harassment allegatio...</td>\n",
       "    </tr>\n",
       "  </tbody>\n",
       "</table>\n",
       "</div>"
      ],
      "text/plain": [
       "                                           headlines  \\\n",
       "0  upGrad learner switches to career in ML & Al w...   \n",
       "1  Delhi techie wins free food from Swiggy for on...   \n",
       "2  New Zealand end Rohit Sharma-led India's 12-ma...   \n",
       "3  Aegon life iTerm insurance plan helps customer...   \n",
       "4  Have known Hirani for yrs, what if MeToo claim...   \n",
       "\n",
       "                                                text  \n",
       "0  Saurav Kant, an alumnus of upGrad and IIIT-B's...  \n",
       "1  Kunal Shah's credit card bill payment platform...  \n",
       "2  New Zealand defeated India by 8 wickets in the...  \n",
       "3  With Aegon Life iTerm Insurance plan, customer...  \n",
       "4  Speaking about the sexual harassment allegatio...  "
      ]
     },
     "execution_count": 6,
     "metadata": {},
     "output_type": "execute_result"
    }
   ],
   "source": [
    "data.head()"
   ]
  },
  {
   "cell_type": "code",
   "execution_count": 7,
   "id": "processed-scroll",
   "metadata": {},
   "outputs": [
    {
     "data": {
      "text/html": [
       "<div>\n",
       "<style scoped>\n",
       "    .dataframe tbody tr th:only-of-type {\n",
       "        vertical-align: middle;\n",
       "    }\n",
       "\n",
       "    .dataframe tbody tr th {\n",
       "        vertical-align: top;\n",
       "    }\n",
       "\n",
       "    .dataframe thead th {\n",
       "        text-align: right;\n",
       "    }\n",
       "</style>\n",
       "<table border=\"1\" class=\"dataframe\">\n",
       "  <thead>\n",
       "    <tr style=\"text-align: right;\">\n",
       "      <th></th>\n",
       "      <th>headlines</th>\n",
       "      <th>text</th>\n",
       "    </tr>\n",
       "  </thead>\n",
       "  <tbody>\n",
       "    <tr>\n",
       "      <th>149</th>\n",
       "      <td>MP to get 1,000 cow shelters to house 1 lakh c...</td>\n",
       "      <td>The Madhya Pradesh government will open 1,000 ...</td>\n",
       "    </tr>\n",
       "    <tr>\n",
       "      <th>53509</th>\n",
       "      <td>CBI arrests prime accused in RSS Madras headqu...</td>\n",
       "      <td>The CBI on Friday arrested the key accused in ...</td>\n",
       "    </tr>\n",
       "    <tr>\n",
       "      <th>72595</th>\n",
       "      <td>Shiv Sena praises Mumbai civic body for tackli...</td>\n",
       "      <td>Shiv Sena, the party governing the Brihanmumba...</td>\n",
       "    </tr>\n",
       "    <tr>\n",
       "      <th>95659</th>\n",
       "      <td>Film on youngest girl to climb Everest made ta...</td>\n",
       "      <td>'Poorna', based on Poorna Malavath, world's yo...</td>\n",
       "    </tr>\n",
       "    <tr>\n",
       "      <th>36037</th>\n",
       "      <td>Boy playing video game dies as mobile explodes...</td>\n",
       "      <td>A 12-year-old boy in Chhattisgarh died on Tues...</td>\n",
       "    </tr>\n",
       "    <tr>\n",
       "      <th>91010</th>\n",
       "      <td>Zuckerberg surprises US family at their house ...</td>\n",
       "      <td>Facebook CEO Mark Zuckerberg recently surprise...</td>\n",
       "    </tr>\n",
       "    <tr>\n",
       "      <th>76399</th>\n",
       "      <td>Remains of 9/11 victim identified 16 years aft...</td>\n",
       "      <td>Medical examiners have identified the remains ...</td>\n",
       "    </tr>\n",
       "    <tr>\n",
       "      <th>63858</th>\n",
       "      <td>Amitabh Bachchan is pure addiction: Taapsee Pannu</td>\n",
       "      <td>Actress Tapsee Pannu took to Twitter to share ...</td>\n",
       "    </tr>\n",
       "    <tr>\n",
       "      <th>40997</th>\n",
       "      <td>Ex-techie held for gold theft from jewellery s...</td>\n",
       "      <td>Police have arrested a 34-year-old former soft...</td>\n",
       "    </tr>\n",
       "    <tr>\n",
       "      <th>87646</th>\n",
       "      <td>Trailer of Game of Thrones season 7 released</td>\n",
       "      <td>The trailer of the seventh season of the HBO s...</td>\n",
       "    </tr>\n",
       "    <tr>\n",
       "      <th>25908</th>\n",
       "      <td>Trump told me to sue EU: British PM Theresa May</td>\n",
       "      <td>UK Prime Minister Theresa May has revealed tha...</td>\n",
       "    </tr>\n",
       "    <tr>\n",
       "      <th>40452</th>\n",
       "      <td>PUBG sues rival Fortnite for 'copying' its game</td>\n",
       "      <td>PUBG Corp, creator of PlayerUnknown's Battlegr...</td>\n",
       "    </tr>\n",
       "    <tr>\n",
       "      <th>76632</th>\n",
       "      <td>World united to denuclearise North Korea: US</td>\n",
       "      <td>The United Nations Security Council's unanimou...</td>\n",
       "    </tr>\n",
       "    <tr>\n",
       "      <th>2101</th>\n",
       "      <td>BJP following scorched-earth policy: Chidambaram</td>\n",
       "      <td>Former Finance Minister P Chidambaram on Tuesd...</td>\n",
       "    </tr>\n",
       "    <tr>\n",
       "      <th>67118</th>\n",
       "      <td>Dwayne reveals Maui from 'Moana' inspired by h...</td>\n",
       "      <td>Wrestler-turned-actor Dwayne Johnson has revea...</td>\n",
       "    </tr>\n",
       "  </tbody>\n",
       "</table>\n",
       "</div>"
      ],
      "text/plain": [
       "                                               headlines  \\\n",
       "149    MP to get 1,000 cow shelters to house 1 lakh c...   \n",
       "53509  CBI arrests prime accused in RSS Madras headqu...   \n",
       "72595  Shiv Sena praises Mumbai civic body for tackli...   \n",
       "95659  Film on youngest girl to climb Everest made ta...   \n",
       "36037  Boy playing video game dies as mobile explodes...   \n",
       "91010  Zuckerberg surprises US family at their house ...   \n",
       "76399  Remains of 9/11 victim identified 16 years aft...   \n",
       "63858  Amitabh Bachchan is pure addiction: Taapsee Pannu   \n",
       "40997  Ex-techie held for gold theft from jewellery s...   \n",
       "87646       Trailer of Game of Thrones season 7 released   \n",
       "25908    Trump told me to sue EU: British PM Theresa May   \n",
       "40452    PUBG sues rival Fortnite for 'copying' its game   \n",
       "76632       World united to denuclearise North Korea: US   \n",
       "2101    BJP following scorched-earth policy: Chidambaram   \n",
       "67118  Dwayne reveals Maui from 'Moana' inspired by h...   \n",
       "\n",
       "                                                    text  \n",
       "149    The Madhya Pradesh government will open 1,000 ...  \n",
       "53509  The CBI on Friday arrested the key accused in ...  \n",
       "72595  Shiv Sena, the party governing the Brihanmumba...  \n",
       "95659  'Poorna', based on Poorna Malavath, world's yo...  \n",
       "36037  A 12-year-old boy in Chhattisgarh died on Tues...  \n",
       "91010  Facebook CEO Mark Zuckerberg recently surprise...  \n",
       "76399  Medical examiners have identified the remains ...  \n",
       "63858  Actress Tapsee Pannu took to Twitter to share ...  \n",
       "40997  Police have arrested a 34-year-old former soft...  \n",
       "87646  The trailer of the seventh season of the HBO s...  \n",
       "25908  UK Prime Minister Theresa May has revealed tha...  \n",
       "40452  PUBG Corp, creator of PlayerUnknown's Battlegr...  \n",
       "76632  The United Nations Security Council's unanimou...  \n",
       "2101   Former Finance Minister P Chidambaram on Tuesd...  \n",
       "67118  Wrestler-turned-actor Dwayne Johnson has revea...  "
      ]
     },
     "execution_count": 7,
     "metadata": {},
     "output_type": "execute_result"
    }
   ],
   "source": [
    "data = data[['headlines','text']]\n",
    "data.head()\n",
    "\n",
    "#랜덤한 15개 샘플 출력\n",
    "data.sample(15)"
   ]
  },
  {
   "cell_type": "markdown",
   "id": "english-trade",
   "metadata": {},
   "source": [
    "## Step 2. 데이터 전처리하기 (추상적 요약)"
   ]
  },
  {
   "cell_type": "code",
   "execution_count": 8,
   "id": "impressive-director",
   "metadata": {},
   "outputs": [
    {
     "name": "stdout",
     "output_type": "stream",
     "text": [
      "headlines 열에서 중복을 배제한 유일한 샘플의 수 : 98280\n",
      "text 열에서 중복을 배제한 유일한 샘플의 수 : 98360\n"
     ]
    }
   ],
   "source": [
    "print('headlines 열에서 중복을 배제한 유일한 샘플의 수 :', data['headlines'].nunique())\n",
    "print('text 열에서 중복을 배제한 유일한 샘플의 수 :', data['text'].nunique())"
   ]
  },
  {
   "cell_type": "markdown",
   "id": "remarkable-shell",
   "metadata": {},
   "source": [
    "### 전체 뉴스 수 : 98,401 개 에서 중복되는 headlines와 text가 존재 하므로 제거"
   ]
  },
  {
   "cell_type": "code",
   "execution_count": 9,
   "id": "amino-train",
   "metadata": {},
   "outputs": [
    {
     "name": "stdout",
     "output_type": "stream",
     "text": [
      "전체 샘플수 : 98280\n"
     ]
    }
   ],
   "source": [
    "data.drop_duplicates(subset = ['headlines'], inplace = True)\n",
    "print('전체 샘플수 :',(len(data)))"
   ]
  },
  {
   "cell_type": "markdown",
   "id": "straight-government",
   "metadata": {},
   "source": [
    "### 이번에는 text 에서 중복 제거"
   ]
  },
  {
   "cell_type": "code",
   "execution_count": 10,
   "id": "generic-playing",
   "metadata": {},
   "outputs": [
    {
     "name": "stdout",
     "output_type": "stream",
     "text": [
      "전체 샘플수 : 98262\n"
     ]
    }
   ],
   "source": [
    "data.drop_duplicates(subset = ['text'], inplace = True)\n",
    "print('전체 샘플수 :',(len(data)))"
   ]
  },
  {
   "cell_type": "markdown",
   "id": "presidential-luxury",
   "metadata": {},
   "source": [
    "### NULL 값 확인 해 보니 없습니다."
   ]
  },
  {
   "cell_type": "code",
   "execution_count": 11,
   "id": "widespread-pattern",
   "metadata": {},
   "outputs": [
    {
     "name": "stdout",
     "output_type": "stream",
     "text": [
      "headlines    0\n",
      "text         0\n",
      "dtype: int64\n"
     ]
    }
   ],
   "source": [
    "print(data.isnull().sum())"
   ]
  },
  {
   "cell_type": "markdown",
   "id": "swedish-carry",
   "metadata": {},
   "source": [
    "### 텍스트 정규화 작업"
   ]
  },
  {
   "cell_type": "code",
   "execution_count": 12,
   "id": "upper-viking",
   "metadata": {},
   "outputs": [
    {
     "name": "stdout",
     "output_type": "stream",
     "text": [
      "정규화 사전의 수:  120\n"
     ]
    }
   ],
   "source": [
    "contractions = {\"ain't\": \"is not\", \"aren't\": \"are not\",\"can't\": \"cannot\", \"'cause\": \"because\", \"could've\": \"could have\", \"couldn't\": \"could not\",\n",
    "                           \"didn't\": \"did not\",  \"doesn't\": \"does not\", \"don't\": \"do not\", \"hadn't\": \"had not\", \"hasn't\": \"has not\", \"haven't\": \"have not\",\n",
    "                           \"he'd\": \"he would\",\"he'll\": \"he will\", \"he's\": \"he is\", \"how'd\": \"how did\", \"how'd'y\": \"how do you\", \"how'll\": \"how will\", \"how's\": \"how is\",\n",
    "                           \"I'd\": \"I would\", \"I'd've\": \"I would have\", \"I'll\": \"I will\", \"I'll've\": \"I will have\",\"I'm\": \"I am\", \"I've\": \"I have\", \"i'd\": \"i would\",\n",
    "                           \"i'd've\": \"i would have\", \"i'll\": \"i will\",  \"i'll've\": \"i will have\",\"i'm\": \"i am\", \"i've\": \"i have\", \"isn't\": \"is not\", \"it'd\": \"it would\",\n",
    "                           \"it'd've\": \"it would have\", \"it'll\": \"it will\", \"it'll've\": \"it will have\",\"it's\": \"it is\", \"let's\": \"let us\", \"ma'am\": \"madam\",\n",
    "                           \"mayn't\": \"may not\", \"might've\": \"might have\",\"mightn't\": \"might not\",\"mightn't've\": \"might not have\", \"must've\": \"must have\",\n",
    "                           \"mustn't\": \"must not\", \"mustn't've\": \"must not have\", \"needn't\": \"need not\", \"needn't've\": \"need not have\",\"o'clock\": \"of the clock\",\n",
    "                           \"oughtn't\": \"ought not\", \"oughtn't've\": \"ought not have\", \"shan't\": \"shall not\", \"sha'n't\": \"shall not\", \"shan't've\": \"shall not have\",\n",
    "                           \"she'd\": \"she would\", \"she'd've\": \"she would have\", \"she'll\": \"she will\", \"she'll've\": \"she will have\", \"she's\": \"she is\",\n",
    "                           \"should've\": \"should have\", \"shouldn't\": \"should not\", \"shouldn't've\": \"should not have\", \"so've\": \"so have\",\"so's\": \"so as\",\n",
    "                           \"this's\": \"this is\",\"that'd\": \"that would\", \"that'd've\": \"that would have\", \"that's\": \"that is\", \"there'd\": \"there would\",\n",
    "                           \"there'd've\": \"there would have\", \"there's\": \"there is\", \"here's\": \"here is\",\"they'd\": \"they would\", \"they'd've\": \"they would have\",\n",
    "                           \"they'll\": \"they will\", \"they'll've\": \"they will have\", \"they're\": \"they are\", \"they've\": \"they have\", \"to've\": \"to have\",\n",
    "                           \"wasn't\": \"was not\", \"we'd\": \"we would\", \"we'd've\": \"we would have\", \"we'll\": \"we will\", \"we'll've\": \"we will have\", \"we're\": \"we are\",\n",
    "                           \"we've\": \"we have\", \"weren't\": \"were not\", \"what'll\": \"what will\", \"what'll've\": \"what will have\", \"what're\": \"what are\",\n",
    "                           \"what's\": \"what is\", \"what've\": \"what have\", \"when's\": \"when is\", \"when've\": \"when have\", \"where'd\": \"where did\", \"where's\": \"where is\",\n",
    "                           \"where've\": \"where have\", \"who'll\": \"who will\", \"who'll've\": \"who will have\", \"who's\": \"who is\", \"who've\": \"who have\",\n",
    "                           \"why's\": \"why is\", \"why've\": \"why have\", \"will've\": \"will have\", \"won't\": \"will not\", \"won't've\": \"will not have\",\n",
    "                           \"would've\": \"would have\", \"wouldn't\": \"would not\", \"wouldn't've\": \"would not have\", \"y'all\": \"you all\",\n",
    "                           \"y'all'd\": \"you all would\",\"y'all'd've\": \"you all would have\",\"y'all're\": \"you all are\",\"y'all've\": \"you all have\",\n",
    "                           \"you'd\": \"you would\", \"you'd've\": \"you would have\", \"you'll\": \"you will\", \"you'll've\": \"you will have\",\n",
    "                           \"you're\": \"you are\", \"you've\": \"you have\"}\n",
    "\n",
    "print(\"정규화 사전의 수: \",len(contractions))"
   ]
  },
  {
   "cell_type": "markdown",
   "id": "dirty-accreditation",
   "metadata": {},
   "source": [
    "### 불용어 개수 179개"
   ]
  },
  {
   "cell_type": "code",
   "execution_count": 13,
   "id": "north-dance",
   "metadata": {},
   "outputs": [
    {
     "name": "stdout",
     "output_type": "stream",
     "text": [
      "불용어 개수 : 179\n",
      "['i', 'me', 'my', 'myself', 'we', 'our', 'ours', 'ourselves', 'you', \"you're\", \"you've\", \"you'll\", \"you'd\", 'your', 'yours', 'yourself', 'yourselves', 'he', 'him', 'his', 'himself', 'she', \"she's\", 'her', 'hers', 'herself', 'it', \"it's\", 'its', 'itself', 'they', 'them', 'their', 'theirs', 'themselves', 'what', 'which', 'who', 'whom', 'this', 'that', \"that'll\", 'these', 'those', 'am', 'is', 'are', 'was', 'were', 'be', 'been', 'being', 'have', 'has', 'had', 'having', 'do', 'does', 'did', 'doing', 'a', 'an', 'the', 'and', 'but', 'if', 'or', 'because', 'as', 'until', 'while', 'of', 'at', 'by', 'for', 'with', 'about', 'against', 'between', 'into', 'through', 'during', 'before', 'after', 'above', 'below', 'to', 'from', 'up', 'down', 'in', 'out', 'on', 'off', 'over', 'under', 'again', 'further', 'then', 'once', 'here', 'there', 'when', 'where', 'why', 'how', 'all', 'any', 'both', 'each', 'few', 'more', 'most', 'other', 'some', 'such', 'no', 'nor', 'not', 'only', 'own', 'same', 'so', 'than', 'too', 'very', 's', 't', 'can', 'will', 'just', 'don', \"don't\", 'should', \"should've\", 'now', 'd', 'll', 'm', 'o', 're', 've', 'y', 'ain', 'aren', \"aren't\", 'couldn', \"couldn't\", 'didn', \"didn't\", 'doesn', \"doesn't\", 'hadn', \"hadn't\", 'hasn', \"hasn't\", 'haven', \"haven't\", 'isn', \"isn't\", 'ma', 'mightn', \"mightn't\", 'mustn', \"mustn't\", 'needn', \"needn't\", 'shan', \"shan't\", 'shouldn', \"shouldn't\", 'wasn', \"wasn't\", 'weren', \"weren't\", 'won', \"won't\", 'wouldn', \"wouldn't\"]\n"
     ]
    }
   ],
   "source": [
    "print('불용어 개수 :', len(stopwords.words('english') ))\n",
    "print(stopwords.words('english'))"
   ]
  },
  {
   "cell_type": "markdown",
   "id": "interim-caution",
   "metadata": {},
   "source": [
    "### 데이터 전처리 함수"
   ]
  },
  {
   "cell_type": "code",
   "execution_count": 14,
   "id": "wooden-dragon",
   "metadata": {},
   "outputs": [],
   "source": [
    "#데이터 전처리 함수\n",
    "def preprocess_sentence(sentence, remove_stopwords=True):\n",
    "    sentence = sentence.lower() # 텍스트 소문자화\n",
    "    sentence = BeautifulSoup(sentence, \"lxml\").text # <br />, <a href = ...> 등의 html 태그 제거\n",
    "    sentence = re.sub(r'\\([^)]*\\)', '', sentence) # 괄호로 닫힌 문자열 (...) 제거 Ex) my husband (and myself!) for => my husband for\n",
    "    sentence = re.sub('\"','', sentence) # 쌍따옴표 \" 제거\n",
    "    sentence = ' '.join([contractions[t] if t in contractions else t for t in sentence.split(\" \")]) # 약어 정규화\n",
    "    sentence = re.sub(r\"'s\\b\",\"\",sentence) # 소유격 제거. Ex) roland's -> roland\n",
    "    sentence = re.sub(\"[^a-zA-Z]\", \" \", sentence) # 영어 외 문자(숫자, 특수문자 등) 공백으로 변환\n",
    "    sentence = re.sub('[m]{2,}', 'mm', sentence) # m이 3개 이상이면 2개로 변경. Ex) ummmmmmm yeah -> umm yeah\n",
    "    \n",
    "    # 불용어 제거 (Text)\n",
    "    if remove_stopwords:\n",
    "        tokens = ' '.join(word for word in sentence.split() if not word in stopwords.words('english') if len(word) > 1)\n",
    "    # 불용어 미제거 (Summary)\n",
    "    else:\n",
    "        tokens = ' '.join(word for word in sentence.split() if len(word) > 1)\n",
    "    return tokens"
   ]
  },
  {
   "cell_type": "markdown",
   "id": "angry-choir",
   "metadata": {},
   "source": [
    "### 데이터 전처리 함수 테스트로 사용해 보기"
   ]
  },
  {
   "cell_type": "code",
   "execution_count": 19,
   "id": "polish-absorption",
   "metadata": {},
   "outputs": [
    {
     "name": "stdout",
     "output_type": "stream",
     "text": [
      "불용어 제거된 text 내용 :  everything bought great infact ordered twice third ordered wasfor mother father\n",
      "불용어 제거되지 않는 summary 내용 :  great way to start the day\n"
     ]
    }
   ],
   "source": [
    "temp_text = 'Everything I bought was great, infact I ordered twice and the third ordered was<br />for my mother and father.'\n",
    "temp_summary = 'Great way to start (or finish) the day!!!'\n",
    "\n",
    "print('불용어 제거된 text 내용 : ', preprocess_sentence(temp_text))\n",
    "print('불용어 제거되지 않는 summary 내용 : ', preprocess_sentence(temp_summary, False))  # 불용어를 제거하지 않습니다."
   ]
  },
  {
   "cell_type": "markdown",
   "id": "agricultural-insertion",
   "metadata": {},
   "source": [
    "### 전체 텍스트 전처리 작업"
   ]
  },
  {
   "cell_type": "code",
   "execution_count": 20,
   "id": "three-nomination",
   "metadata": {},
   "outputs": [
    {
     "data": {
      "text/plain": [
       "['saurav kant alumnus upgrad iiit pg program machine learning artificial intelligence sr systems engineer infosys almost years work experience program upgrad degree career support helped transition data scientist tech mahindra salary hike upgrad online power learning powered lakh careers',\n",
       " 'kunal shah credit card bill payment platform cred gave users chance win free food swiggy one year pranav kaushik delhi techie bagged reward spending cred coins users get one cred coin per rupee bill paid used avail rewards brands like ixigo bookmyshow ubereats cult fit',\n",
       " 'new zealand defeated india wickets fourth odi hamilton thursday win first match five match odi series india lost international match rohit sharma captaincy consecutive victories dating back march match witnessed india getting seventh lowest total odi cricket history',\n",
       " 'aegon life iterm insurance plan customers enjoy tax benefits premiums paid save taxes plan provides life cover age years also customers options insure critical illnesses disability accidental death benefit rider life cover age years',\n",
       " 'speaking sexual harassment allegations rajkumar hirani sonam kapoor said known hirani many years true metoo movement get derailed metoo movement always believe woman case need reserve judgment added hirani accused assistant worked sanju']"
      ]
     },
     "execution_count": 20,
     "metadata": {},
     "output_type": "execute_result"
    }
   ],
   "source": [
    "clean_text = []\n",
    "\n",
    "# 전체 Text 데이터에 대한 전처리 : 10분 이상 시간이 걸릴 수 있습니다. \n",
    "for s in data['text']:\n",
    "    clean_text.append(preprocess_sentence(s))\n",
    "\n",
    "# 전처리 후 출력\n",
    "clean_text[:5]"
   ]
  },
  {
   "cell_type": "markdown",
   "id": "composite-hollywood",
   "metadata": {},
   "source": [
    "### 전체 headlines 데이터에 대한 전처리"
   ]
  },
  {
   "cell_type": "code",
   "execution_count": 21,
   "id": "informed-words",
   "metadata": {},
   "outputs": [
    {
     "data": {
      "text/plain": [
       "['upgrad learner switches to career in ml al with salary hike',\n",
       " 'delhi techie wins free food from swiggy for one year on cred',\n",
       " 'new zealand end rohit sharma led india match winning streak',\n",
       " 'aegon life iterm insurance plan helps customers save tax',\n",
       " 'have known hirani for yrs what if metoo claims are not true sonam']"
      ]
     },
     "execution_count": 21,
     "metadata": {},
     "output_type": "execute_result"
    }
   ],
   "source": [
    "clean_summary = []\n",
    "\n",
    "\n",
    "for s in data['headlines']:\n",
    "    clean_summary.append(preprocess_sentence(s, False))\n",
    "\n",
    "clean_summary[:5]"
   ]
  },
  {
   "cell_type": "markdown",
   "id": "naked-oakland",
   "metadata": {},
   "source": [
    "### 빈(empty) 값을 가진 샘플들이 있다면, 모두 Null 값을 가진 샘플로 대체"
   ]
  },
  {
   "cell_type": "code",
   "execution_count": 24,
   "id": "precise-exhibit",
   "metadata": {},
   "outputs": [
    {
     "data": {
      "text/html": [
       "<div>\n",
       "<style scoped>\n",
       "    .dataframe tbody tr th:only-of-type {\n",
       "        vertical-align: middle;\n",
       "    }\n",
       "\n",
       "    .dataframe tbody tr th {\n",
       "        vertical-align: top;\n",
       "    }\n",
       "\n",
       "    .dataframe thead th {\n",
       "        text-align: right;\n",
       "    }\n",
       "</style>\n",
       "<table border=\"1\" class=\"dataframe\">\n",
       "  <thead>\n",
       "    <tr style=\"text-align: right;\">\n",
       "      <th></th>\n",
       "      <th>headlines</th>\n",
       "      <th>text</th>\n",
       "      <th>Text</th>\n",
       "      <th>Summary</th>\n",
       "    </tr>\n",
       "  </thead>\n",
       "  <tbody>\n",
       "    <tr>\n",
       "      <th>0</th>\n",
       "      <td>upgrad learner switches to career in ml al wit...</td>\n",
       "      <td>saurav kant alumnus upgrad iiit pg program mac...</td>\n",
       "      <td>saurav kant alumnus upgrad iiit pg program mac...</td>\n",
       "      <td>upgrad learner switches to career in ml al wit...</td>\n",
       "    </tr>\n",
       "    <tr>\n",
       "      <th>1</th>\n",
       "      <td>delhi techie wins free food from swiggy for on...</td>\n",
       "      <td>kunal shah credit card bill payment platform c...</td>\n",
       "      <td>kunal shah credit card bill payment platform c...</td>\n",
       "      <td>delhi techie wins free food from swiggy for on...</td>\n",
       "    </tr>\n",
       "    <tr>\n",
       "      <th>2</th>\n",
       "      <td>new zealand end rohit sharma led india match w...</td>\n",
       "      <td>new zealand defeated india wickets fourth odi ...</td>\n",
       "      <td>new zealand defeated india wickets fourth odi ...</td>\n",
       "      <td>new zealand end rohit sharma led india match w...</td>\n",
       "    </tr>\n",
       "    <tr>\n",
       "      <th>3</th>\n",
       "      <td>aegon life iterm insurance plan helps customer...</td>\n",
       "      <td>aegon life iterm insurance plan customers enjo...</td>\n",
       "      <td>aegon life iterm insurance plan customers enjo...</td>\n",
       "      <td>aegon life iterm insurance plan helps customer...</td>\n",
       "    </tr>\n",
       "    <tr>\n",
       "      <th>4</th>\n",
       "      <td>have known hirani for yrs what if metoo claims...</td>\n",
       "      <td>speaking sexual harassment allegations rajkuma...</td>\n",
       "      <td>speaking sexual harassment allegations rajkuma...</td>\n",
       "      <td>have known hirani for yrs what if metoo claims...</td>\n",
       "    </tr>\n",
       "  </tbody>\n",
       "</table>\n",
       "</div>"
      ],
      "text/plain": [
       "                                           headlines  \\\n",
       "0  upgrad learner switches to career in ml al wit...   \n",
       "1  delhi techie wins free food from swiggy for on...   \n",
       "2  new zealand end rohit sharma led india match w...   \n",
       "3  aegon life iterm insurance plan helps customer...   \n",
       "4  have known hirani for yrs what if metoo claims...   \n",
       "\n",
       "                                                text  \\\n",
       "0  saurav kant alumnus upgrad iiit pg program mac...   \n",
       "1  kunal shah credit card bill payment platform c...   \n",
       "2  new zealand defeated india wickets fourth odi ...   \n",
       "3  aegon life iterm insurance plan customers enjo...   \n",
       "4  speaking sexual harassment allegations rajkuma...   \n",
       "\n",
       "                                                Text  \\\n",
       "0  saurav kant alumnus upgrad iiit pg program mac...   \n",
       "1  kunal shah credit card bill payment platform c...   \n",
       "2  new zealand defeated india wickets fourth odi ...   \n",
       "3  aegon life iterm insurance plan customers enjo...   \n",
       "4  speaking sexual harassment allegations rajkuma...   \n",
       "\n",
       "                                             Summary  \n",
       "0  upgrad learner switches to career in ml al wit...  \n",
       "1  delhi techie wins free food from swiggy for on...  \n",
       "2  new zealand end rohit sharma led india match w...  \n",
       "3  aegon life iterm insurance plan helps customer...  \n",
       "4  have known hirani for yrs what if metoo claims...  "
      ]
     },
     "execution_count": 24,
     "metadata": {},
     "output_type": "execute_result"
    }
   ],
   "source": [
    "data['text'] = clean_text\n",
    "data['headlines'] = clean_summary\n",
    "\n",
    "# 빈 값을 Null 값으로 변환\n",
    "data.replace('', np.nan, inplace=True)\n",
    "data.head()"
   ]
  },
  {
   "cell_type": "markdown",
   "id": "massive-collection",
   "metadata": {},
   "source": [
    "### 실수로 컬럼이 추가가 되어 버렸다."
   ]
  },
  {
   "cell_type": "code",
   "execution_count": 28,
   "id": "certified-services",
   "metadata": {},
   "outputs": [
    {
     "data": {
      "text/html": [
       "<div>\n",
       "<style scoped>\n",
       "    .dataframe tbody tr th:only-of-type {\n",
       "        vertical-align: middle;\n",
       "    }\n",
       "\n",
       "    .dataframe tbody tr th {\n",
       "        vertical-align: top;\n",
       "    }\n",
       "\n",
       "    .dataframe thead th {\n",
       "        text-align: right;\n",
       "    }\n",
       "</style>\n",
       "<table border=\"1\" class=\"dataframe\">\n",
       "  <thead>\n",
       "    <tr style=\"text-align: right;\">\n",
       "      <th></th>\n",
       "      <th>headlines</th>\n",
       "      <th>text</th>\n",
       "    </tr>\n",
       "  </thead>\n",
       "  <tbody>\n",
       "    <tr>\n",
       "      <th>0</th>\n",
       "      <td>upgrad learner switches to career in ml al wit...</td>\n",
       "      <td>saurav kant alumnus upgrad iiit pg program mac...</td>\n",
       "    </tr>\n",
       "    <tr>\n",
       "      <th>1</th>\n",
       "      <td>delhi techie wins free food from swiggy for on...</td>\n",
       "      <td>kunal shah credit card bill payment platform c...</td>\n",
       "    </tr>\n",
       "    <tr>\n",
       "      <th>2</th>\n",
       "      <td>new zealand end rohit sharma led india match w...</td>\n",
       "      <td>new zealand defeated india wickets fourth odi ...</td>\n",
       "    </tr>\n",
       "    <tr>\n",
       "      <th>3</th>\n",
       "      <td>aegon life iterm insurance plan helps customer...</td>\n",
       "      <td>aegon life iterm insurance plan customers enjo...</td>\n",
       "    </tr>\n",
       "    <tr>\n",
       "      <th>4</th>\n",
       "      <td>have known hirani for yrs what if metoo claims...</td>\n",
       "      <td>speaking sexual harassment allegations rajkuma...</td>\n",
       "    </tr>\n",
       "  </tbody>\n",
       "</table>\n",
       "</div>"
      ],
      "text/plain": [
       "                                           headlines  \\\n",
       "0  upgrad learner switches to career in ml al wit...   \n",
       "1  delhi techie wins free food from swiggy for on...   \n",
       "2  new zealand end rohit sharma led india match w...   \n",
       "3  aegon life iterm insurance plan helps customer...   \n",
       "4  have known hirani for yrs what if metoo claims...   \n",
       "\n",
       "                                                text  \n",
       "0  saurav kant alumnus upgrad iiit pg program mac...  \n",
       "1  kunal shah credit card bill payment platform c...  \n",
       "2  new zealand defeated india wickets fourth odi ...  \n",
       "3  aegon life iterm insurance plan customers enjo...  \n",
       "4  speaking sexual harassment allegations rajkuma...  "
      ]
     },
     "execution_count": 28,
     "metadata": {},
     "output_type": "execute_result"
    }
   ],
   "source": [
    "data=data.drop([data.columns[2], data.columns[3]], axis=1)\n",
    "data.head()"
   ]
  },
  {
   "cell_type": "code",
   "execution_count": 29,
   "id": "arranged-education",
   "metadata": {},
   "outputs": [
    {
     "data": {
      "text/plain": [
       "headlines    0\n",
       "text         0\n",
       "dtype: int64"
      ]
     },
     "execution_count": 29,
     "metadata": {},
     "output_type": "execute_result"
    }
   ],
   "source": [
    "data.isnull().sum()"
   ]
  },
  {
   "cell_type": "markdown",
   "id": "governing-leeds",
   "metadata": {},
   "source": [
    "#### null 값 없다"
   ]
  },
  {
   "cell_type": "markdown",
   "id": "devoted-speaking",
   "metadata": {},
   "source": [
    "### 훈련데이터와 테스트데이터 나누기"
   ]
  },
  {
   "cell_type": "code",
   "execution_count": 30,
   "id": "operating-credits",
   "metadata": {},
   "outputs": [
    {
     "name": "stdout",
     "output_type": "stream",
     "text": [
      "텍스트의 최소 길이 : 1\n",
      "텍스트의 최대 길이 : 60\n",
      "텍스트의 평균 길이 : 35.10029309397326\n",
      "요약의 최소 길이 : 1\n",
      "요약의 최대 길이 : 16\n",
      "요약의 평균 길이 : 9.299444342675704\n"
     ]
    },
    {
     "data": {
      "image/png": "[encoded data removed]",
      "text/plain": [
       "<Figure size 432x288 with 2 Axes>"
      ]
     },
     "metadata": {
      "needs_background": "light"
     },
     "output_type": "display_data"
    },
    {
     "data": {
      "image/png": "[encoded data removed]",
      "text/plain": [
       "<Figure size 432x288 with 1 Axes>"
      ]
     },
     "metadata": {
      "needs_background": "light"
     },
     "output_type": "display_data"
    },
    {
     "data": {
      "image/png": "[encoded data removed]",
      "text/plain": [
       "<Figure size 432x288 with 1 Axes>"
      ]
     },
     "metadata": {
      "needs_background": "light"
     },
     "output_type": "display_data"
    }
   ],
   "source": [
    "# 길이 분포 출력\n",
    "import matplotlib.pyplot as plt\n",
    "\n",
    "text_len = [len(s.split()) for s in data['text']]\n",
    "summary_len = [len(s.split()) for s in data['headlines']]\n",
    "\n",
    "print('텍스트의 최소 길이 : {}'.format(np.min(text_len)))\n",
    "print('텍스트의 최대 길이 : {}'.format(np.max(text_len)))\n",
    "print('텍스트의 평균 길이 : {}'.format(np.mean(text_len)))\n",
    "print('요약의 최소 길이 : {}'.format(np.min(summary_len)))\n",
    "print('요약의 최대 길이 : {}'.format(np.max(summary_len)))\n",
    "print('요약의 평균 길이 : {}'.format(np.mean(summary_len)))\n",
    "\n",
    "plt.subplot(1,2,1)\n",
    "plt.boxplot(summary_len)\n",
    "plt.title('headlines')\n",
    "plt.subplot(1,2,2)\n",
    "plt.boxplot(text_len)\n",
    "plt.title('text')\n",
    "plt.tight_layout()\n",
    "plt.show()\n",
    "\n",
    "plt.title('headlines')\n",
    "plt.hist(summary_len, bins = 40)\n",
    "plt.xlabel('length of samples')\n",
    "plt.ylabel('number of samples')\n",
    "plt.show()\n",
    "\n",
    "plt.title('text')\n",
    "plt.hist(text_len, bins = 40)\n",
    "plt.xlabel('length of samples')\n",
    "plt.ylabel('number of samples')\n",
    "plt.show()"
   ]
  },
  {
   "cell_type": "markdown",
   "id": "czech-brighton",
   "metadata": {},
   "source": [
    "### 데이터 길이 제한"
   ]
  },
  {
   "cell_type": "code",
   "execution_count": 31,
   "id": "collect-kingston",
   "metadata": {},
   "outputs": [],
   "source": [
    "text_max_len = 50\n",
    "summary_max_len = 8"
   ]
  },
  {
   "cell_type": "code",
   "execution_count": 33,
   "id": "ultimate-implement",
   "metadata": {},
   "outputs": [],
   "source": [
    "def below_threshold_len(max_len, nested_list):\n",
    "  cnt = 0\n",
    "  for s in nested_list:\n",
    "    if(len(s.split()) <= max_len):\n",
    "        cnt = cnt + 1\n",
    "  print('전체 샘플 중 길이가 %s 이하인 샘플의 비율: %s'%(max_len, (cnt / len(nested_list))))"
   ]
  },
  {
   "cell_type": "code",
   "execution_count": 34,
   "id": "whole-abortion",
   "metadata": {},
   "outputs": [
    {
     "name": "stdout",
     "output_type": "stream",
     "text": [
      "전체 샘플 중 길이가 50 이하인 샘플의 비율: 0.999857523763001\n",
      "전체 샘플 중 길이가 8 이하인 샘플의 비율: 0.2755999267265067\n"
     ]
    }
   ],
   "source": [
    "below_threshold_len(text_max_len, data['text'])\n",
    "below_threshold_len(summary_max_len,  data['headlines'])"
   ]
  },
  {
   "cell_type": "code",
   "execution_count": 35,
   "id": "unlimited-mining",
   "metadata": {},
   "outputs": [
    {
     "name": "stdout",
     "output_type": "stream",
     "text": [
      "전체 샘플수 : 27081\n"
     ]
    }
   ],
   "source": [
    "data = data[data['text'].apply(lambda x: len(x.split()) <= text_max_len)]\n",
    "data = data[data['headlines'].apply(lambda x: len(x.split()) <= summary_max_len)]\n",
    "print('전체 샘플수 :',(len(data)))"
   ]
  },
  {
   "cell_type": "markdown",
   "id": "spare-poverty",
   "metadata": {},
   "source": [
    "### 시작 토큰과 종료 토큰 추가하기"
   ]
  },
  {
   "cell_type": "code",
   "execution_count": 36,
   "id": "severe-bronze",
   "metadata": {},
   "outputs": [
    {
     "data": {
      "text/html": [
       "<div>\n",
       "<style scoped>\n",
       "    .dataframe tbody tr th:only-of-type {\n",
       "        vertical-align: middle;\n",
       "    }\n",
       "\n",
       "    .dataframe tbody tr th {\n",
       "        vertical-align: top;\n",
       "    }\n",
       "\n",
       "    .dataframe thead th {\n",
       "        text-align: right;\n",
       "    }\n",
       "</style>\n",
       "<table border=\"1\" class=\"dataframe\">\n",
       "  <thead>\n",
       "    <tr style=\"text-align: right;\">\n",
       "      <th></th>\n",
       "      <th>headlines</th>\n",
       "      <th>text</th>\n",
       "      <th>decoder_input</th>\n",
       "      <th>decoder_target</th>\n",
       "    </tr>\n",
       "  </thead>\n",
       "  <tbody>\n",
       "    <tr>\n",
       "      <th>19</th>\n",
       "      <td>odisha cm patnaik controls mining mafia union ...</td>\n",
       "      <td>union minister dharmendra pradhan wednesday cl...</td>\n",
       "      <td>sostoken odisha cm patnaik controls mining maf...</td>\n",
       "      <td>odisha cm patnaik controls mining mafia union ...</td>\n",
       "    </tr>\n",
       "    <tr>\n",
       "      <th>21</th>\n",
       "      <td>isro unveils bengaluru centre for manned space...</td>\n",
       "      <td>indian space research organisation wednesday u...</td>\n",
       "      <td>sostoken isro unveils bengaluru centre for man...</td>\n",
       "      <td>isro unveils bengaluru centre for manned space...</td>\n",
       "    </tr>\n",
       "    <tr>\n",
       "      <th>22</th>\n",
       "      <td>killed injured in saudi arabia floods</td>\n",
       "      <td>least people killed others injured saudi arabi...</td>\n",
       "      <td>sostoken killed injured in saudi arabia floods</td>\n",
       "      <td>killed injured in saudi arabia floods eostoken</td>\n",
       "    </tr>\n",
       "    <tr>\n",
       "      <th>29</th>\n",
       "      <td>seat cushions from missing plane carrying foot...</td>\n",
       "      <td>investigators searching lost plane carrying ar...</td>\n",
       "      <td>sostoken seat cushions from missing plane carr...</td>\n",
       "      <td>seat cushions from missing plane carrying foot...</td>\n",
       "    </tr>\n",
       "    <tr>\n",
       "      <th>36</th>\n",
       "      <td>agustawestland scam accused rajiv saxena extra...</td>\n",
       "      <td>agustawestland chopper scam co accused rajiv s...</td>\n",
       "      <td>sostoken agustawestland scam accused rajiv sax...</td>\n",
       "      <td>agustawestland scam accused rajiv saxena extra...</td>\n",
       "    </tr>\n",
       "  </tbody>\n",
       "</table>\n",
       "</div>"
      ],
      "text/plain": [
       "                                            headlines  \\\n",
       "19  odisha cm patnaik controls mining mafia union ...   \n",
       "21  isro unveils bengaluru centre for manned space...   \n",
       "22              killed injured in saudi arabia floods   \n",
       "29  seat cushions from missing plane carrying foot...   \n",
       "36  agustawestland scam accused rajiv saxena extra...   \n",
       "\n",
       "                                                 text  \\\n",
       "19  union minister dharmendra pradhan wednesday cl...   \n",
       "21  indian space research organisation wednesday u...   \n",
       "22  least people killed others injured saudi arabi...   \n",
       "29  investigators searching lost plane carrying ar...   \n",
       "36  agustawestland chopper scam co accused rajiv s...   \n",
       "\n",
       "                                        decoder_input  \\\n",
       "19  sostoken odisha cm patnaik controls mining maf...   \n",
       "21  sostoken isro unveils bengaluru centre for man...   \n",
       "22     sostoken killed injured in saudi arabia floods   \n",
       "29  sostoken seat cushions from missing plane carr...   \n",
       "36  sostoken agustawestland scam accused rajiv sax...   \n",
       "\n",
       "                                       decoder_target  \n",
       "19  odisha cm patnaik controls mining mafia union ...  \n",
       "21  isro unveils bengaluru centre for manned space...  \n",
       "22     killed injured in saudi arabia floods eostoken  \n",
       "29  seat cushions from missing plane carrying foot...  \n",
       "36  agustawestland scam accused rajiv saxena extra...  "
      ]
     },
     "execution_count": 36,
     "metadata": {},
     "output_type": "execute_result"
    }
   ],
   "source": [
    "#요약 데이터에는 시작 토큰과 종료 토큰을 추가한다.\n",
    "data['decoder_input'] = data['headlines'].apply(lambda x : 'sostoken '+ x)\n",
    "data['decoder_target'] = data['headlines'].apply(lambda x : x + ' eostoken')\n",
    "data.head()"
   ]
  },
  {
   "cell_type": "markdown",
   "id": "serious-scale",
   "metadata": {},
   "source": [
    "### 인코더/ 디코더 입력"
   ]
  },
  {
   "cell_type": "code",
   "execution_count": 37,
   "id": "canadian-therapist",
   "metadata": {},
   "outputs": [
    {
     "data": {
      "text/html": [
       "<div>\n",
       "<style scoped>\n",
       "    .dataframe tbody tr th:only-of-type {\n",
       "        vertical-align: middle;\n",
       "    }\n",
       "\n",
       "    .dataframe tbody tr th {\n",
       "        vertical-align: top;\n",
       "    }\n",
       "\n",
       "    .dataframe thead th {\n",
       "        text-align: right;\n",
       "    }\n",
       "</style>\n",
       "<table border=\"1\" class=\"dataframe\">\n",
       "  <thead>\n",
       "    <tr style=\"text-align: right;\">\n",
       "      <th></th>\n",
       "      <th>headlines</th>\n",
       "      <th>text</th>\n",
       "      <th>decoder_input</th>\n",
       "      <th>decoder_target</th>\n",
       "    </tr>\n",
       "  </thead>\n",
       "  <tbody>\n",
       "    <tr>\n",
       "      <th>19</th>\n",
       "      <td>odisha cm patnaik controls mining mafia union ...</td>\n",
       "      <td>union minister dharmendra pradhan wednesday cl...</td>\n",
       "      <td>sostoken odisha cm patnaik controls mining maf...</td>\n",
       "      <td>odisha cm patnaik controls mining mafia union ...</td>\n",
       "    </tr>\n",
       "    <tr>\n",
       "      <th>21</th>\n",
       "      <td>isro unveils bengaluru centre for manned space...</td>\n",
       "      <td>indian space research organisation wednesday u...</td>\n",
       "      <td>sostoken isro unveils bengaluru centre for man...</td>\n",
       "      <td>isro unveils bengaluru centre for manned space...</td>\n",
       "    </tr>\n",
       "    <tr>\n",
       "      <th>22</th>\n",
       "      <td>killed injured in saudi arabia floods</td>\n",
       "      <td>least people killed others injured saudi arabi...</td>\n",
       "      <td>sostoken killed injured in saudi arabia floods</td>\n",
       "      <td>killed injured in saudi arabia floods eostoken</td>\n",
       "    </tr>\n",
       "    <tr>\n",
       "      <th>29</th>\n",
       "      <td>seat cushions from missing plane carrying foot...</td>\n",
       "      <td>investigators searching lost plane carrying ar...</td>\n",
       "      <td>sostoken seat cushions from missing plane carr...</td>\n",
       "      <td>seat cushions from missing plane carrying foot...</td>\n",
       "    </tr>\n",
       "    <tr>\n",
       "      <th>36</th>\n",
       "      <td>agustawestland scam accused rajiv saxena extra...</td>\n",
       "      <td>agustawestland chopper scam co accused rajiv s...</td>\n",
       "      <td>sostoken agustawestland scam accused rajiv sax...</td>\n",
       "      <td>agustawestland scam accused rajiv saxena extra...</td>\n",
       "    </tr>\n",
       "  </tbody>\n",
       "</table>\n",
       "</div>"
      ],
      "text/plain": [
       "                                            headlines  \\\n",
       "19  odisha cm patnaik controls mining mafia union ...   \n",
       "21  isro unveils bengaluru centre for manned space...   \n",
       "22              killed injured in saudi arabia floods   \n",
       "29  seat cushions from missing plane carrying foot...   \n",
       "36  agustawestland scam accused rajiv saxena extra...   \n",
       "\n",
       "                                                 text  \\\n",
       "19  union minister dharmendra pradhan wednesday cl...   \n",
       "21  indian space research organisation wednesday u...   \n",
       "22  least people killed others injured saudi arabi...   \n",
       "29  investigators searching lost plane carrying ar...   \n",
       "36  agustawestland chopper scam co accused rajiv s...   \n",
       "\n",
       "                                        decoder_input  \\\n",
       "19  sostoken odisha cm patnaik controls mining maf...   \n",
       "21  sostoken isro unveils bengaluru centre for man...   \n",
       "22     sostoken killed injured in saudi arabia floods   \n",
       "29  sostoken seat cushions from missing plane carr...   \n",
       "36  sostoken agustawestland scam accused rajiv sax...   \n",
       "\n",
       "                                       decoder_target  \n",
       "19  odisha cm patnaik controls mining mafia union ...  \n",
       "21  isro unveils bengaluru centre for manned space...  \n",
       "22     killed injured in saudi arabia floods eostoken  \n",
       "29  seat cushions from missing plane carrying foot...  \n",
       "36  agustawestland scam accused rajiv saxena extra...  "
      ]
     },
     "execution_count": 37,
     "metadata": {},
     "output_type": "execute_result"
    }
   ],
   "source": [
    "encoder_input = np.array(data['text']) # 인코더의 입력\n",
    "decoder_input = np.array(data['decoder_input']) # 디코더의 입력\n",
    "decoder_target = np.array(data['decoder_target']) # 디코더의 레이블\n",
    "data.head()"
   ]
  },
  {
   "cell_type": "markdown",
   "id": "academic-contemporary",
   "metadata": {},
   "source": [
    "### 정수 시퀀스 만들기"
   ]
  },
  {
   "cell_type": "code",
   "execution_count": 38,
   "id": "scientific-worthy",
   "metadata": {},
   "outputs": [
    {
     "name": "stdout",
     "output_type": "stream",
     "text": [
      "[23721  7762 11504 ... 19424  6558  7982]\n"
     ]
    }
   ],
   "source": [
    "indices = np.arange(encoder_input.shape[0])\n",
    "np.random.shuffle(indices)\n",
    "print(indices)"
   ]
  },
  {
   "cell_type": "markdown",
   "id": "alien-mouth",
   "metadata": {},
   "source": [
    "### 샘플 순서 섞기"
   ]
  },
  {
   "cell_type": "code",
   "execution_count": 39,
   "id": "dutch-scale",
   "metadata": {},
   "outputs": [],
   "source": [
    "encoder_input = encoder_input[indices]\n",
    "decoder_input = decoder_input[indices]\n",
    "decoder_target = decoder_target[indices]"
   ]
  },
  {
   "cell_type": "markdown",
   "id": "meaning-cabin",
   "metadata": {},
   "source": [
    "### 훈련데이터와 테스트 데이터 나누기  8:2 가르마"
   ]
  },
  {
   "cell_type": "code",
   "execution_count": 40,
   "id": "solved-clark",
   "metadata": {},
   "outputs": [
    {
     "name": "stdout",
     "output_type": "stream",
     "text": [
      "테스트 데이터의 수 : 5416\n"
     ]
    }
   ],
   "source": [
    "n_of_val = int(len(encoder_input)*0.2)\n",
    "print('테스트 데이터의 수 :',n_of_val)"
   ]
  },
  {
   "cell_type": "code",
   "execution_count": 41,
   "id": "unavailable-escape",
   "metadata": {},
   "outputs": [
    {
     "name": "stdout",
     "output_type": "stream",
     "text": [
      "훈련 데이터의 개수 : 21665\n",
      "훈련 레이블의 개수 : 21665\n",
      "테스트 데이터의 개수 : 5416\n",
      "테스트 레이블의 개수 : 5416\n"
     ]
    }
   ],
   "source": [
    "encoder_input_train = encoder_input[:-n_of_val]\n",
    "decoder_input_train = decoder_input[:-n_of_val]\n",
    "decoder_target_train = decoder_target[:-n_of_val]\n",
    "\n",
    "encoder_input_test = encoder_input[-n_of_val:]\n",
    "decoder_input_test = decoder_input[-n_of_val:]\n",
    "decoder_target_test = decoder_target[-n_of_val:]\n",
    "\n",
    "print('훈련 데이터의 개수 :', len(encoder_input_train))\n",
    "print('훈련 레이블의 개수 :',len(decoder_input_train))\n",
    "print('테스트 데이터의 개수 :',len(encoder_input_test))\n",
    "print('테스트 레이블의 개수 :',len(decoder_input_test))"
   ]
  },
  {
   "cell_type": "markdown",
   "id": "growing-twins",
   "metadata": {},
   "source": [
    "### 토큰 생성"
   ]
  },
  {
   "cell_type": "code",
   "execution_count": 42,
   "id": "biological-appendix",
   "metadata": {},
   "outputs": [],
   "source": [
    "src_tokenizer = Tokenizer() # 토크나이저 정의\n",
    "src_tokenizer.fit_on_texts(encoder_input_train) # 입력된 데이터로부터 단어 집합 생성"
   ]
  },
  {
   "cell_type": "markdown",
   "id": "military-trust",
   "metadata": {},
   "source": [
    "### 등장 횟수가 낮은 단어는 제외 하기"
   ]
  },
  {
   "cell_type": "code",
   "execution_count": 43,
   "id": "apart-mambo",
   "metadata": {},
   "outputs": [
    {
     "name": "stdout",
     "output_type": "stream",
     "text": [
      "단어 집합(vocabulary)의 크기 : 42616\n",
      "등장 빈도가 6번 이하인 희귀 단어의 수: 30924\n",
      "단어 집합에서 희귀 단어를 제외시킬 경우의 단어 집합의 크기 11692\n",
      "단어 집합에서 희귀 단어의 비율: 72.56429510043176\n",
      "전체 등장 빈도에서 희귀 단어 등장 빈도 비율: 8.33676613229064\n"
     ]
    }
   ],
   "source": [
    "threshold = 7\n",
    "total_cnt = len(src_tokenizer.word_index) # 단어의 수\n",
    "rare_cnt = 0 # 등장 빈도수가 threshold보다 작은 단어의 개수를 카운트\n",
    "total_freq = 0 # 훈련 데이터의 전체 단어 빈도수 총 합\n",
    "rare_freq = 0 # 등장 빈도수가 threshold보다 작은 단어의 등장 빈도수의 총 합\n",
    "\n",
    "# 단어와 빈도수의 쌍(pair)을 key와 value로 받는다.\n",
    "for key, value in src_tokenizer.word_counts.items():\n",
    "    total_freq = total_freq + value\n",
    "\n",
    "    # 단어의 등장 빈도수가 threshold보다 작으면\n",
    "    if(value < threshold):\n",
    "        rare_cnt = rare_cnt + 1\n",
    "        rare_freq = rare_freq + value\n",
    "\n",
    "print('단어 집합(vocabulary)의 크기 :',total_cnt)\n",
    "print('등장 빈도가 %s번 이하인 희귀 단어의 수: %s'%(threshold - 1, rare_cnt))\n",
    "print('단어 집합에서 희귀 단어를 제외시킬 경우의 단어 집합의 크기 %s'%(total_cnt - rare_cnt))\n",
    "print(\"단어 집합에서 희귀 단어의 비율:\", (rare_cnt / total_cnt)*100)\n",
    "print(\"전체 등장 빈도에서 희귀 단어 등장 빈도 비율:\", (rare_freq / total_freq)*100)"
   ]
  },
  {
   "cell_type": "markdown",
   "id": "sustainable-factor",
   "metadata": {},
   "source": [
    "### 단어 집합의 크기 제한"
   ]
  },
  {
   "cell_type": "code",
   "execution_count": 44,
   "id": "hydraulic-illness",
   "metadata": {},
   "outputs": [],
   "source": [
    "src_vocab = 8000\n",
    "src_tokenizer = Tokenizer(num_words = src_vocab) # 단어 집합의 크기를 8,000으로 제한\n",
    "src_tokenizer.fit_on_texts(encoder_input_train) # 단어 집합 재생성."
   ]
  },
  {
   "cell_type": "markdown",
   "id": "approved-gnome",
   "metadata": {},
   "source": [
    "### 텍스트 to 정수 시퀀스 변환"
   ]
  },
  {
   "cell_type": "code",
   "execution_count": 45,
   "id": "affiliated-public",
   "metadata": {},
   "outputs": [
    {
     "name": "stdout",
     "output_type": "stream",
     "text": [
      "[[1094, 2737, 2061, 4174, 3047, 4378, 2183, 25, 50, 346, 40, 54, 4932, 3335, 198, 652, 69, 1347, 4045, 4378, 124, 666, 1348, 490, 47, 1899, 549, 56, 688, 725, 1427, 1617], [13, 1682, 7050, 360, 1064, 11, 1618, 4641, 1766, 6000, 50, 20, 165, 516, 43, 360, 1989, 322, 5601, 1474, 7050, 2593, 752, 1322, 4790, 499, 458, 25, 106], [737, 17, 193, 351, 582, 642, 4642, 117, 5802, 2828, 1410, 582, 382, 3111, 1088, 3846, 4046, 2488, 3336, 2539, 252, 999, 488, 4047, 194]]\n"
     ]
    }
   ],
   "source": [
    "# 텍스트 시퀀스를 정수 시퀀스로 변환\n",
    "encoder_input_train = src_tokenizer.texts_to_sequences(encoder_input_train) \n",
    "encoder_input_test = src_tokenizer.texts_to_sequences(encoder_input_test)\n",
    "\n",
    "#잘 진행되었는지 샘플 출력\n",
    "print(encoder_input_train[:3])"
   ]
  },
  {
   "cell_type": "markdown",
   "id": "latin-moderator",
   "metadata": {},
   "source": [
    "### headline 데이터에도 토큰화"
   ]
  },
  {
   "cell_type": "code",
   "execution_count": 46,
   "id": "focused-earthquake",
   "metadata": {},
   "outputs": [],
   "source": [
    "tar_tokenizer = Tokenizer()\n",
    "tar_tokenizer.fit_on_texts(decoder_input_train)"
   ]
  },
  {
   "cell_type": "markdown",
   "id": "random-globe",
   "metadata": {},
   "source": [
    "### 등장 횟수 낮은 단어 제외하기 (headline)"
   ]
  },
  {
   "cell_type": "code",
   "execution_count": 47,
   "id": "stuffed-bachelor",
   "metadata": {},
   "outputs": [
    {
     "name": "stdout",
     "output_type": "stream",
     "text": [
      "단어 집합(vocabulary)의 크기 : 18936\n",
      "등장 빈도가 5번 이하인 희귀 단어의 수: 14287\n",
      "단어 집합에서 희귀 단어를 제외시킬 경우의 단어 집합의 크기 4649\n",
      "단어 집합에서 희귀 단어의 비율: 75.44888043937473\n",
      "전체 등장 빈도에서 희귀 단어 등장 빈도 비율: 14.139662254678228\n"
     ]
    }
   ],
   "source": [
    "threshold = 6\n",
    "total_cnt = len(tar_tokenizer.word_index) # 단어의 수\n",
    "rare_cnt = 0 # 등장 빈도수가 threshold보다 작은 단어의 개수를 카운트\n",
    "total_freq = 0 # 훈련 데이터의 전체 단어 빈도수 총 합\n",
    "rare_freq = 0 # 등장 빈도수가 threshold보다 작은 단어의 등장 빈도수의 총 합\n",
    "\n",
    "# 단어와 빈도수의 쌍(pair)을 key와 value로 받는다.\n",
    "for key, value in tar_tokenizer.word_counts.items():\n",
    "    total_freq = total_freq + value\n",
    "\n",
    "    # 단어의 등장 빈도수가 threshold보다 작으면\n",
    "    if(value < threshold):\n",
    "        rare_cnt = rare_cnt + 1\n",
    "        rare_freq = rare_freq + value\n",
    "\n",
    "print('단어 집합(vocabulary)의 크기 :',total_cnt)\n",
    "print('등장 빈도가 %s번 이하인 희귀 단어의 수: %s'%(threshold - 1, rare_cnt))\n",
    "print('단어 집합에서 희귀 단어를 제외시킬 경우의 단어 집합의 크기 %s'%(total_cnt - rare_cnt))\n",
    "print(\"단어 집합에서 희귀 단어의 비율:\", (rare_cnt / total_cnt)*100)\n",
    "print(\"전체 등장 빈도에서 희귀 단어 등장 빈도 비율:\", (rare_freq / total_freq)*100)"
   ]
  },
  {
   "cell_type": "markdown",
   "id": "general-ready",
   "metadata": {},
   "source": [
    "### 단어 집합의 크기 4,000개로 제한 (headline)"
   ]
  },
  {
   "cell_type": "code",
   "execution_count": 48,
   "id": "foreign-sessions",
   "metadata": {},
   "outputs": [
    {
     "name": "stdout",
     "output_type": "stream",
     "text": [
      "input\n",
      "input  [[1, 667, 102, 3334, 765, 3, 1336, 2194, 96], [1, 3682, 201, 1400, 16], [1, 251, 163, 830, 132, 190, 3335, 397], [1, 2769, 708, 196, 1538, 5, 313, 2375], [1, 364, 3, 224, 2563, 1628]]\n",
      "target\n",
      "decoder  [[667, 102, 3334, 765, 3, 1336, 2194, 96, 2], [3682, 201, 1400, 16, 2], [251, 163, 830, 132, 190, 3335, 397, 2], [2769, 708, 196, 1538, 5, 313, 2375, 2], [364, 3, 224, 2563, 1628, 2]]\n"
     ]
    }
   ],
   "source": [
    "tar_vocab = 4000\n",
    "tar_tokenizer = Tokenizer(num_words = tar_vocab) \n",
    "tar_tokenizer.fit_on_texts(decoder_input_train)\n",
    "tar_tokenizer.fit_on_texts(decoder_target_train)\n",
    "\n",
    "# 텍스트 시퀀스를 정수 시퀀스로 변환\n",
    "decoder_input_train = tar_tokenizer.texts_to_sequences(decoder_input_train) \n",
    "decoder_target_train = tar_tokenizer.texts_to_sequences(decoder_target_train)\n",
    "decoder_input_test = tar_tokenizer.texts_to_sequences(decoder_input_test)\n",
    "decoder_target_test = tar_tokenizer.texts_to_sequences(decoder_target_test)\n",
    "\n",
    "#잘 변환되었는지 확인\n",
    "print('input')\n",
    "print('input ',decoder_input_train[:5])\n",
    "print('target')\n",
    "print('decoder ',decoder_target_train[:5])"
   ]
  },
  {
   "cell_type": "markdown",
   "id": "maritime-provision",
   "metadata": {},
   "source": [
    "### 훈련데이터와 테스트 데이터 일정량 삭제"
   ]
  },
  {
   "cell_type": "code",
   "execution_count": 49,
   "id": "genetic-assist",
   "metadata": {},
   "outputs": [
    {
     "name": "stdout",
     "output_type": "stream",
     "text": [
      "삭제할 훈련 데이터의 개수 : 3\n",
      "삭제할 테스트 데이터의 개수 : 1\n",
      "훈련 데이터의 개수 : 21662\n",
      "훈련 레이블의 개수 : 21662\n",
      "테스트 데이터의 개수 : 5415\n",
      "테스트 레이블의 개수 : 5415\n"
     ]
    },
    {
     "name": "stderr",
     "output_type": "stream",
     "text": [
      "/home/aiffel-dj29/anaconda3/envs/aiffel/lib/python3.7/site-packages/numpy/core/_asarray.py:83: VisibleDeprecationWarning: Creating an ndarray from ragged nested sequences (which is a list-or-tuple of lists-or-tuples-or ndarrays with different lengths or shapes) is deprecated. If you meant to do this, you must specify 'dtype=object' when creating the ndarray\n",
      "  return array(a, dtype, copy=False, order=order)\n"
     ]
    }
   ],
   "source": [
    "drop_train = [index for index, sentence in enumerate(decoder_input_train) if len(sentence) == 1]\n",
    "drop_test = [index for index, sentence in enumerate(decoder_input_test) if len(sentence) == 1]\n",
    "\n",
    "print('삭제할 훈련 데이터의 개수 :',len(drop_train))\n",
    "print('삭제할 테스트 데이터의 개수 :',len(drop_test))\n",
    "\n",
    "encoder_input_train = np.delete(encoder_input_train, drop_train, axis=0)\n",
    "decoder_input_train = np.delete(decoder_input_train, drop_train, axis=0)\n",
    "decoder_target_train = np.delete(decoder_target_train, drop_train, axis=0)\n",
    "\n",
    "encoder_input_test = np.delete(encoder_input_test, drop_test, axis=0)\n",
    "decoder_input_test = np.delete(decoder_input_test, drop_test, axis=0)\n",
    "decoder_target_test = np.delete(decoder_target_test, drop_test, axis=0)\n",
    "\n",
    "print('훈련 데이터의 개수 :', len(encoder_input_train))\n",
    "print('훈련 레이블의 개수 :',len(decoder_input_train))\n",
    "print('테스트 데이터의 개수 :',len(encoder_input_test))\n",
    "print('테스트 레이블의 개수 :',len(decoder_input_test))"
   ]
  },
  {
   "cell_type": "markdown",
   "id": "great-czech",
   "metadata": {},
   "source": [
    "### 패딩하기"
   ]
  },
  {
   "cell_type": "code",
   "execution_count": 50,
   "id": "mounted-combination",
   "metadata": {},
   "outputs": [],
   "source": [
    "encoder_input_train = pad_sequences(encoder_input_train, maxlen = text_max_len, padding='post')\n",
    "encoder_input_test = pad_sequences(encoder_input_test, maxlen = text_max_len, padding='post')\n",
    "decoder_input_train = pad_sequences(decoder_input_train, maxlen = summary_max_len, padding='post')\n",
    "decoder_target_train = pad_sequences(decoder_target_train, maxlen = summary_max_len, padding='post')\n",
    "decoder_input_test = pad_sequences(decoder_input_test, maxlen = summary_max_len, padding='post')\n",
    "decoder_target_test = pad_sequences(decoder_target_test, maxlen = summary_max_len, padding='post')"
   ]
  },
  {
   "cell_type": "markdown",
   "id": "brave-registration",
   "metadata": {},
   "source": [
    "### 모델설계하기"
   ]
  },
  {
   "cell_type": "code",
   "execution_count": 51,
   "id": "white-album",
   "metadata": {},
   "outputs": [
    {
     "name": "stdout",
     "output_type": "stream",
     "text": [
      "WARNING:tensorflow:Layer lstm will not use cuDNN kernel since it doesn't meet the cuDNN kernel criteria. It will use generic GPU kernel as fallback when running on GPU\n",
      "WARNING:tensorflow:Layer lstm_1 will not use cuDNN kernel since it doesn't meet the cuDNN kernel criteria. It will use generic GPU kernel as fallback when running on GPU\n",
      "WARNING:tensorflow:Layer lstm_2 will not use cuDNN kernel since it doesn't meet the cuDNN kernel criteria. It will use generic GPU kernel as fallback when running on GPU\n"
     ]
    }
   ],
   "source": [
    "from tensorflow.keras.layers import Input, LSTM, Embedding, Dense, Concatenate\n",
    "from tensorflow.keras.models import Model\n",
    "from tensorflow.keras.callbacks import EarlyStopping, ModelCheckpoint\n",
    "\n",
    "\n",
    "# 인코더 설계 시작\n",
    "embedding_dim = 128\n",
    "hidden_size = 256\n",
    "\n",
    "# 인코더\n",
    "encoder_inputs = Input(shape=(text_max_len,))\n",
    "\n",
    "# 인코더의 임베딩 층\n",
    "enc_emb = Embedding(src_vocab, embedding_dim)(encoder_inputs)\n",
    "\n",
    "# 인코더의 LSTM 1\n",
    "encoder_lstm1 = LSTM(hidden_size, return_sequences=True, return_state=True ,dropout = 0.4, recurrent_dropout = 0.4)\n",
    "encoder_output1, state_h1, state_c1 = encoder_lstm1(enc_emb)\n",
    "\n",
    "# 인코더의 LSTM 2\n",
    "encoder_lstm2 = LSTM(hidden_size, return_sequences=True, return_state=True, dropout=0.4, recurrent_dropout=0.4)\n",
    "encoder_output2, state_h2, state_c2 = encoder_lstm2(encoder_output1)\n",
    "\n",
    "# 인코더의 LSTM 3\n",
    "encoder_lstm3 = LSTM(hidden_size, return_state=True, return_sequences=True, dropout=0.4, recurrent_dropout=0.4)\n",
    "encoder_outputs, state_h, state_c= encoder_lstm3(encoder_output2)"
   ]
  },
  {
   "cell_type": "markdown",
   "id": "raising-reach",
   "metadata": {},
   "source": [
    "### 디코더 설계"
   ]
  },
  {
   "cell_type": "code",
   "execution_count": 52,
   "id": "later-possibility",
   "metadata": {},
   "outputs": [
    {
     "name": "stdout",
     "output_type": "stream",
     "text": [
      "WARNING:tensorflow:Layer lstm_3 will not use cuDNN kernel since it doesn't meet the cuDNN kernel criteria. It will use generic GPU kernel as fallback when running on GPU\n"
     ]
    }
   ],
   "source": [
    "# 디코더 설계\n",
    "decoder_inputs = Input(shape=(None,))\n",
    "\n",
    "# 디코더의 임베딩 층\n",
    "dec_emb_layer = Embedding(tar_vocab, embedding_dim)\n",
    "dec_emb = dec_emb_layer(decoder_inputs)\n",
    "\n",
    "# 디코더의 LSTM\n",
    "decoder_lstm = LSTM(hidden_size, return_sequences = True, return_state = True, dropout = 0.4, recurrent_dropout=0.2)\n",
    "decoder_outputs, _, _ = decoder_lstm(dec_emb, initial_state = [state_h, state_c])"
   ]
  },
  {
   "cell_type": "markdown",
   "id": "pregnant-contamination",
   "metadata": {},
   "source": [
    "### 디코더 출력 설계"
   ]
  },
  {
   "cell_type": "code",
   "execution_count": 53,
   "id": "greatest-cause",
   "metadata": {},
   "outputs": [
    {
     "name": "stdout",
     "output_type": "stream",
     "text": [
      "Model: \"model\"\n",
      "__________________________________________________________________________________________________\n",
      "Layer (type)                    Output Shape         Param #     Connected to                     \n",
      "==================================================================================================\n",
      "input_1 (InputLayer)            [(None, 50)]         0                                            \n",
      "__________________________________________________________________________________________________\n",
      "embedding (Embedding)           (None, 50, 128)      1024000     input_1[0][0]                    \n",
      "__________________________________________________________________________________________________\n",
      "lstm (LSTM)                     [(None, 50, 256), (N 394240      embedding[0][0]                  \n",
      "__________________________________________________________________________________________________\n",
      "input_2 (InputLayer)            [(None, None)]       0                                            \n",
      "__________________________________________________________________________________________________\n",
      "lstm_1 (LSTM)                   [(None, 50, 256), (N 525312      lstm[0][0]                       \n",
      "__________________________________________________________________________________________________\n",
      "embedding_1 (Embedding)         (None, None, 128)    512000      input_2[0][0]                    \n",
      "__________________________________________________________________________________________________\n",
      "lstm_2 (LSTM)                   [(None, 50, 256), (N 525312      lstm_1[0][0]                     \n",
      "__________________________________________________________________________________________________\n",
      "lstm_3 (LSTM)                   [(None, None, 256),  394240      embedding_1[0][0]                \n",
      "                                                                 lstm_2[0][1]                     \n",
      "                                                                 lstm_2[0][2]                     \n",
      "__________________________________________________________________________________________________\n",
      "dense (Dense)                   (None, None, 4000)   1028000     lstm_3[0][0]                     \n",
      "==================================================================================================\n",
      "Total params: 4,403,104\n",
      "Trainable params: 4,403,104\n",
      "Non-trainable params: 0\n",
      "__________________________________________________________________________________________________\n"
     ]
    }
   ],
   "source": [
    "# 디코더의 출력층\n",
    "decoder_softmax_layer = Dense(tar_vocab, activation = 'softmax')\n",
    "decoder_softmax_outputs = decoder_softmax_layer(decoder_outputs) \n",
    "\n",
    "# 모델 정의\n",
    "model = Model([encoder_inputs, decoder_inputs], decoder_softmax_outputs)\n",
    "model.summary()"
   ]
  },
  {
   "cell_type": "markdown",
   "id": "statutory-workplace",
   "metadata": {},
   "source": [
    "## Step 3. 어텐션 메커니즘 사용하기 (추상적 요약)"
   ]
  },
  {
   "cell_type": "markdown",
   "id": "english-transcription",
   "metadata": {},
   "source": [
    "### 어텐션 함수 다운로드"
   ]
  },
  {
   "cell_type": "code",
   "execution_count": 54,
   "id": "irish-ground",
   "metadata": {},
   "outputs": [],
   "source": [
    "urllib.request.urlretrieve(\"https://raw.githubusercontent.com/thushv89/attention_keras/master/src/layers/attention.py\", filename=\"attention.py\")\n",
    "from attention import AttentionLayer"
   ]
  },
  {
   "cell_type": "markdown",
   "id": "classified-playing",
   "metadata": {},
   "source": [
    "### 디코더 출력층 설계"
   ]
  },
  {
   "cell_type": "code",
   "execution_count": 55,
   "id": "geographic-european",
   "metadata": {},
   "outputs": [
    {
     "name": "stdout",
     "output_type": "stream",
     "text": [
      "Model: \"model_1\"\n",
      "__________________________________________________________________________________________________\n",
      "Layer (type)                    Output Shape         Param #     Connected to                     \n",
      "==================================================================================================\n",
      "input_1 (InputLayer)            [(None, 50)]         0                                            \n",
      "__________________________________________________________________________________________________\n",
      "embedding (Embedding)           (None, 50, 128)      1024000     input_1[0][0]                    \n",
      "__________________________________________________________________________________________________\n",
      "lstm (LSTM)                     [(None, 50, 256), (N 394240      embedding[0][0]                  \n",
      "__________________________________________________________________________________________________\n",
      "input_2 (InputLayer)            [(None, None)]       0                                            \n",
      "__________________________________________________________________________________________________\n",
      "lstm_1 (LSTM)                   [(None, 50, 256), (N 525312      lstm[0][0]                       \n",
      "__________________________________________________________________________________________________\n",
      "embedding_1 (Embedding)         (None, None, 128)    512000      input_2[0][0]                    \n",
      "__________________________________________________________________________________________________\n",
      "lstm_2 (LSTM)                   [(None, 50, 256), (N 525312      lstm_1[0][0]                     \n",
      "__________________________________________________________________________________________________\n",
      "lstm_3 (LSTM)                   [(None, None, 256),  394240      embedding_1[0][0]                \n",
      "                                                                 lstm_2[0][1]                     \n",
      "                                                                 lstm_2[0][2]                     \n",
      "__________________________________________________________________________________________________\n",
      "attention_layer (AttentionLayer ((None, None, 256),  131328      lstm_2[0][0]                     \n",
      "                                                                 lstm_3[0][0]                     \n",
      "__________________________________________________________________________________________________\n",
      "concat_layer (Concatenate)      (None, None, 512)    0           lstm_3[0][0]                     \n",
      "                                                                 attention_layer[0][0]            \n",
      "__________________________________________________________________________________________________\n",
      "dense_1 (Dense)                 (None, None, 4000)   2052000     concat_layer[0][0]               \n",
      "==================================================================================================\n",
      "Total params: 5,558,432\n",
      "Trainable params: 5,558,432\n",
      "Non-trainable params: 0\n",
      "__________________________________________________________________________________________________\n"
     ]
    }
   ],
   "source": [
    "# 어텐션 층(어텐션 함수)\n",
    "attn_layer = AttentionLayer(name='attention_layer')\n",
    "# 인코더와 디코더의 모든 time step의 hidden state를 어텐션 층에 전달하고 결과를 리턴\n",
    "attn_out, attn_states = attn_layer([encoder_outputs, decoder_outputs])\n",
    "\n",
    "# 어텐션의 결과와 디코더의 hidden state들을 연결\n",
    "decoder_concat_input = Concatenate(axis = -1, name='concat_layer')([decoder_outputs, attn_out])\n",
    "\n",
    "# 디코더의 출력층\n",
    "decoder_softmax_layer = Dense(tar_vocab, activation='softmax')\n",
    "decoder_softmax_outputs = decoder_softmax_layer(decoder_concat_input)\n",
    "\n",
    "# 모델 정의\n",
    "model = Model([encoder_inputs, decoder_inputs], decoder_softmax_outputs)\n",
    "model.summary()"
   ]
  },
  {
   "cell_type": "markdown",
   "id": "sitting-teach",
   "metadata": {},
   "source": [
    "### 모델 훈련하기"
   ]
  },
  {
   "cell_type": "code",
   "execution_count": 56,
   "id": "particular-chemical",
   "metadata": {},
   "outputs": [
    {
     "name": "stdout",
     "output_type": "stream",
     "text": [
      "Epoch 1/50\n",
      "85/85 [==============================] - 29s 341ms/step - loss: 5.9889 - val_loss: 5.5264\n",
      "Epoch 2/50\n",
      "85/85 [==============================] - 27s 320ms/step - loss: 5.5362 - val_loss: 5.3261\n",
      "Epoch 3/50\n",
      "85/85 [==============================] - 27s 322ms/step - loss: 5.3221 - val_loss: 5.1706\n",
      "Epoch 4/50\n",
      "85/85 [==============================] - 30s 349ms/step - loss: 5.1585 - val_loss: 5.0514\n",
      "Epoch 5/50\n",
      "85/85 [==============================] - 28s 335ms/step - loss: 5.0045 - val_loss: 4.9171\n",
      "Epoch 6/50\n",
      "85/85 [==============================] - 27s 322ms/step - loss: 4.8460 - val_loss: 4.8255\n",
      "Epoch 7/50\n",
      "85/85 [==============================] - 27s 321ms/step - loss: 4.6838 - val_loss: 4.7297\n",
      "Epoch 8/50\n",
      "85/85 [==============================] - 28s 324ms/step - loss: 4.5328 - val_loss: 4.6368\n",
      "Epoch 9/50\n",
      "85/85 [==============================] - 28s 331ms/step - loss: 4.3941 - val_loss: 4.5786\n",
      "Epoch 10/50\n",
      "85/85 [==============================] - 28s 335ms/step - loss: 4.2662 - val_loss: 4.4785\n",
      "Epoch 11/50\n",
      "85/85 [==============================] - 27s 322ms/step - loss: 4.1438 - val_loss: 4.4327\n",
      "Epoch 12/50\n",
      "85/85 [==============================] - 27s 322ms/step - loss: 4.0290 - val_loss: 4.3858\n",
      "Epoch 13/50\n",
      "85/85 [==============================] - 27s 320ms/step - loss: 3.9212 - val_loss: 4.3647\n",
      "Epoch 14/50\n",
      "85/85 [==============================] - 27s 320ms/step - loss: 3.8178 - val_loss: 4.3183\n",
      "Epoch 15/50\n",
      "85/85 [==============================] - 27s 321ms/step - loss: 3.7203 - val_loss: 4.2768\n",
      "Epoch 16/50\n",
      "85/85 [==============================] - 27s 321ms/step - loss: 3.6247 - val_loss: 4.2548\n",
      "Epoch 17/50\n",
      "85/85 [==============================] - 27s 321ms/step - loss: 3.5340 - val_loss: 4.2434\n",
      "Epoch 18/50\n",
      "85/85 [==============================] - 27s 321ms/step - loss: 3.4461 - val_loss: 4.2207\n",
      "Epoch 19/50\n",
      "85/85 [==============================] - 27s 322ms/step - loss: 3.3634 - val_loss: 4.2204\n",
      "Epoch 20/50\n",
      "85/85 [==============================] - 27s 321ms/step - loss: 3.2823 - val_loss: 4.2062\n",
      "Epoch 21/50\n",
      "85/85 [==============================] - 28s 324ms/step - loss: 3.2038 - val_loss: 4.1958\n",
      "Epoch 22/50\n",
      "85/85 [==============================] - 27s 321ms/step - loss: 3.1282 - val_loss: 4.1954\n",
      "Epoch 23/50\n",
      "85/85 [==============================] - 27s 323ms/step - loss: 3.0550 - val_loss: 4.1897\n",
      "Epoch 24/50\n",
      "85/85 [==============================] - 27s 321ms/step - loss: 2.9855 - val_loss: 4.1827\n",
      "Epoch 25/50\n",
      "85/85 [==============================] - 27s 320ms/step - loss: 2.9160 - val_loss: 4.1919\n",
      "Epoch 26/50\n",
      "85/85 [==============================] - 27s 321ms/step - loss: 2.8508 - val_loss: 4.1938\n",
      "Epoch 00026: early stopping\n"
     ]
    }
   ],
   "source": [
    "model.compile(optimizer='rmsprop', loss='sparse_categorical_crossentropy')\n",
    "es = EarlyStopping(monitor='val_loss', mode='min', verbose=1, patience = 2)\n",
    "history = model.fit(x = [encoder_input_train, decoder_input_train], y = decoder_target_train, \\\n",
    "          validation_data = ([encoder_input_test, decoder_input_test], decoder_target_test),\n",
    "          batch_size = 256, callbacks=[es], epochs = 50)"
   ]
  },
  {
   "cell_type": "markdown",
   "id": "domestic-chamber",
   "metadata": {},
   "source": [
    "### 시각화"
   ]
  },
  {
   "cell_type": "code",
   "execution_count": 57,
   "id": "spanish-register",
   "metadata": {},
   "outputs": [
    {
     "data": {
      "image/png": "[encoded data removed]",
      "text/plain": [
       "<Figure size 432x288 with 1 Axes>"
      ]
     },
     "metadata": {
      "needs_background": "light"
     },
     "output_type": "display_data"
    }
   ],
   "source": [
    "plt.plot(history.history['loss'], label='train')\n",
    "plt.plot(history.history['val_loss'], label='test')\n",
    "plt.legend()\n",
    "plt.show()"
   ]
  },
  {
   "cell_type": "markdown",
   "id": "bridal-diesel",
   "metadata": {},
   "source": [
    "### 인퍼런스 모델 구현하기"
   ]
  },
  {
   "cell_type": "code",
   "execution_count": 58,
   "id": "fatal-buffer",
   "metadata": {},
   "outputs": [],
   "source": [
    "src_index_to_word = src_tokenizer.index_word # 원문 단어 집합에서 정수 -> 단어를 얻음\n",
    "tar_word_to_index = tar_tokenizer.word_index # 요약 단어 집합에서 단어 -> 정수를 얻음\n",
    "tar_index_to_word = tar_tokenizer.index_word # 요약 단어 집합에서 정수 -> 단어를 얻음"
   ]
  },
  {
   "cell_type": "markdown",
   "id": "scheduled-brand",
   "metadata": {},
   "source": [
    "### 인코더 설계"
   ]
  },
  {
   "cell_type": "code",
   "execution_count": 59,
   "id": "stupid-algeria",
   "metadata": {},
   "outputs": [],
   "source": [
    "# 인코더 설계\n",
    "encoder_model = Model(inputs=encoder_inputs, outputs=[encoder_outputs, state_h, state_c])\n",
    "\n",
    "# 이전 시점의 상태들을 저장하는 텐서\n",
    "decoder_state_input_h = Input(shape=(hidden_size,))\n",
    "decoder_state_input_c = Input(shape=(hidden_size,))\n",
    "\n",
    "dec_emb2 = dec_emb_layer(decoder_inputs)\n",
    "# 문장의 다음 단어를 예측하기 위해서 초기 상태(initial_state)를 이전 시점의 상태로 사용. 이는 뒤의 함수 decode_sequence()에 구현\n",
    "# 훈련 과정에서와 달리 LSTM의 리턴하는 은닉 상태와 셀 상태인 state_h와 state_c를 버리지 않음.\n",
    "decoder_outputs2, state_h2, state_c2 = decoder_lstm(dec_emb2, initial_state=[decoder_state_input_h, decoder_state_input_c])"
   ]
  },
  {
   "cell_type": "markdown",
   "id": "funky-steam",
   "metadata": {},
   "source": [
    "### 어텐션 함수"
   ]
  },
  {
   "cell_type": "code",
   "execution_count": 60,
   "id": "noticed-variable",
   "metadata": {},
   "outputs": [],
   "source": [
    "# 어텐션 함수\n",
    "decoder_hidden_state_input = Input(shape=(text_max_len, hidden_size))\n",
    "attn_out_inf, attn_states_inf = attn_layer([decoder_hidden_state_input, decoder_outputs2])\n",
    "decoder_inf_concat = Concatenate(axis=-1, name='concat')([decoder_outputs2, attn_out_inf])\n",
    "\n",
    "# 디코더의 출력층\n",
    "decoder_outputs2 = decoder_softmax_layer(decoder_inf_concat) \n",
    "\n",
    "# 최종 디코더 모델\n",
    "decoder_model = Model(\n",
    "    [decoder_inputs] + [decoder_hidden_state_input,decoder_state_input_h, decoder_state_input_c],\n",
    "    [decoder_outputs2] + [state_h2, state_c2])"
   ]
  },
  {
   "cell_type": "markdown",
   "id": "noted-jesus",
   "metadata": {},
   "source": [
    "### 단어 시퀀스를 완성하는 함수"
   ]
  },
  {
   "cell_type": "code",
   "execution_count": 61,
   "id": "literary-collapse",
   "metadata": {},
   "outputs": [],
   "source": [
    "def decode_sequence(input_seq):\n",
    "    # 입력으로부터 인코더의 상태를 얻음\n",
    "    e_out, e_h, e_c = encoder_model.predict(input_seq)\n",
    "\n",
    "     # <SOS>에 해당하는 토큰 생성\n",
    "    target_seq = np.zeros((1,1))\n",
    "    target_seq[0, 0] = tar_word_to_index['sostoken']\n",
    "\n",
    "    stop_condition = False\n",
    "    decoded_sentence = ''\n",
    "    while not stop_condition: # stop_condition이 True가 될 때까지 루프 반복\n",
    "\n",
    "        output_tokens, h, c = decoder_model.predict([target_seq] + [e_out, e_h, e_c])\n",
    "        sampled_token_index = np.argmax(output_tokens[0, -1, :])\n",
    "        sampled_token = tar_index_to_word[sampled_token_index]\n",
    "\n",
    "        if(sampled_token!='eostoken'):\n",
    "            decoded_sentence += ' '+sampled_token\n",
    "\n",
    "        #  <eos>에 도달하거나 최대 길이를 넘으면 중단.\n",
    "        if (sampled_token == 'eostoken'  or len(decoded_sentence.split()) >= (summary_max_len-1)):\n",
    "            stop_condition = True\n",
    "\n",
    "        # 길이가 1인 타겟 시퀀스를 업데이트\n",
    "        target_seq = np.zeros((1,1))\n",
    "        target_seq[0, 0] = sampled_token_index\n",
    "\n",
    "        # 상태를 업데이트 합니다.\n",
    "        e_h, e_c = h, c\n",
    "\n",
    "    return decoded_sentence"
   ]
  },
  {
   "cell_type": "markdown",
   "id": "approved-limitation",
   "metadata": {},
   "source": [
    "### 변환 함수 만들기"
   ]
  },
  {
   "cell_type": "code",
   "execution_count": 62,
   "id": "continent-murray",
   "metadata": {},
   "outputs": [],
   "source": [
    "# 원문의 정수 시퀀스를 텍스트 시퀀스로 변환\n",
    "def seq2text(input_seq):\n",
    "    temp=''\n",
    "    for i in input_seq:\n",
    "        if(i!=0):\n",
    "            temp = temp + src_index_to_word[i]+' '\n",
    "    return temp\n",
    "\n",
    "# 요약문의 정수 시퀀스를 텍스트 시퀀스로 변환\n",
    "def seq2summary(input_seq):\n",
    "    temp=''\n",
    "    for i in input_seq:\n",
    "        if((i!=0 and i!=tar_word_to_index['sostoken']) and i!=tar_word_to_index['eostoken']):\n",
    "            temp = temp + tar_index_to_word[i] + ' '\n",
    "    return temp"
   ]
  },
  {
   "cell_type": "markdown",
   "id": "composite-smile",
   "metadata": {},
   "source": [
    "### 요약 비교 하기"
   ]
  },
  {
   "cell_type": "code",
   "execution_count": 63,
   "id": "limited-jurisdiction",
   "metadata": {},
   "outputs": [
    {
     "name": "stdout",
     "output_type": "stream",
     "text": [
      "원문 : shares future retail surged nearly wednesday future group founder unveiled new retail business plan called company plans open member stores make trillion business opportunity roughly means ask shall receive focus opening retail stores every kilometre \n",
      "실제 요약 : future retail shares up after launches \n",
      "예측 요약 :  paytm shares surge after amazon partnership\n",
      "\n",
      "\n",
      "원문 : scientists discovered bacteria produce electricity human bacteria commonly causes produce electricity way different electricity producing bacteria used measure electrons bacteria transported cell wall environment tiny current \n",
      "실제 요약 : electricity producing bacteria found in the human \n",
      "예측 요약 :  scientists discover to make\n",
      "\n",
      "\n",
      "원문 : one buildings last traditional fish processing facility us state away canadian island result bomb cyclone struck us last week resulted territorial dispute two countries canadian officials prevented conservation group building \n",
      "실제 요약 : us away to canada by cyclone \n",
      "예측 요약 :  london hotel to be by\n",
      "\n",
      "\n",
      "원문 : us based software major ibm said received indian arm accounting second highest granted various ibm researchers engineers scientists designers across us countries also marks company th consecutive year us patent list \n",
      "실제 요약 : india nd largest to ibm patents in \n",
      "예측 요약 :  world largest particle was years ago\n",
      "\n",
      "\n",
      "원문 : following supreme court order taken college studies father expressed happiness decision added cannot terrorist family idea syria wanted go converting islam said alleged victim love jihad \n",
      "실제 요약 : cannot have terrorist in the family father \n",
      "예측 요약 :  sc orders against of\n",
      "\n",
      "\n",
      "원문 : video showing year old engineer bihar allegedly forced marry gunpoint surfaced social media video shows man crying ceremony forced bride family complete man family alleged kidnapped last month police refused help \n",
      "실제 요약 : bihar engineer kidnapped forced to marry at \n",
      "예측 요약 :  video of twin boyfriend\n",
      "\n",
      "\n",
      "원문 : amid ongoing aam aadmi party delhi cm arvind kejriwal deputy cm manish sisodia visited party leader kumar vishwas residence ghaziabad tuesday night asserted vishwas part movement upset us said aap \n",
      "실제 요약 : we are we kejriwal \n",
      "예측 요약 :  kejriwal congratulates bihar cm of\n",
      "\n",
      "\n",
      "원문 : hacking group dark leaked latest season popular netflix show orange new black despite receiving lakh ransom bitcoin group claims leaked show show makers violated agreement involving fbi previously group reportedly threatened leak disney pirates caribbean release \n",
      "실제 요약 : hackers leak netflix show despite getting lakh \n",
      "예측 요약 :  facebook to facebook accounts with\n",
      "\n",
      "\n",
      "원문 : india largest telecom operator bharti airtel monday received board approval raise crore debt paying spectrum airtel consolidated net debt crore december last year company approach shareholders final approval proposed raising debt \n",
      "실제 요약 : airtel to raise crore to debt \n",
      "예측 요약 :  airtel to buy crore in revenue\n",
      "\n",
      "\n",
      "원문 : congress mp shashi tharoor said bjp government planning major assault constitution gets majority houses parliament thing probably felt would much risk taken first term added \n",
      "실제 요약 : bjp planning major assault on constitution shashi tharoor \n",
      "예측 요약 :  bjp should be on tharoor\n",
      "\n",
      "\n",
      "원문 : facebook owned messaging service whatsapp started messages android beta messages carry tag message saying helps inform message notably whatsapp give users option label \n",
      "실제 요약 : whatsapp now messages in \n",
      "예측 요약 :  whatsapp testing feature to users\n",
      "\n",
      "\n",
      "원문 : xiaomi note smartphone exploded pocket user andhra pradesh user reportedly suffered serious injuries according reports explosion occurred owner riding bike smartphone pocket smartphone company said contacted owner investigating matter \n",
      "실제 요약 : xiaomi note explodes in user pocket \n",
      "예측 요약 :  unveils self driving car car\n",
      "\n",
      "\n",
      "원문 : hyderabad seven year old accompanied coach indian tricolour peak mount africa highest mountain tanzania earlier month got afraid leg took rest completed like snow lot reason went seven year old later said \n",
      "실제 요약 : year old hyderabad boy africa highest \n",
      "예측 요약 :  year old indian youngest youngest youngest player\n",
      "\n",
      "\n",
      "원문 : hours militants attacked indian army camp kashmir jammu kashmir cm mehbooba mufti said militants trying ceasefire urging separatists solve issues talks centre added save jammu kashmir honour economy coming forward called political solution \n",
      "실제 요약 : militants to ceasefire cm \n",
      "예측 요약 :  army jawan martyred in kashmir\n",
      "\n",
      "\n",
      "원문 : three indian bengaluru mumbai delhi earned highest prime office among leading international markets according knight report bengaluru earned highest followed new delhi mumbai respectively bengaluru area ranked affordable technology district among global tech \n",
      "실제 요약 : bengaluru delhi mumbai offer world highest office \n",
      "예측 요약 :  mumbai ahmedabad to get lakh month\n",
      "\n",
      "\n",
      "원문 : actor turned politician kamal haasan monday launched party app called aim bring public issues government notice described app tool various issues pollution corruption crime recently haasan announced party contest local elections tamil nadu \n",
      "실제 요약 : kamal haasan launches mobile app for \n",
      "예측 요약 :  haasan should be if politics haasan\n",
      "\n",
      "\n",
      "원문 : laser gravitational wave observatory made third detection gravitational waves energy signal captured january confirmed thursday come two black holes similar last two however detection first black holes merged spinning non aligned fashion scientists said \n",
      "실제 요약 : waves detected for the third time \n",
      "예측 요약 :  scientists create new ever\n",
      "\n",
      "\n",
      "원문 : world expensive footballer neymar said five time ballon winner cristiano ronaldo joined juventus million change italian football football legend genius italian football watched child neymar added ronaldo scored goals matches nine year real madrid \n",
      "실제 요약 : ronaldo is will change italian football neymar \n",
      "예측 요약 :  neymar congratulates barcelona to win\n",
      "\n",
      "\n",
      "원문 : pictures abhishek bachchan aishwarya rai bachchan crore apartment located bandra complex featured article magazine couple bought apartment designed house team said magazine sonam kapoor reportedly crore apartment complex \n",
      "실제 요약 : pics show abhishek aishwarya crore mumbai apartment \n",
      "예측 요약 :  amitabh bachchan named of fashion\n",
      "\n",
      "\n",
      "원문 : group congress workers sold per kilogram outside uttar pradesh assembly thursday workers claimed move protest rising prices crop damage producing states caused shortage leading price rising per kilogram areas \n",
      "실제 요약 : congress sells per kg outside up assembly \n",
      "예측 요약 :  congress workers die in kerala\n",
      "\n",
      "\n",
      "원문 : joke candidates like lord mr fish hope featured last week uk general election stole seats mps lord described space lord ran berkshire county constituency votes mr fish stole votes constituency \n",
      "실제 요약 : uk election candidates lord fish \n",
      "예측 요약 :  what is the first ever law\n",
      "\n",
      "\n",
      "원문 : least people family killed boat capsized water body andhra pradesh district friday boat family returning installation ceremony temple police said search operation trace missing family members added \n",
      "실제 요약 : killed as boat capsizes in andhra pradesh \n",
      "예측 요약 :  dead injured after boat capsizes in maharashtra\n",
      "\n",
      "\n",
      "원문 : world highest bridge currently construction river jammu kashmir able earthquakes magnitude high intensity blasts according railway officials kashmir terror activities earthquakes railways put place security consultation defence forces \n",
      "실제 요약 : rail bridge can stand blasts railways \n",
      "예측 요약 :  world largest bridge opens in\n",
      "\n",
      "\n",
      "원문 : yogi adityanath led uttar pradesh government suspended three personal secretaries ministers corruption charges following operation news channel meanwhile cm adityanath directed special investigation team probe matter operation showed three staffers allegedly asking bribe return transfers contracts \n",
      "실제 요약 : up suspended over operation bribery \n",
      "예측 요약 :  up govt approves for cow\n",
      "\n",
      "\n",
      "원문 : google parent alphabet research organisation announced release lakh male mosquitoes every week weeks california project target female mosquitoes known spread dengue virus expects population drop females mosquitoes \n",
      "실제 요약 : google to release crore in us \n",
      "예측 요약 :  amazon fires of employees\n",
      "\n",
      "\n",
      "원문 : editorial global times chinese newspaper said indian products would take another years catch chinese calling india rising star world manufacturing editorial stated india long wanted china global manufacturing hub cannot achieved overnight \n",
      "실제 요약 : indian products yrs behind chinese china daily \n"
     ]
    },
    {
     "name": "stdout",
     "output_type": "stream",
     "text": [
      "예측 요약 :  indian origin releases world most powerful\n",
      "\n",
      "\n",
      "원문 : maharashtra cm devendra fadnavis led government today passed maratha reservation bill created new category per recommendation maharashtra state backward class commission bill likely winter parliament session legislative assembly maratha community demanding reservation education jobs \n",
      "실제 요약 : reservation bill passed new category created \n",
      "예측 요약 :  maharashtra to get its first students\n",
      "\n",
      "\n",
      "원문 : kolkata knight riders ceo friday said heard anything umesh yadav reported first weeks ipl season earlier media reports suggested yadav ravindra jadeja would miss first three weeks tournament added would wait bcci statement reacting \n",
      "실제 요약 : no official word on yadav kkr \n",
      "예측 요약 :  appointed as cricketers for\n",
      "\n",
      "\n",
      "원문 : response pradhan mantri kalyan yojana good crore income declared scheme government said thursday offering one last window black money holders post demonetisation government come scheme december let people come clean paying tax penalty \n",
      "실제 요약 : crore black money declared under new scheme \n",
      "예측 요약 :  govt gets crore scheme to\n",
      "\n",
      "\n",
      "원문 : arjuna awardee honoured degree national institute technology saturday year old tripura became first indian woman qualify olympics missing bronze medal women event rio olympics \n",
      "실제 요약 : receives honorary degree from \n",
      "예측 요약 :  wins silver at world championship\n",
      "\n",
      "\n",
      "원문 : us president donald trump thursday retweeted meme former president barack obama meme captioned best eclipse ever tweeted man proud trump supporter trump last week mistakenly retweeted man calling \n",
      "실제 요약 : trump of him obama \n",
      "예측 요약 :  donald trump tweets donald trump\n",
      "\n",
      "\n",
      "원문 : yoga us california offering yoga classes people smoke yoga come idea use marijuana illegal state notably use marijuana legal us states including california capital washington dc \n",
      "실제 요약 : us yoga offers yoga classes \n",
      "예측 요약 :  airline to install at\n",
      "\n",
      "\n",
      "원문 : fir filed class student mother allegedly abused school teacher noida sector saturday authorities called woman school son abused teacher earlier police said however woman got upset teacher police added \n",
      "실제 요약 : fir against student mother for noida teacher \n",
      "예측 요약 :  class student arrested for sexually harassing student\n",
      "\n",
      "\n",
      "원문 : sri lankan cricketer de father local politician killed unidentified gunmen thursday sri lankan authorities conducting investigation arrests made far sri lankan cricket board officials said year old de withdrawn team windies tour involves three test matches \n",
      "실제 요약 : sri lankan cricketer father killed by gunmen \n",
      "예측 요약 :  sri lanka cricketer killed in football\n",
      "\n",
      "\n",
      "원문 : uk based university made fuel using beer key using team used beer real convert replacement petrol scientists however said actually want use beer industrial scale making sustainable fuel \n",
      "실제 요약 : uk scientists turn beer into fuel \n",
      "예측 요약 :  scientists make study\n",
      "\n",
      "\n",
      "원문 : indian captain virat kohli registered first icc tournament getting dismissed zero sri lanka pradeep thursday kohli first odi innings earlier february playing australia indian captain virat kohli dismissed first time tests playing india \n",
      "실제 요약 : kohli registers his first in icc \n",
      "예측 요약 :  virat kohli to become player\n",
      "\n",
      "\n",
      "원문 : communist revolutionary officially proclaimed existence people republic china october came end civil war fought led nationalist government communist party china leader fled island taiwan end civil war \n",
      "실제 요약 : people of china years ago \n",
      "예측 요약 :  pope francis is the ambassador\n",
      "\n",
      "\n",
      "원문 : maharashtra capital mumbai tuesday received nine times rain average three hours reports said weather service said recorded mm rain hours government ordered offices allow employees leave early heavy rains high tide expected schools colleges ordered shut wednesday \n",
      "실제 요약 : mumbai gets times the rain \n",
      "예측 요약 :  mumbai civic body to get lakh\n",
      "\n",
      "\n",
      "원문 : notification jee stated besides hindi english students gujarat nagar also gujarati medium question papers however earlier students option take exam marathi urdu well hindi english gujarati \n",
      "실제 요약 : only regional language allowed in jee \n",
      "예측 요약 :  karnataka governor tops for\n",
      "\n",
      "\n",
      "원문 : indian cricket team received green signal participate upcoming icc champions trophy bcci special general meeting sunday india begin campaign pakistan june squad tournament announced monday previously bcci reportedly pulling tournament \n",
      "실제 요약 : india confirms in icc champions trophy \n",
      "예측 요약 :  india cricket cricketers play cricket cricket\n",
      "\n",
      "\n",
      "원문 : immigration computers several airports united states approximately two hours monday causing delays long passengers service disruption malicious nature customs agency later said meanwhile passengers processed using alternative \n",
      "실제 요약 : immigration computers outage causes delays at us airports \n",
      "예측 요약 :  tourists opens in\n",
      "\n",
      "\n",
      "원문 : southwest monsoon hit kerala north east tuesday two days normal date india meteorological department confirmed according director general monsoon hit north east cyclone hit bangladesh earlier day southwest monsoon brings rains indian \n",
      "실제 요약 : monsoon hits kerala north east \n",
      "예측 요약 :  japan town to set in nepal\n",
      "\n",
      "\n",
      "원문 : french president emmanuel macron vowed deport migrants convicted crimes campaign promise comes man stabbed two women death french city earlier month isis claimed responsibility attack saying staged retaliation countries fighting iraq syria \n",
      "실제 요약 : france to deport all criminal migrants \n",
      "예측 요약 :  philippine prez duterte threatens to\n",
      "\n",
      "\n",
      "원문 : indian badminton player got married businessman model karan ceremony karnataka sunday commonwealth games gold medalist announced engagement october year wedding tennis player rohan player among others \n",
      "실제 요약 : marries model and boyfriend karan \n",
      "예측 요약 :  saina nehwal wins padma shri\n",
      "\n",
      "\n",
      "원문 : cpi leader yechury speaking th anniversary quit india movement rajya sabha wednesday said hindu pakistan created added need eliminate neo policies said attempts made appropriate freedom struggle \n",
      "실제 요약 : warns against the of hindu pakistan \n",
      "예측 요약 :  india should become pm modi\n",
      "\n",
      "\n",
      "원문 : year old man accidentally shot year old grandson chest target practice latter stepped front fired us police said grandson officers arrived scene repeatedly told officers grandfather fault police added authorities believe men violate laws \n",
      "실제 요약 : us man accidentally shoots during target practice \n",
      "예측 요약 :  man accidentally shoots suicide to\n",
      "\n",
      "\n",
      "원문 : google reportedly working operating system called replace android official plan engineers reportedly want install connected devices within three years move smartphones laptops statement google said one many open source projects reveal details \n",
      "실제 요약 : google working on android report \n",
      "예측 요약 :  google to launch wireless charging for report\n",
      "\n",
      "\n",
      "원문 : apple biggest iphone said million indian unit september january long term investment taiwanese firm make iphones india though xiaomi country apple currently lower cost se models india local unit bengaluru \n",
      "실제 요약 : iphone invests crore in indian unit \n",
      "예측 요약 :  apple to buy billion in report\n",
      "\n",
      "\n",
      "원문 : gaza strip operating power plant shut wednesday due severe shortage fuel leaving disputed palestinian territory complete according reports gaza suffering energy crisis since mid april due dispute palestinian militant group hamas president mahmoud abbas taxes \n",
      "실제 요약 : full in palestinian territory amid fuel shortage \n",
      "예측 요약 :  wannacry attack to hit in\n",
      "\n",
      "\n",
      "원문 : bjp youth leader declared lakh bounty head west bengal cm mamata banerjee responded saying regularly targeted offensive words say things progress added earlier kolkata based made counter offer lakh bjp youth leader head \n",
      "실제 요약 : targeted with offensive words mamata on \n",
      "예측 요약 :  bjp leader shows rss mp\n",
      "\n",
      "\n"
     ]
    }
   ],
   "source": [
    "for i in range(50, 100):\n",
    "    print(\"원문 :\", seq2text(encoder_input_test[i]))\n",
    "    print(\"실제 요약 :\", seq2summary(decoder_input_test[i]))\n",
    "    print(\"예측 요약 :\", decode_sequence(encoder_input_test[i].reshape(1, text_max_len)))\n",
    "    print(\"\\n\")"
   ]
  },
  {
   "cell_type": "markdown",
   "id": "enhanced-seller",
   "metadata": {},
   "source": [
    "### 추출적 요약하기 위해 다운로드"
   ]
  },
  {
   "cell_type": "code",
   "execution_count": 64,
   "id": "numerical-freight",
   "metadata": {},
   "outputs": [],
   "source": [
    "import requests\n",
    "from summa.summarizer import summarize\n",
    "text = requests.get('http://rare-technologies.com/the_matrix_synopsis.txt').text"
   ]
  },
  {
   "cell_type": "code",
   "execution_count": 65,
   "id": "agricultural-thriller",
   "metadata": {},
   "outputs": [
    {
     "name": "stdout",
     "output_type": "stream",
     "text": [
      "The screen is filled with green, cascading code which gives way to the title, The Matrix.\r\n",
      "\r\n",
      "A phone rings and text appears on the screen: \"Call trans opt: received. 2-19-98 13:24:18 REC: Log>\" As a conversation takes place between Trinity (Carrie-Anne Moss) and Cypher (Joe Pantoliano), two free humans, a table of random green numbers are being scanned and individual numbers selected, creating a series of digits not unlike an ordinary phone number, as if a code is being deciphered or a call is being traced.\r\n",
      "\r\n",
      "Trinity discusses some unknown person. Cypher taunts Trinity, suggesting she enjoys watching him. Trinity counters that \"Morpheus (Laurence Fishburne) says he may be 'the One',\" just as the sound of a number being selected alerts Trinity that someone may be tracing their call. She ends the call.\r\n",
      "\r\n",
      "Armed policemen move down a darkened, decrepit hallway in the Heart O' the City Hotel, their flashlight beam bouncing just ahead of them. They come to room 303, kick down the door and find a woman dressed in black, facing away from them. It's Trinity. She brings her hands up from the laptop she's working on at their command.\r\n",
      "\r\n",
      "Outside the hotel a car drives up and three agents appear in neatly pressed black suits. They are Agent Smith (Hugo Weaving), Agent Brown (Paul Goddard), and Agent Jones (Robert Taylor). Agent Smith and the presiding police lieutenant argue. Agent Smith admonishes the policeman that they were given specific orders to contact the agents first, for their\n"
     ]
    }
   ],
   "source": [
    "print(text[:1500])"
   ]
  },
  {
   "cell_type": "markdown",
   "id": "herbal-gentleman",
   "metadata": {},
   "source": [
    "## summarize 사용하기"
   ]
  },
  {
   "cell_type": "code",
   "execution_count": 66,
   "id": "recent-africa",
   "metadata": {},
   "outputs": [
    {
     "name": "stdout",
     "output_type": "stream",
     "text": [
      "Summary:\n",
      "Morpheus, Trinity, Neo, Apoc, Switch, Mouse and Cypher are jacked into the Matrix.\n",
      "Trinity brings the helicopter down to the floor that Morpheus is on and Neo opens fire on the three Agents.\n"
     ]
    }
   ],
   "source": [
    "print('Summary:')\n",
    "print(summarize(text, ratio=0.005))"
   ]
  },
  {
   "cell_type": "markdown",
   "id": "manufactured-january",
   "metadata": {},
   "source": [
    "### 리스트 형태로 받기"
   ]
  },
  {
   "cell_type": "code",
   "execution_count": 67,
   "id": "fitted-elimination",
   "metadata": {},
   "outputs": [
    {
     "name": "stdout",
     "output_type": "stream",
     "text": [
      "Summary:\n",
      "['Morpheus, Trinity, Neo, Apoc, Switch, Mouse and Cypher are jacked into the Matrix.', 'Trinity brings the helicopter down to the floor that Morpheus is on and Neo opens fire on the three Agents.']\n"
     ]
    }
   ],
   "source": [
    "print('Summary:')\n",
    "print(summarize(text, ratio=0.005, split=True))"
   ]
  },
  {
   "cell_type": "markdown",
   "id": "major-purpose",
   "metadata": {},
   "source": [
    "### 요약문 크기 조절"
   ]
  },
  {
   "cell_type": "code",
   "execution_count": 68,
   "id": "touched-assets",
   "metadata": {},
   "outputs": [
    {
     "name": "stdout",
     "output_type": "stream",
     "text": [
      "Summary:\n",
      "Trinity takes Neo to Morpheus.\n",
      "Morpheus, Trinity, Neo, Apoc, Switch, Mouse and Cypher are jacked into the Matrix.\n",
      "Trinity brings the helicopter down to the floor that Morpheus is on and Neo opens fire on the three Agents.\n"
     ]
    }
   ],
   "source": [
    "print('Summary:')\n",
    "print(summarize(text, words=50))"
   ]
  },
  {
   "cell_type": "markdown",
   "id": "micro-reserve",
   "metadata": {},
   "source": [
    "## 루브릭 평가"
   ]
  },
  {
   "cell_type": "markdown",
   "id": "noted-agenda",
   "metadata": {},
   "source": [
    "1. Abstractive 모델 구성을 위한 텍스트 전처리 단계가 체계적으로 진행되었다.\n",
    "\t분석단계, 정제단계, 정규화와 불용어 제거, 데이터셋 분리, 인코딩 과정이 빠짐없이 체계적으로 진행되었다.\n",
    "    --> 단계적으로 수행을 해 보았다.\n",
    "    \n",
    "2. 텍스트 요약모델이 성공적으로 학습되었음을 확인하였다.\n",
    "\t모델학습이 안정적으로 수렴되었음을 그래프를 통해 확인하였으며, 실제 요약문과 유사한 요약문장을 얻을 수 있었다.\n",
    "    --> 텍스트 요약 모델을 노드에 따라서 수행해 보았다. \n",
    "\n",
    "3. Extractive 요약을 시도해 보고 Abstractive 요약 결과과 함께 비교해 보았다.\n",
    "\t두 요약 결과를 문법완성도 측면과 핵심단어 포함 측면으로 나누어 비교분석 결과를 제시하였다.\n",
    "    --> 요약을 비교해 보았다.\n",
    " "
   ]
  },
  {
   "cell_type": "markdown",
   "id": "powered-hollow",
   "metadata": {},
   "source": [
    "## 느낌점과 회고"
   ]
  },
  {
   "cell_type": "markdown",
   "id": "pacific-dynamics",
   "metadata": {},
   "source": [
    "1. 문장을 요약해는 방법이 기존의 데이터를 축약하는 방법만 있는 줄 알았는데, 추상적으로 약간의 자연어 발생하여 만들어 내는 부분에서 새로 배웠습니다. 하지만 독자는 본인의 취향에 맞게 '잘 읽혀지는 문장' 으로 만들어 질려면 토큰의 형태를 각자 취향에 맞게 추가하면 더 잘 읽혀지는 문장이 되지 않을까 생각이 들었다."
   ]
  }
 ],
 "metadata": {
  "kernelspec": {
   "display_name": "Python 3",
   "language": "python",
   "name": "python3"
  },
  "language_info": {
   "codemirror_mode": {
    "name": "ipython",
    "version": 3
   },
   "file_extension": ".py",
   "mimetype": "text/x-python",
   "name": "python",
   "nbconvert_exporter": "python",
   "pygments_lexer": "ipython3",
   "version": "3.7.9"
  }
 },
 "nbformat": 4,
 "nbformat_minor": 5
}
