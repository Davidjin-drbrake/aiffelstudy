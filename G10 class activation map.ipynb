{
 "cells": [
  {
   "cell_type": "markdown",
   "id": "loaded-helena",
   "metadata": {},
   "source": [
    "# G10 Class activation map 만들기"
   ]
  },
  {
   "cell_type": "markdown",
   "id": "juvenile-heaven",
   "metadata": {},
   "source": [
    "## CAM 구현하기"
   ]
  },
  {
   "cell_type": "code",
   "execution_count": null,
   "id": "ideal-correspondence",
   "metadata": {},
   "outputs": [],
   "source": [
    "def generate_cam(model, item):\n",
    "    cam_image = None\n",
    "    # TODO: generate cam image\n",
    "    return cam_image"
   ]
  },
  {
   "cell_type": "code",
   "execution_count": null,
   "id": "formal-mattress",
   "metadata": {},
   "outputs": [],
   "source": [
    "cam_image = generate_cam(cam_model, item)\n",
    "plt.imshow(cam_image)"
   ]
  },
  {
   "cell_type": "code",
   "execution_count": null,
   "id": "unsigned-trinidad",
   "metadata": {},
   "outputs": [],
   "source": [
    "def visualize_cam_on_image(image, cam_image):\n",
    "    # TODO: blend image\n",
    "    merged_image = None\n",
    "    return merged_image"
   ]
  },
  {
   "cell_type": "code",
   "execution_count": null,
   "id": "documentary-brief",
   "metadata": {},
   "outputs": [],
   "source": [
    "# visualize_cam_on_image() 함수 사용\n",
    "\n",
    "type(item['image'].numpy())\n",
    "\n",
    "origin_image = item['image'].numpy().astype(np.uint8)\n",
    "cam_image_3channel = np.stack([cam_image*255]*3, axis=-1).astype(np.uint8)\n",
    "\n",
    "blended_image = visualize_cam_on_image(cam_image_3channel, origin_image)\n",
    "plt.imshow(blended_image)"
   ]
  },
  {
   "cell_type": "markdown",
   "id": "particular-navigation",
   "metadata": {},
   "source": [
    "## Grad-CAM 구현하기"
   ]
  },
  {
   "cell_type": "code",
   "execution_count": null,
   "id": "international-richards",
   "metadata": {},
   "outputs": [],
   "source": [
    "def generate_grad_cam(model, activation_layer, item):\n",
    "    grad_cam_image = None\n",
    "    # TODO: generate grad_cam_image\n",
    "\n",
    "    return grad_cam_image"
   ]
  },
  {
   "cell_type": "markdown",
   "id": "religious-outreach",
   "metadata": {},
   "source": [
    "## 바운딩 박스 구하기"
   ]
  },
  {
   "cell_type": "code",
   "execution_count": null,
   "id": "practical-knitting",
   "metadata": {},
   "outputs": [],
   "source": []
  },
  {
   "cell_type": "markdown",
   "id": "altered-special",
   "metadata": {},
   "source": [
    "## IoU 구하기"
   ]
  },
  {
   "cell_type": "code",
   "execution_count": null,
   "id": "substantial-switch",
   "metadata": {},
   "outputs": [],
   "source": [
    "def get_iou(gt_bbox, pred_bbox):\n",
    "    iou = None\n",
    "    # TODO: get iou between two bbox\n",
    "    return iou"
   ]
  },
  {
   "cell_type": "markdown",
   "id": "valued-isolation",
   "metadata": {},
   "source": [
    "## 루브릭 평가"
   ]
  },
  {
   "cell_type": "markdown",
   "id": "acoustic-prairie",
   "metadata": {},
   "source": [
    "1. CAM을 얻기 위한 기본모델의 구성과 학습이 정상 진행되었는가?\n",
    "\tResNet50 + GAP + DenseLayer 결합된 CAM 모델의 학습과정이 안정적으로 수렴하였다.\n",
    "\n",
    "2. 분류근거를 설명 가능한 Class activation map을 얻을 수 있는가?\n",
    "\tCAM 방식과 Grad-CAM 방식의 class activation map이 정상적으로 얻어지며, 시각화하였을 때 해당 object의 주요 특징 위치를 잘 반영한다.\n",
    "\n",
    "3. 인식결과의 시각화 및 성능 분석을 적절히 수행하였는가?\n",
    "\tCAM과 Grad-CAM 각각에 대해 원본이미지합성, 바운딩박스, IoU 계산 과정을 통해 CAM과 Grad-CAM의 object localization 성능이 비교분석되었다."
   ]
  }
 ],
 "metadata": {
  "kernelspec": {
   "display_name": "Python 3",
   "language": "python",
   "name": "python3"
  },
  "language_info": {
   "codemirror_mode": {
    "name": "ipython",
    "version": 3
   },
   "file_extension": ".py",
   "mimetype": "text/x-python",
   "name": "python",
   "nbconvert_exporter": "python",
   "pygments_lexer": "ipython3",
   "version": "3.7.9"
  }
 },
 "nbformat": 4,
 "nbformat_minor": 5
}
