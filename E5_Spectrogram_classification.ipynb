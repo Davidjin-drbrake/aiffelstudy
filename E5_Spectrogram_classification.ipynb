{
 "cells": [
  {
   "cell_type": "markdown",
   "id": "bizarre-limit",
   "metadata": {},
   "source": [
    "# E5 Spectrogram classification"
   ]
  },
  {
   "cell_type": "markdown",
   "id": "fancy-completion",
   "metadata": {},
   "source": [
    "## !! 프로젝트 목표 : 2D 스펙토그램을 이용하여 Classification 모델 구현"
   ]
  },
  {
   "cell_type": "markdown",
   "id": "acute-discount",
   "metadata": {},
   "source": [
    "## 1. 데이터 처리와 분류"
   ]
  },
  {
   "cell_type": "markdown",
   "id": "complex-chinese",
   "metadata": {},
   "source": [
    "### 1) 라벨 데이터 처리하기 \n",
    "### 2) sklearn의 train_test_split함수를 이용하여 train, test 분리"
   ]
  },
  {
   "cell_type": "markdown",
   "id": "waiting-gauge",
   "metadata": {},
   "source": [
    "#### ! 일단 데이터 가져 와서 분석"
   ]
  },
  {
   "cell_type": "code",
   "execution_count": 10,
   "id": "forward-fellowship",
   "metadata": {},
   "outputs": [],
   "source": [
    "import numpy as np\n",
    "import os\n",
    "import IPython.display as ipd\n",
    "import random\n",
    "from sklearn.model_selection import train_test_split\n",
    "\n",
    "import tensorflow as tf\n",
    "from tensorflow.keras import layers\n",
    "import librosa\n",
    "import librosa.display\n",
    "import matplotlib.pyplot as plt\n",
    "\n",
    "\n",
    "data_path = os.getenv(\"HOME\")+'/Spectrogram_classification/data/speech_wav_8000.npz'\n",
    "speech_data = np.load(data_path)"
   ]
  },
  {
   "cell_type": "code",
   "execution_count": 11,
   "id": "alpha-aluminum",
   "metadata": {
    "scrolled": true
   },
   "outputs": [
    {
     "name": "stdout",
     "output_type": "stream",
     "text": [
      "Wave data shape :  (50620, 8000)\n",
      "Label data shape :  (50620, 1)\n"
     ]
    }
   ],
   "source": [
    "print(\"Wave data shape : \", speech_data[\"wav_vals\"].shape)\n",
    "print(\"Label data shape : \", speech_data[\"label_vals\"].shape)"
   ]
  },
  {
   "cell_type": "code",
   "execution_count": 12,
   "id": "quick-clone",
   "metadata": {},
   "outputs": [
    {
     "name": "stdout",
     "output_type": "stream",
     "text": [
      "rand num :  398\n",
      "Wave data shape :  (8000,)\n",
      "label :  ['down']\n"
     ]
    },
    {
     "data": {
      "text/html": [
       "\n",
       "                <audio  controls=\"controls\" >\n",
       "                    <source src=\"data:audio/wav;base64,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\" type=\"audio/wav\" />\n",
       "                    Your browser does not support the audio element.\n",
       "                </audio>\n",
       "              "
      ],
      "text/plain": [
       "<IPython.lib.display.Audio object>"
      ]
     },
     "execution_count": 12,
     "metadata": {},
     "output_type": "execute_result"
    }
   ],
   "source": [
    "rand = random.randint(0, len(speech_data[\"wav_vals\"]))\n",
    "print(\"rand num : \", rand)\n",
    "\n",
    "sr = 8000\n",
    "data = speech_data[\"wav_vals\"][rand]\n",
    "print(\"Wave data shape : \", data.shape)\n",
    "print(\"label : \", speech_data[\"label_vals\"][rand])\n",
    "\n",
    "ipd.Audio(data, rate=sr)"
   ]
  },
  {
   "cell_type": "code",
   "execution_count": 13,
   "id": "quality-startup",
   "metadata": {},
   "outputs": [
    {
     "name": "stdout",
     "output_type": "stream",
     "text": [
      "LABEL :  ['yes', 'no', 'up', 'down', 'left', 'right', 'on', 'off', 'stop', 'go', 'unknown', 'silence']\n",
      "Indexed LABEL :  {'yes': 0, 'no': 1, 'up': 2, 'down': 3, 'left': 4, 'right': 5, 'on': 6, 'off': 7, 'stop': 8, 'go': 9, 'unknown': 10, 'silence': 11}\n"
     ]
    }
   ],
   "source": [
    "target_list = ['yes', 'no', 'up', 'down', 'left', 'right', 'on', 'off', 'stop', 'go']\n",
    "\n",
    "label_value = target_list\n",
    "label_value.append('unknown')\n",
    "label_value.append('silence')\n",
    "\n",
    "print('LABEL : ', label_value)\n",
    "\n",
    "new_label_value = dict()\n",
    "for i, l in enumerate(label_value):\n",
    "    new_label_value[l] = i\n",
    "label_value = new_label_value\n",
    "\n",
    "print('Indexed LABEL : ', new_label_value)"
   ]
  },
  {
   "cell_type": "markdown",
   "id": "moral-russia",
   "metadata": {},
   "source": [
    "#### ! 데이터 가져오니 50,620개 데이터의 라벨을 매기고 unkwon과 silence를 추가함"
   ]
  },
  {
   "cell_type": "markdown",
   "id": "excited-stomach",
   "metadata": {},
   "source": [
    "#### ! 이제는 텍스트를 index 작업"
   ]
  },
  {
   "cell_type": "code",
   "execution_count": 14,
   "id": "serial-jacksonville",
   "metadata": {},
   "outputs": [
    {
     "data": {
      "text/plain": [
       "array([ 3,  3,  3, ..., 11, 11, 11])"
      ]
     },
     "execution_count": 14,
     "metadata": {},
     "output_type": "execute_result"
    }
   ],
   "source": [
    "temp = []\n",
    "for v in speech_data[\"label_vals\"]:\n",
    "    temp.append(label_value[v[0]])\n",
    "label_data = np.array(temp)\n",
    "\n",
    "label_data\n",
    "#label_data.shape"
   ]
  },
  {
   "cell_type": "markdown",
   "id": "respective-latvia",
   "metadata": {},
   "source": [
    "### 학습을 위해 데이터 분리"
   ]
  },
  {
   "cell_type": "code",
   "execution_count": 16,
   "id": "toxic-chinese",
   "metadata": {
    "scrolled": true
   },
   "outputs": [
    {
     "name": "stdout",
     "output_type": "stream",
     "text": [
      "[5 4 5 ... 1 4 6]\n",
      "[ 6  4 11 ...  3  3  1]\n",
      " \n",
      "train data :  (45558, 8000)\n",
      "train labels :  (45558,)\n",
      "test data :  (5062, 8000)\n",
      "test labels :  (5062,)\n"
     ]
    }
   ],
   "source": [
    "train_wav, test_wav, train_label, test_label = train_test_split(speech_data[\"wav_vals\"], \n",
    "                                                                label_data, \n",
    "                                                                test_size=0.1,\n",
    "                                                                shuffle=True)\n",
    "\n",
    "print(train_label)\n",
    "print(test_label)\n",
    "\n",
    "#train_spect = train_spect.reshape([-1, sr, 1]) # add channel for CNN\n",
    "#test_spect = test_spect.reshape([-1, sr, 1]) # 계속 에러 난다.. 왜이러지.....\n",
    "\n",
    "print(\" \")\n",
    "print(\"train data : \", train_wav.shape)\n",
    "print(\"train labels : \", train_label.shape)\n",
    "print(\"test data : \", test_wav.shape)\n",
    "print(\"test labels : \", test_label.shape)"
   ]
  },
  {
   "cell_type": "markdown",
   "id": "fitted-exhaust",
   "metadata": {},
   "source": [
    "### 여기까지는 데이터 불러와서 학습/ 테스트 데이터로 분리"
   ]
  },
  {
   "cell_type": "markdown",
   "id": "designing-absence",
   "metadata": {},
   "source": [
    "## 2. 학습을 위한 하이퍼파라미터 설정"
   ]
  },
  {
   "cell_type": "code",
   "execution_count": 17,
   "id": "crazy-command",
   "metadata": {},
   "outputs": [
    {
     "data": {
      "text/plain": [
       "'/home/aiffel-dj29/Spectrogram_classification/models/wav'"
      ]
     },
     "execution_count": 17,
     "metadata": {},
     "output_type": "execute_result"
    }
   ],
   "source": [
    "batch_size = 16  # 본래 32개 속도를 고려하여 사이즈와 에폭 수정하고 있음.\n",
    "max_epochs = 10   # 본래 10개\n",
    "\n",
    "checkpoint_dir = os.getenv('HOME')+'/Spectrogram_classification/models/wav'\n",
    "\n",
    "checkpoint_dir"
   ]
  },
  {
   "cell_type": "markdown",
   "id": "copyrighted-nerve",
   "metadata": {},
   "source": [
    "### 나중에 학습 속도를 보고 batch size와 epochs를 바꿀꺼임"
   ]
  },
  {
   "cell_type": "markdown",
   "id": "electrical-midwest",
   "metadata": {},
   "source": [
    "## 3. 데이터셋 구성"
   ]
  },
  {
   "cell_type": "markdown",
   "id": "paperback-notion",
   "metadata": {},
   "source": [
    "### 데이터셋 구성 전에 1D wav 데이터를 2D Spectrogram 데이터로 전환"
   ]
  },
  {
   "cell_type": "code",
   "execution_count": 18,
   "id": "ambient-kentucky",
   "metadata": {},
   "outputs": [],
   "source": [
    "def wav2spec(wav, fft_size=258): # spectrogram shape을 맞추기위해서 size 변형\n",
    "    D = np.abs(librosa.stft(wav, n_fft=fft_size))\n",
    "    return D"
   ]
  },
  {
   "cell_type": "markdown",
   "id": "dedicated-registrar",
   "metadata": {},
   "source": [
    "### 먼저 train 데이터를 2D spectrogram으로 변환"
   ]
  },
  {
   "cell_type": "code",
   "execution_count": 19,
   "id": "genetic-chocolate",
   "metadata": {},
   "outputs": [
    {
     "data": {
      "text/plain": [
       "(45558, 8000)"
      ]
     },
     "execution_count": 19,
     "metadata": {},
     "output_type": "execute_result"
    }
   ],
   "source": [
    "train_spect = []\n",
    "\n",
    "for wav in train_wav:\n",
    "    train_spect.append(wav2spec(wav))\n",
    "    \n",
    "train_spect = np.array(train_spect)\n",
    "\n",
    "train_wav.shape"
   ]
  },
  {
   "cell_type": "code",
   "execution_count": 20,
   "id": "manufactured-claim",
   "metadata": {},
   "outputs": [
    {
     "data": {
      "text/plain": [
       "(45558, 130, 126)"
      ]
     },
     "execution_count": 20,
     "metadata": {},
     "output_type": "execute_result"
    }
   ],
   "source": [
    "train_spect.shape"
   ]
  },
  {
   "cell_type": "markdown",
   "id": "activated-management",
   "metadata": {},
   "source": [
    "### 이제는 test 데이터도 2D 변환"
   ]
  },
  {
   "cell_type": "code",
   "execution_count": 21,
   "id": "adjusted-shaft",
   "metadata": {},
   "outputs": [
    {
     "data": {
      "text/plain": [
       "(5062, 8000)"
      ]
     },
     "execution_count": 21,
     "metadata": {},
     "output_type": "execute_result"
    }
   ],
   "source": [
    "test_spect = []\n",
    "\n",
    "for wav in test_wav:\n",
    "    test_spect.append(wav2spec(wav))\n",
    "    \n",
    "test_spect = np.array(test_spect)\n",
    "\n",
    "test_wav.shape"
   ]
  },
  {
   "cell_type": "code",
   "execution_count": 22,
   "id": "pressing-raleigh",
   "metadata": {},
   "outputs": [
    {
     "data": {
      "text/plain": [
       "(5062, 130, 126)"
      ]
     },
     "execution_count": 22,
     "metadata": {},
     "output_type": "execute_result"
    }
   ],
   "source": [
    "test_spect.shape"
   ]
  },
  {
   "cell_type": "markdown",
   "id": "mobile-louis",
   "metadata": {},
   "source": [
    "### 스펙트로 그램 그려 보자"
   ]
  },
  {
   "cell_type": "code",
   "execution_count": 23,
   "id": "critical-studio",
   "metadata": {},
   "outputs": [
    {
     "data": {
      "image/png": "[encoded data removed]",
      "text/plain": [
       "<Figure size 432x288 with 2 Axes>"
      ]
     },
     "metadata": {
      "needs_background": "light"
     },
     "output_type": "display_data"
    }
   ],
   "source": [
    "librosa.display.specshow(librosa.amplitude_to_db(train_spect[100], ref=np.max), x_axis='time')\n",
    "plt.title('Power spectrogram')\n",
    "plt.colorbar(format='%+2.0f dB')\n",
    "plt.xticks(range(0, 1))\n",
    "plt.tight_layout()\n",
    "plt.show()"
   ]
  },
  {
   "cell_type": "markdown",
   "id": "secure-breakfast",
   "metadata": {},
   "source": [
    "\n",
    "    a. tf.data.Dataset을 이용\n",
    "    b. from_tensor_slices 함수에 return 받길 원하는 데이터를 튜플 (data, label) 형태로 넣어서 사용\n",
    "    c. map과 batch를 이용한 데이터 전처리\n",
    "    주의 : waveform을 spectrogram으로 변환하기 위해 추가로 사용하는 메모리 때문에 이후 메모리 부족 현상을 겪게 될수도 있습니다.\n",
    "    d. tf.data.Dataset이 생성된 이후, 아래 예시와 같이 wav 데이터나 spectrogram 데이터를 담아둔 메모리 버퍼를 비워 주면 도움이 됩니다.\n"
   ]
  },
  {
   "cell_type": "code",
   "execution_count": 25,
   "id": "rough-evans",
   "metadata": {},
   "outputs": [
    {
     "name": "stdout",
     "output_type": "stream",
     "text": [
      "(45558, 130, 126, 1)\n",
      "(5062, 130, 126, 1)\n"
     ]
    }
   ],
   "source": [
    "sr = train_spect.shape[1]\n",
    "sc = train_spect.shape[2]\n",
    "\n",
    "train_spect = train_spect.reshape([-1, sr, sc, 1]) # add channel for CNN  아 정말 오래 찾았다...\n",
    "test_spect = test_spect.reshape([-1, sr, sc, 1]) # 계속 에러 난다.. 왜이러지.....\n",
    "\n",
    "print(train_spect.shape)\n",
    "print(test_spect.shape)"
   ]
  },
  {
   "cell_type": "markdown",
   "id": "mexican-efficiency",
   "metadata": {},
   "source": [
    "### 하테하테 라벨이.."
   ]
  },
  {
   "cell_type": "code",
   "execution_count": 26,
   "id": "sharp-helen",
   "metadata": {},
   "outputs": [],
   "source": [
    "def one_hot_label(wav, label):\n",
    "    label = tf.one_hot(label, depth=12)\n",
    "    return wav, label"
   ]
  },
  {
   "cell_type": "markdown",
   "id": "particular-martin",
   "metadata": {},
   "source": [
    "### 대망의 데이터 셋 만들기"
   ]
  },
  {
   "cell_type": "code",
   "execution_count": 27,
   "id": "proof-cyprus",
   "metadata": {},
   "outputs": [
    {
     "name": "stdout",
     "output_type": "stream",
     "text": [
      "Train dataset :  <BatchDataset shapes: ((None, 130, 126, 1), (None, 12)), types: (tf.float32, tf.float32)>\n",
      " \n",
      "Test dataset :  <BatchDataset shapes: ((None, 130, 126, 1), (None, 12)), types: (tf.float32, tf.float32)>\n"
     ]
    }
   ],
   "source": [
    "# for train\n",
    "train_dataset = tf.data.Dataset.from_tensor_slices((train_spect, train_label))\n",
    "train_dataset = train_dataset.map(one_hot_label)\n",
    "train_dataset = train_dataset.repeat().batch(batch_size=batch_size)\n",
    "print(\"Train dataset : \", train_dataset)\n",
    "print(\" \")\n",
    "\n",
    "# for test\n",
    "test_dataset = tf.data.Dataset.from_tensor_slices((test_spect, test_label))\n",
    "test_dataset = test_dataset.map(one_hot_label)\n",
    "test_dataset = test_dataset.batch(batch_size=batch_size)\n",
    "print(\"Test dataset : \",test_dataset)"
   ]
  },
  {
   "cell_type": "markdown",
   "id": "guided-integration",
   "metadata": {},
   "source": [
    "### 제일 위에 있는 스피치 데이터 원본은 이제 다 썼으니 지워서 메모리 확보"
   ]
  },
  {
   "cell_type": "code",
   "execution_count": 29,
   "id": "chronic-pipeline",
   "metadata": {},
   "outputs": [
    {
     "ename": "NameError",
     "evalue": "name 'speech_data' is not defined",
     "output_type": "error",
     "traceback": [
      "\u001b[0;31m---------------------------------------------------------------------------\u001b[0m",
      "\u001b[0;31mNameError\u001b[0m                                 Traceback (most recent call last)",
      "\u001b[0;32m<ipython-input-29-9bd1b51603b1>\u001b[0m in \u001b[0;36m<module>\u001b[0;34m\u001b[0m\n\u001b[0;32m----> 1\u001b[0;31m \u001b[0;32mdel\u001b[0m \u001b[0mspeech_data\u001b[0m\u001b[0;34m\u001b[0m\u001b[0;34m\u001b[0m\u001b[0m\n\u001b[0m\u001b[1;32m      2\u001b[0m \u001b[0;31m#del spec_data\u001b[0m\u001b[0;34m\u001b[0m\u001b[0;34m\u001b[0m\u001b[0;34m\u001b[0m\u001b[0m\n\u001b[1;32m      3\u001b[0m \u001b[0;31m#del spec_arr\u001b[0m\u001b[0;34m\u001b[0m\u001b[0;34m\u001b[0m\u001b[0;34m\u001b[0m\u001b[0m\n",
      "\u001b[0;31mNameError\u001b[0m: name 'speech_data' is not defined"
     ]
    }
   ],
   "source": [
    "del speech_data\n",
    "#del spec_data\n",
    "#del spec_arr"
   ]
  },
  {
   "cell_type": "markdown",
   "id": "declared-register",
   "metadata": {},
   "source": [
    "## 학습 모델 빌드"
   ]
  },
  {
   "cell_type": "markdown",
   "id": "dried-garden",
   "metadata": {},
   "source": [
    "    a. 2차원 Spectrogram 데이터의 시간축 방향으로 Conv1D layer를 적용, 혹은 Conv2D layer를 적용 가능\n",
    "    b. batchnorm, dropout, dense layer 등을 이용\n",
    "    c. 12개의 단어 class를 구분하는 loss를 사용하고 Adam optimizer를 사용\n",
    "    d. 모델 가중치를 저장하는 checkpoint callback 함수 추가\n",
    "    e. 다양한 모델의 실험을 진행해 보시기 바랍니다."
   ]
  },
  {
   "cell_type": "code",
   "execution_count": 30,
   "id": "biological-russell",
   "metadata": {},
   "outputs": [
    {
     "name": "stdout",
     "output_type": "stream",
     "text": [
      "Model: \"model\"\n",
      "_________________________________________________________________\n",
      "Layer (type)                 Output Shape              Param #   \n",
      "=================================================================\n",
      "input_1 (InputLayer)         [(None, 130, 126, 1)]     0         \n",
      "_________________________________________________________________\n",
      "conv2d (Conv2D)              (None, 130, 126, 32)      2624      \n",
      "_________________________________________________________________\n",
      "conv2d_1 (Conv2D)            (None, 130, 126, 32)      82976     \n",
      "_________________________________________________________________\n",
      "max_pooling2d (MaxPooling2D) (None, 65, 63, 32)        0         \n",
      "_________________________________________________________________\n",
      "conv2d_2 (Conv2D)            (None, 65, 63, 64)        165952    \n",
      "_________________________________________________________________\n",
      "conv2d_3 (Conv2D)            (None, 65, 63, 64)        331840    \n",
      "_________________________________________________________________\n",
      "max_pooling2d_1 (MaxPooling2 (None, 32, 31, 64)        0         \n",
      "_________________________________________________________________\n",
      "conv2d_4 (Conv2D)            (None, 32, 31, 128)       663680    \n",
      "_________________________________________________________________\n",
      "conv2d_5 (Conv2D)            (None, 32, 31, 128)       1327232   \n",
      "_________________________________________________________________\n",
      "conv2d_6 (Conv2D)            (None, 32, 31, 128)       1327232   \n",
      "_________________________________________________________________\n",
      "max_pooling2d_2 (MaxPooling2 (None, 16, 15, 128)       0         \n",
      "_________________________________________________________________\n",
      "conv2d_7 (Conv2D)            (None, 16, 15, 256)       2654464   \n",
      "_________________________________________________________________\n",
      "conv2d_8 (Conv2D)            (None, 16, 15, 256)       5308672   \n",
      "_________________________________________________________________\n",
      "conv2d_9 (Conv2D)            (None, 16, 15, 256)       5308672   \n",
      "_________________________________________________________________\n",
      "max_pooling2d_3 (MaxPooling2 (None, 8, 7, 256)         0         \n",
      "_________________________________________________________________\n",
      "dropout (Dropout)            (None, 8, 7, 256)         0         \n",
      "_________________________________________________________________\n",
      "flatten (Flatten)            (None, 14336)             0         \n",
      "_________________________________________________________________\n",
      "dense (Dense)                (None, 128)               1835136   \n",
      "_________________________________________________________________\n",
      "batch_normalization (BatchNo (None, 128)               512       \n",
      "_________________________________________________________________\n",
      "activation (Activation)      (None, 128)               0         \n",
      "_________________________________________________________________\n",
      "dense_1 (Dense)              (None, 12)                1548      \n",
      "=================================================================\n",
      "Total params: 19,010,540\n",
      "Trainable params: 19,010,284\n",
      "Non-trainable params: 256\n",
      "_________________________________________________________________\n"
     ]
    }
   ],
   "source": [
    "input_tensor = layers.Input(shape=(sr, sc, 1))\n",
    "\n",
    "x = layers.Conv2D(32, 9, padding='same', activation='relu')(input_tensor)\n",
    "x = layers.Conv2D(32, 9, padding='same', activation='relu')(x)\n",
    "x = layers.MaxPool2D()(x)\n",
    "\n",
    "x = layers.Conv2D(64, 9, padding='same', activation='relu')(x)\n",
    "x = layers.Conv2D(64, 9, padding='same', activation='relu')(x)\n",
    "x = layers.MaxPool2D()(x)\n",
    "\n",
    "x = layers.Conv2D(128, 9, padding='same', activation='relu')(x)\n",
    "x = layers.Conv2D(128, 9, padding='same', activation='relu')(x)\n",
    "x = layers.Conv2D(128, 9, padding='same', activation='relu')(x)\n",
    "x = layers.MaxPool2D()(x)\n",
    "\n",
    "x = layers.Conv2D(256, 9, padding='same', activation='relu')(x)\n",
    "x = layers.Conv2D(256, 9, padding='same', activation='relu')(x)\n",
    "x = layers.Conv2D(256, 9, padding='same', activation='relu')(x)\n",
    "x = layers.MaxPool2D()(x)\n",
    "x = layers.Dropout(0.3)(x)\n",
    "\n",
    "x = layers.Flatten()(x)\n",
    "x = layers.Dense(128)(x) # 속도 좀 줄이게 깊이를 줄임 본래 256\n",
    "x = layers.BatchNormalization()(x)\n",
    "x = layers.Activation('relu')(x)\n",
    "\n",
    "output_tensor = layers.Dense(12)(x)\n",
    "\n",
    "model_wav = tf.keras.Model(input_tensor, output_tensor)\n",
    "\n",
    "model_wav.summary()"
   ]
  },
  {
   "cell_type": "markdown",
   "id": "owned-nothing",
   "metadata": {},
   "source": [
    "### Loss값 계산"
   ]
  },
  {
   "cell_type": "code",
   "execution_count": 31,
   "id": "qualified-compromise",
   "metadata": {},
   "outputs": [],
   "source": [
    "optimizer=tf.keras.optimizers.Adam(1e-4)\n",
    "model_wav.compile(loss=tf.keras.losses.CategoricalCrossentropy(from_logits=True),\n",
    "             optimizer=optimizer,\n",
    "             metrics=['accuracy'])"
   ]
  },
  {
   "cell_type": "markdown",
   "id": "disturbed-triumph",
   "metadata": {},
   "source": [
    "### Train"
   ]
  },
  {
   "cell_type": "code",
   "execution_count": 32,
   "id": "maritime-tuesday",
   "metadata": {},
   "outputs": [],
   "source": [
    "cp_callback = tf.keras.callbacks.ModelCheckpoint(checkpoint_dir,\n",
    "                                                 save_weights_only=True,\n",
    "                                                 monitor='val_loss',\n",
    "                                                 mode='auto',\n",
    "                                                 save_best_only=True,\n",
    "                                                 verbose=1)"
   ]
  },
  {
   "cell_type": "markdown",
   "id": "seasonal-tumor",
   "metadata": {},
   "source": [
    "### 가자 !!!   이번에는 잘 돌아야 한다. 죽지마~"
   ]
  },
  {
   "cell_type": "code",
   "execution_count": 33,
   "id": "instrumental-living",
   "metadata": {},
   "outputs": [
    {
     "name": "stdout",
     "output_type": "stream",
     "text": [
      "Epoch 1/10\n",
      "2847/2847 [==============================] - ETA: 0s - loss: 0.7052 - accuracy: 0.7717\n",
      "Epoch 00001: val_loss improved from inf to 0.33446, saving model to /home/aiffel-dj29/Spectrogram_classification/models/wav\n",
      "2847/2847 [==============================] - 287s 101ms/step - loss: 0.7052 - accuracy: 0.7717 - val_loss: 0.3345 - val_accuracy: 0.8892\n",
      "Epoch 2/10\n",
      "2847/2847 [==============================] - ETA: 0s - loss: 0.2462 - accuracy: 0.9243 ETA: 3s - E\n",
      "Epoch 00002: val_loss improved from 0.33446 to 0.22242, saving model to /home/aiffel-dj29/Spectrogram_classification/models/wav\n",
      "2847/2847 [==============================] - 294s 103ms/step - loss: 0.2462 - accuracy: 0.9243 - val_loss: 0.2224 - val_accuracy: 0.9290\n",
      "Epoch 3/10\n",
      "2847/2847 [==============================] - ETA: 0s - loss: 0.1732 - accuracy: 0.9474\n",
      "Epoch 00003: val_loss improved from 0.22242 to 0.21918, saving model to /home/aiffel-dj29/Spectrogram_classification/models/wav\n",
      "2847/2847 [==============================] - 301s 106ms/step - loss: 0.1732 - accuracy: 0.9474 - val_loss: 0.2192 - val_accuracy: 0.9268\n",
      "Epoch 4/10\n",
      "2847/2847 [==============================] - ETA: 0s - loss: 0.1316 - accuracy: 0.9586\n",
      "Epoch 00004: val_loss improved from 0.21918 to 0.14550, saving model to /home/aiffel-dj29/Spectrogram_classification/models/wav\n",
      "2847/2847 [==============================] - 308s 108ms/step - loss: 0.1316 - accuracy: 0.9586 - val_loss: 0.1455 - val_accuracy: 0.9535\n",
      "Epoch 5/10\n",
      "2847/2847 [==============================] - ETA: 0s - loss: 0.1080 - accuracy: 0.9652\n",
      "Epoch 00005: val_loss did not improve from 0.14550\n",
      "2847/2847 [==============================] - 309s 109ms/step - loss: 0.1080 - accuracy: 0.9652 - val_loss: 0.1549 - val_accuracy: 0.9521\n",
      "Epoch 6/10\n",
      "2847/2847 [==============================] - ETA: 0s - loss: 0.0953 - accuracy: 0.9689\n",
      "Epoch 00006: val_loss improved from 0.14550 to 0.12366, saving model to /home/aiffel-dj29/Spectrogram_classification/models/wav\n",
      "2847/2847 [==============================] - 310s 109ms/step - loss: 0.0953 - accuracy: 0.9689 - val_loss: 0.1237 - val_accuracy: 0.9640\n",
      "Epoch 7/10\n",
      "2847/2847 [==============================] - ETA: 0s - loss: 0.0827 - accuracy: 0.9734\n",
      "Epoch 00007: val_loss did not improve from 0.12366\n",
      "2847/2847 [==============================] - 310s 109ms/step - loss: 0.0827 - accuracy: 0.9734 - val_loss: 0.1327 - val_accuracy: 0.9632\n",
      "Epoch 8/10\n",
      "2847/2847 [==============================] - ETA: 0s - loss: 0.0756 - accuracy: 0.9752\n",
      "Epoch 00008: val_loss improved from 0.12366 to 0.11511, saving model to /home/aiffel-dj29/Spectrogram_classification/models/wav\n",
      "2847/2847 [==============================] - 310s 109ms/step - loss: 0.0756 - accuracy: 0.9752 - val_loss: 0.1151 - val_accuracy: 0.9650\n",
      "Epoch 9/10\n",
      "2847/2847 [==============================] - ETA: 0s - loss: 0.0670 - accuracy: 0.9775\n",
      "Epoch 00009: val_loss did not improve from 0.11511\n",
      "2847/2847 [==============================] - 310s 109ms/step - loss: 0.0670 - accuracy: 0.9775 - val_loss: 0.1429 - val_accuracy: 0.9614\n",
      "Epoch 10/10\n",
      "2847/2847 [==============================] - ETA: 0s - loss: 0.0619 - accuracy: 0.9796\n",
      "Epoch 00010: val_loss did not improve from 0.11511\n",
      "2847/2847 [==============================] - 310s 109ms/step - loss: 0.0619 - accuracy: 0.9796 - val_loss: 0.1157 - val_accuracy: 0.9676\n"
     ]
    }
   ],
   "source": [
    "history_wav = model_wav.fit(train_dataset, epochs=max_epochs,\n",
    "                    steps_per_epoch=len(train_spect) // batch_size,\n",
    "                    validation_data=test_dataset,\n",
    "                    validation_steps=len(test_spect) // batch_size,\n",
    "                    callbacks=[cp_callback]\n",
    "                    )"
   ]
  },
  {
   "cell_type": "markdown",
   "id": "sticky-occurrence",
   "metadata": {},
   "source": [
    "### 오우 살았다.. 커널이 견딘거야 !!!!!  고맙다   (feat. 5번을 울고 다시 한번)"
   ]
  },
  {
   "cell_type": "markdown",
   "id": "commercial-seeker",
   "metadata": {},
   "source": [
    "## 5. 학습 후, 학습이 어떻게 진행됐는지 그래프로 출력"
   ]
  },
  {
   "cell_type": "code",
   "execution_count": 34,
   "id": "optional-memory",
   "metadata": {},
   "outputs": [
    {
     "data": {
      "image/png": "[encoded data removed]",
      "text/plain": [
       "<Figure size 576x576 with 2 Axes>"
      ]
     },
     "metadata": {
      "needs_background": "light"
     },
     "output_type": "display_data"
    }
   ],
   "source": [
    "acc = history_wav.history['accuracy']\n",
    "val_acc = history_wav.history['val_accuracy']\n",
    "\n",
    "loss=history_wav.history['loss']\n",
    "val_loss=history_wav.history['val_loss']\n",
    "\n",
    "epochs_range = range(len(acc))\n",
    "\n",
    "plt.figure(figsize=(8, 8))\n",
    "plt.subplot(1, 2, 1)\n",
    "plt.plot(epochs_range, acc, label='Training Accuracy')\n",
    "plt.plot(epochs_range, val_acc, label='Validation Accuracy')\n",
    "plt.legend(loc='lower right')\n",
    "plt.title('Training and Validation Accuracy')\n",
    "\n",
    "plt.subplot(1, 2, 2)\n",
    "plt.plot(epochs_range, loss, label='Training Loss')\n",
    "plt.plot(epochs_range, val_loss, label='Validation Loss')\n",
    "plt.legend(loc='upper right')\n",
    "plt.title('Training and Validation Loss')\n",
    "plt.show()"
   ]
  },
  {
   "cell_type": "markdown",
   "id": "sound-joint",
   "metadata": {},
   "source": [
    "### 학습한 것과 평가가 비슷한 수준으로 따라 가는 것을 보니 잘 학습 된것 같은???"
   ]
  },
  {
   "cell_type": "markdown",
   "id": "greater-cholesterol",
   "metadata": {},
   "source": [
    "### Evaluation"
   ]
  },
  {
   "cell_type": "code",
   "execution_count": 35,
   "id": "closed-manor",
   "metadata": {},
   "outputs": [
    {
     "data": {
      "text/plain": [
       "<tensorflow.python.training.tracking.util.CheckpointLoadStatus at 0x7f5d9c73d450>"
      ]
     },
     "execution_count": 35,
     "metadata": {},
     "output_type": "execute_result"
    }
   ],
   "source": [
    "model_wav.load_weights(checkpoint_dir)"
   ]
  },
  {
   "cell_type": "markdown",
   "id": "pretty-specialist",
   "metadata": {},
   "source": [
    "### 얼마나 예측값이 실제와 가까운지 봅시다 !!"
   ]
  },
  {
   "cell_type": "code",
   "execution_count": 36,
   "id": "herbal-chorus",
   "metadata": {},
   "outputs": [
    {
     "name": "stdout",
     "output_type": "stream",
     "text": [
      "317/317 [==============================] - 23s 72ms/step - loss: 0.1150 - accuracy: 0.9650\n"
     ]
    }
   ],
   "source": [
    "results = model_wav.evaluate(test_dataset)"
   ]
  },
  {
   "cell_type": "code",
   "execution_count": 37,
   "id": "rolled-proportion",
   "metadata": {},
   "outputs": [
    {
     "name": "stdout",
     "output_type": "stream",
     "text": [
      "loss value: 0.115\n",
      "accuracy value: 96.5034%\n"
     ]
    }
   ],
   "source": [
    "# loss\n",
    "print(\"loss value: {:.3f}\".format(results[0]))\n",
    "# accuracy\n",
    "print(\"accuracy value: {:.4f}%\".format(results[1]*100))"
   ]
  },
  {
   "cell_type": "markdown",
   "id": "complex-boring",
   "metadata": {},
   "source": [
    "96% 정확도에 로스가 0.1"
   ]
  },
  {
   "cell_type": "markdown",
   "id": "streaming-liver",
   "metadata": {},
   "source": [
    "## 6. Test dataset을 이용해서 모델의 성능을 평가"
   ]
  },
  {
   "cell_type": "code",
   "execution_count": 39,
   "id": "velvet-stuff",
   "metadata": {},
   "outputs": [
    {
     "name": "stdout",
     "output_type": "stream",
     "text": [
      "label :  down\n",
      "y_pred:  down\n"
     ]
    }
   ],
   "source": [
    "inv_label_value = {v: k for k, v in label_value.items()}\n",
    "batch_index = np.random.choice(len(test_spect), size=1, replace=False)\n",
    "\n",
    "batch_xs = test_spect[batch_index]\n",
    "batch_ys = test_label[batch_index]\n",
    "y_pred_ = model_wav(batch_xs, training=False)\n",
    "\n",
    "print(\"label : \", str(inv_label_value[batch_ys[0]]))\n",
    "print(\"y_pred: \", str(inv_label_value[np.argmax(y_pred_)]))\n",
    "\n",
    "#ipd.Audio(batch_xs.reshape(8000,), rate=8000)"
   ]
  },
  {
   "cell_type": "markdown",
   "id": "governing-projector",
   "metadata": {},
   "source": [
    "### 오케이 맞았고."
   ]
  },
  {
   "cell_type": "markdown",
   "id": "cognitive-sustainability",
   "metadata": {},
   "source": [
    "## 7. Skip-connection model"
   ]
  },
  {
   "cell_type": "markdown",
   "id": "suspected-pontiac",
   "metadata": {},
   "source": [
    "## Skip 모델"
   ]
  },
  {
   "cell_type": "code",
   "execution_count": 42,
   "id": "historical-attribute",
   "metadata": {},
   "outputs": [
    {
     "name": "stdout",
     "output_type": "stream",
     "text": [
      "Model: \"model_3\"\n",
      "__________________________________________________________________________________________________\n",
      "Layer (type)                    Output Shape         Param #     Connected to                     \n",
      "==================================================================================================\n",
      "input_4 (InputLayer)            [(None, 130, 126, 1) 0                                            \n",
      "__________________________________________________________________________________________________\n",
      "conv2d_27 (Conv2D)              (None, 130, 126, 32) 2624        input_4[0][0]                    \n",
      "__________________________________________________________________________________________________\n",
      "conv2d_28 (Conv2D)              (None, 130, 126, 32) 82976       conv2d_27[0][0]                  \n",
      "__________________________________________________________________________________________________\n",
      "max_pooling2d_11 (MaxPooling2D) (None, 65, 63, 32)   0           conv2d_28[0][0]                  \n",
      "__________________________________________________________________________________________________\n",
      "conv2d_29 (Conv2D)              (None, 65, 63, 64)   165952      max_pooling2d_11[0][0]           \n",
      "__________________________________________________________________________________________________\n",
      "conv2d_30 (Conv2D)              (None, 65, 63, 64)   331840      conv2d_29[0][0]                  \n",
      "__________________________________________________________________________________________________\n",
      "tf_op_layer_concat_5 (TensorFlo [(None, 65, 63, 96)] 0           conv2d_30[0][0]                  \n",
      "                                                                 max_pooling2d_11[0][0]           \n",
      "__________________________________________________________________________________________________\n",
      "max_pooling2d_12 (MaxPooling2D) (None, 32, 31, 96)   0           tf_op_layer_concat_5[0][0]       \n",
      "__________________________________________________________________________________________________\n",
      "conv2d_31 (Conv2D)              (None, 32, 31, 128)  995456      max_pooling2d_12[0][0]           \n",
      "__________________________________________________________________________________________________\n",
      "conv2d_32 (Conv2D)              (None, 32, 31, 128)  1327232     conv2d_31[0][0]                  \n",
      "__________________________________________________________________________________________________\n",
      "conv2d_33 (Conv2D)              (None, 32, 31, 128)  1327232     conv2d_32[0][0]                  \n",
      "__________________________________________________________________________________________________\n",
      "tf_op_layer_concat_6 (TensorFlo [(None, 32, 31, 224) 0           conv2d_33[0][0]                  \n",
      "                                                                 max_pooling2d_12[0][0]           \n",
      "__________________________________________________________________________________________________\n",
      "max_pooling2d_13 (MaxPooling2D) (None, 16, 15, 224)  0           tf_op_layer_concat_6[0][0]       \n",
      "__________________________________________________________________________________________________\n",
      "conv2d_34 (Conv2D)              (None, 16, 15, 256)  4645120     max_pooling2d_13[0][0]           \n",
      "__________________________________________________________________________________________________\n",
      "conv2d_35 (Conv2D)              (None, 16, 15, 256)  5308672     conv2d_34[0][0]                  \n",
      "__________________________________________________________________________________________________\n",
      "conv2d_36 (Conv2D)              (None, 16, 15, 256)  5308672     conv2d_35[0][0]                  \n",
      "__________________________________________________________________________________________________\n",
      "tf_op_layer_concat_7 (TensorFlo [(None, 16, 15, 480) 0           conv2d_36[0][0]                  \n",
      "                                                                 max_pooling2d_13[0][0]           \n",
      "__________________________________________________________________________________________________\n",
      "max_pooling2d_14 (MaxPooling2D) (None, 8, 7, 480)    0           tf_op_layer_concat_7[0][0]       \n",
      "__________________________________________________________________________________________________\n",
      "dropout_2 (Dropout)             (None, 8, 7, 480)    0           max_pooling2d_14[0][0]           \n",
      "__________________________________________________________________________________________________\n",
      "flatten_3 (Flatten)             (None, 26880)        0           dropout_2[0][0]                  \n",
      "__________________________________________________________________________________________________\n",
      "dense_6 (Dense)                 (None, 128)          3440768     flatten_3[0][0]                  \n",
      "__________________________________________________________________________________________________\n",
      "batch_normalization_3 (BatchNor (None, 128)          512         dense_6[0][0]                    \n",
      "__________________________________________________________________________________________________\n",
      "activation_3 (Activation)       (None, 128)          0           batch_normalization_3[0][0]      \n",
      "__________________________________________________________________________________________________\n",
      "dense_7 (Dense)                 (None, 12)           1548        activation_3[0][0]               \n",
      "==================================================================================================\n",
      "Total params: 22,938,604\n",
      "Trainable params: 22,938,348\n",
      "Non-trainable params: 256\n",
      "__________________________________________________________________________________________________\n"
     ]
    }
   ],
   "source": [
    "input_tensor = layers.Input(shape=(sr, sc, 1))\n",
    "\n",
    "x = layers.Conv2D(32, 9, padding='same', activation='relu')(input_tensor)\n",
    "x = layers.Conv2D(32, 9, padding='same', activation='relu')(x)\n",
    "skip_1 = layers.MaxPool2D()(x)  # 요놈이 스킵이구만 ㅋㅋ\n",
    "\n",
    "x = layers.Conv2D(64, 9, padding='same', activation='relu')(skip_1)\n",
    "x = layers.Conv2D(64, 9, padding='same', activation='relu')(x)\n",
    "x = tf.concat([x, skip_1], -1)\n",
    "skip_2 = layers.MaxPool2D()(x)\n",
    "\n",
    "x = layers.Conv2D(128, 9, padding='same', activation='relu')(skip_2)\n",
    "x = layers.Conv2D(128, 9, padding='same', activation='relu')(x)\n",
    "x = layers.Conv2D(128, 9, padding='same', activation='relu')(x)\n",
    "x = tf.concat([x, skip_2], -1)\n",
    "skip_3 = layers.MaxPool2D()(x)\n",
    "\n",
    "x = layers.Conv2D(256, 9, padding='same', activation='relu')(skip_3)\n",
    "x = layers.Conv2D(256, 9, padding='same', activation='relu')(x)\n",
    "x = layers.Conv2D(256, 9, padding='same', activation='relu')(x)\n",
    "x = tf.concat([x, skip_3], -1)\n",
    "x = layers.MaxPool2D()(x)\n",
    "x = layers.Dropout(0.3)(x)\n",
    "\n",
    "x = layers.Flatten()(x)\n",
    "x = layers.Dense(128)(x)\n",
    "x = layers.BatchNormalization()(x)\n",
    "x = layers.Activation('relu')(x)\n",
    "\n",
    "output_tensor = layers.Dense(12)(x)\n",
    "\n",
    "model_wav_skip = tf.keras.Model(input_tensor, output_tensor)\n",
    "\n",
    "model_wav_skip.summary()"
   ]
  },
  {
   "cell_type": "markdown",
   "id": "noted-survivor",
   "metadata": {},
   "source": [
    "## Drop_out 덕분에 1천만개 파라메터가 줄었다... 괜찮은건가?  나중에 결론이 나오겠지"
   ]
  },
  {
   "cell_type": "markdown",
   "id": "significant-victorian",
   "metadata": {},
   "source": [
    "### Loss"
   ]
  },
  {
   "cell_type": "code",
   "execution_count": 43,
   "id": "hairy-history",
   "metadata": {},
   "outputs": [],
   "source": [
    "optimizer=tf.keras.optimizers.Adam(1e-4)\n",
    "model_wav_skip.compile(loss=tf.keras.losses.CategoricalCrossentropy(from_logits=True),\n",
    "             optimizer=optimizer,\n",
    "             metrics=['accuracy'])"
   ]
  },
  {
   "cell_type": "code",
   "execution_count": 44,
   "id": "immediate-equality",
   "metadata": {},
   "outputs": [],
   "source": [
    "checkpoint_dir = os.getenv('HOME')+'/speech_recognition/models/wav_skip'\n",
    "\n",
    "cp_callback = tf.keras.callbacks.ModelCheckpoint(checkpoint_dir,\n",
    "                                                 save_weights_only=True,\n",
    "                                                 monitor='val_loss',\n",
    "                                                 mode='auto',\n",
    "                                                 save_best_only=True,\n",
    "                                                 verbose=1)"
   ]
  },
  {
   "cell_type": "markdown",
   "id": "executed-elizabeth",
   "metadata": {},
   "source": [
    "### 다시 도전 !!  제발 살아 주세요."
   ]
  },
  {
   "cell_type": "code",
   "execution_count": 45,
   "id": "continued-significance",
   "metadata": {},
   "outputs": [
    {
     "name": "stdout",
     "output_type": "stream",
     "text": [
      "Epoch 1/10\n",
      "2847/2847 [==============================] - ETA: 0s - loss: 0.6707 - accuracy: 0.7890\n",
      "Epoch 00001: val_loss improved from inf to 0.28532, saving model to /home/aiffel-dj29/speech_recognition/models/wav_skip\n",
      "2847/2847 [==============================] - 313s 110ms/step - loss: 0.6707 - accuracy: 0.7890 - val_loss: 0.2853 - val_accuracy: 0.9114\n",
      "Epoch 2/10\n",
      "2847/2847 [==============================] - ETA: 0s - loss: 0.2156 - accuracy: 0.9350\n",
      "Epoch 00002: val_loss improved from 0.28532 to 0.16895, saving model to /home/aiffel-dj29/speech_recognition/models/wav_skip\n",
      "2847/2847 [==============================] - 318s 112ms/step - loss: 0.2156 - accuracy: 0.9350 - val_loss: 0.1690 - val_accuracy: 0.9438\n",
      "Epoch 3/10\n",
      "2847/2847 [==============================] - ETA: 0s - loss: 0.1474 - accuracy: 0.9543\n",
      "Epoch 00003: val_loss improved from 0.16895 to 0.16697, saving model to /home/aiffel-dj29/speech_recognition/models/wav_skip\n",
      "2847/2847 [==============================] - 329s 116ms/step - loss: 0.1474 - accuracy: 0.9543 - val_loss: 0.1670 - val_accuracy: 0.9492\n",
      "Epoch 4/10\n",
      "2847/2847 [==============================] - ETA: 0s - loss: 0.1124 - accuracy: 0.9637\n",
      "Epoch 00004: val_loss improved from 0.16697 to 0.15830, saving model to /home/aiffel-dj29/speech_recognition/models/wav_skip\n",
      "2847/2847 [==============================] - 336s 118ms/step - loss: 0.1124 - accuracy: 0.9637 - val_loss: 0.1583 - val_accuracy: 0.9523\n",
      "Epoch 5/10\n",
      "2847/2847 [==============================] - ETA: 0s - loss: 0.0905 - accuracy: 0.9702\n",
      "Epoch 00005: val_loss did not improve from 0.15830\n",
      "2847/2847 [==============================] - 338s 119ms/step - loss: 0.0905 - accuracy: 0.9702 - val_loss: 0.1598 - val_accuracy: 0.9523\n",
      "Epoch 6/10\n",
      "2847/2847 [==============================] - ETA: 0s - loss: 0.0803 - accuracy: 0.9741\n",
      "Epoch 00006: val_loss improved from 0.15830 to 0.11791, saving model to /home/aiffel-dj29/speech_recognition/models/wav_skip\n",
      "2847/2847 [==============================] - 340s 120ms/step - loss: 0.0803 - accuracy: 0.9741 - val_loss: 0.1179 - val_accuracy: 0.9636\n",
      "Epoch 7/10\n",
      "2847/2847 [==============================] - ETA: 0s - loss: 0.0691 - accuracy: 0.9776\n",
      "Epoch 00007: val_loss improved from 0.11791 to 0.11063, saving model to /home/aiffel-dj29/speech_recognition/models/wav_skip\n",
      "2847/2847 [==============================] - 341s 120ms/step - loss: 0.0691 - accuracy: 0.9776 - val_loss: 0.1106 - val_accuracy: 0.9674\n",
      "Epoch 8/10\n",
      "2847/2847 [==============================] - ETA: 0s - loss: 0.0631 - accuracy: 0.9793\n",
      "Epoch 00008: val_loss improved from 0.11063 to 0.10228, saving model to /home/aiffel-dj29/speech_recognition/models/wav_skip\n",
      "2847/2847 [==============================] - 341s 120ms/step - loss: 0.0631 - accuracy: 0.9793 - val_loss: 0.1023 - val_accuracy: 0.9703\n",
      "Epoch 9/10\n",
      "2847/2847 [==============================] - ETA: 0s - loss: 0.0589 - accuracy: 0.9809\n",
      "Epoch 00009: val_loss did not improve from 0.10228\n",
      "2847/2847 [==============================] - 340s 120ms/step - loss: 0.0589 - accuracy: 0.9809 - val_loss: 0.1047 - val_accuracy: 0.9670\n",
      "Epoch 10/10\n",
      "2847/2847 [==============================] - ETA: 0s - loss: 0.0544 - accuracy: 0.9822\n",
      "Epoch 00010: val_loss did not improve from 0.10228\n",
      "2847/2847 [==============================] - 340s 119ms/step - loss: 0.0544 - accuracy: 0.9822 - val_loss: 0.1233 - val_accuracy: 0.9634\n"
     ]
    }
   ],
   "source": [
    "history_wav_skip = model_wav_skip.fit(train_dataset, epochs=max_epochs,\n",
    "                    steps_per_epoch=len(train_spect) // batch_size,\n",
    "                    validation_data=test_dataset,\n",
    "                    validation_steps=len(test_spect) // batch_size,\n",
    "                    callbacks=[cp_callback]\n",
    "                    )"
   ]
  },
  {
   "cell_type": "markdown",
   "id": "protecting-bunny",
   "metadata": {},
   "source": [
    "### 시각화"
   ]
  },
  {
   "cell_type": "code",
   "execution_count": 46,
   "id": "bound-train",
   "metadata": {},
   "outputs": [
    {
     "data": {
      "image/png": "[encoded data removed]",
      "text/plain": [
       "<Figure size 576x576 with 2 Axes>"
      ]
     },
     "metadata": {
      "needs_background": "light"
     },
     "output_type": "display_data"
    }
   ],
   "source": [
    "acc = history_wav_skip.history['accuracy']\n",
    "val_acc = history_wav_skip.history['val_accuracy']\n",
    "\n",
    "loss=history_wav_skip.history['loss']\n",
    "val_loss=history_wav_skip.history['val_loss']\n",
    "\n",
    "epochs_range = range(len(acc))\n",
    "\n",
    "plt.figure(figsize=(8, 8))\n",
    "plt.subplot(1, 2, 1)\n",
    "plt.plot(epochs_range, acc, label='Training Accuracy')\n",
    "plt.plot(epochs_range, val_acc, label='Validation Accuracy')\n",
    "plt.legend(loc='lower right')\n",
    "plt.title('Training and Validation Accuracy')\n",
    "\n",
    "plt.subplot(1, 2, 2)\n",
    "plt.plot(epochs_range, loss, label='Training Loss')\n",
    "plt.plot(epochs_range, val_loss, label='Validation Loss')\n",
    "plt.legend(loc='upper right')\n",
    "plt.title('Training and Validation Loss')\n",
    "plt.show()"
   ]
  },
  {
   "cell_type": "markdown",
   "id": "military-silicon",
   "metadata": {},
   "source": [
    "## Evaluation"
   ]
  },
  {
   "cell_type": "code",
   "execution_count": 47,
   "id": "affiliated-graham",
   "metadata": {},
   "outputs": [
    {
     "name": "stdout",
     "output_type": "stream",
     "text": [
      "317/317 [==============================] - 13s 40ms/step - loss: 0.1022 - accuracy: 0.9704\n",
      "loss value: 0.102\n",
      "accuracy value: 97.0367%\n"
     ]
    }
   ],
   "source": [
    "model_wav_skip.load_weights(checkpoint_dir)\n",
    "results = model_wav_skip.evaluate(test_dataset)\n",
    "\n",
    "# loss\n",
    "print(\"loss value: {:.3f}\".format(results[0]))\n",
    "# accuracy\n",
    "print(\"accuracy value: {:.4f}%\".format(results[1]*100))"
   ]
  },
  {
   "cell_type": "markdown",
   "id": "outdoor-friendship",
   "metadata": {},
   "source": [
    "## Test"
   ]
  },
  {
   "cell_type": "code",
   "execution_count": 50,
   "id": "wrapped-monte",
   "metadata": {},
   "outputs": [
    {
     "name": "stdout",
     "output_type": "stream",
     "text": [
      "label :  right\n",
      "y_pred :  right\n"
     ]
    }
   ],
   "source": [
    "inv_label_value = {v: k for k, v in label_value.items()}\n",
    "batch_index = np.random.choice(len(test_spect), size=1, replace=False)\n",
    "\n",
    "batch_xs = test_spect[batch_index]\n",
    "batch_ys = test_label[batch_index]\n",
    "y_pred_ = model_wav_skip(batch_xs, training=False)\n",
    "\n",
    "print(\"label : \", str(inv_label_value[batch_ys[0]]))\n",
    "print(\"y_pred : \", str(inv_label_value[np.argmax(y_pred_)]))"
   ]
  },
  {
   "cell_type": "markdown",
   "id": "indie-poison",
   "metadata": {},
   "source": [
    "## 회고록...."
   ]
  },
  {
   "cell_type": "markdown",
   "id": "perfect-password",
   "metadata": {},
   "source": [
    "#### 1. Skip connection의 유무를 비교 해 보면\n",
    "####     무 : accuracy - 96.5%   loss - 0.5\n",
    "####     유 : accuracy - 97.0%   loss - 0.1\n",
    "####    결론 : 나의 케이스는 skip 기능이 더 좋은 기능으로 결론이 나왔다. 다른 팀원은 안 좋은 결과를 가지는데 저는 모든 모델을 다 쓰는데 집중하였다.\n",
    "\n",
    "#### 2. 어려웠던 부분 : 1D wave 에서 2D spectrogram 만드는게 어려웠음.\n",
    "####                             2차원으로 늘어나면서 각 함수의 속성값들을 맞추는데 어려웠음..  디버깅하면서 찾음\n",
    "####                             모델의 파라메터가 늘어 나면서 커널이 죽는 현상을 많이 겪음."
   ]
  }
 ],
 "metadata": {
  "kernelspec": {
   "display_name": "Python 3",
   "language": "python",
   "name": "python3"
  },
  "language_info": {
   "codemirror_mode": {
    "name": "ipython",
    "version": 3
   },
   "file_extension": ".py",
   "mimetype": "text/x-python",
   "name": "python",
   "nbconvert_exporter": "python",
   "pygments_lexer": "ipython3",
   "version": "3.7.9"
  }
 },
 "nbformat": 4,
 "nbformat_minor": 5
}
