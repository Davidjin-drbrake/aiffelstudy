{
 "cells": [
  {
   "cell_type": "markdown",
   "id": "theoretical-stretch",
   "metadata": {},
   "source": [
    "# E8_for_her : Movielens 영화 추천 실습"
   ]
  },
  {
   "cell_type": "markdown",
   "id": "controversial-screen",
   "metadata": {},
   "source": [
    "## ?? 프로젝트 목표 : 추천시스템의 기본 원리를 파악해 보고 나만의 추천시스템을 만들 수 있는 멋진 아이디어를 떠올려 봅시다"
   ]
  },
  {
   "cell_type": "markdown",
   "id": "sorted-swimming",
   "metadata": {},
   "source": [
    "## Step.1 데이터 준비와 전처리"
   ]
  },
  {
   "cell_type": "code",
   "execution_count": 12,
   "id": "geographic-income",
   "metadata": {},
   "outputs": [
    {
     "data": {
      "text/html": [
       "<div>\n",
       "<style scoped>\n",
       "    .dataframe tbody tr th:only-of-type {\n",
       "        vertical-align: middle;\n",
       "    }\n",
       "\n",
       "    .dataframe tbody tr th {\n",
       "        vertical-align: top;\n",
       "    }\n",
       "\n",
       "    .dataframe thead th {\n",
       "        text-align: right;\n",
       "    }\n",
       "</style>\n",
       "<table border=\"1\" class=\"dataframe\">\n",
       "  <thead>\n",
       "    <tr style=\"text-align: right;\">\n",
       "      <th></th>\n",
       "      <th>user_id</th>\n",
       "      <th>movie_id</th>\n",
       "      <th>rating</th>\n",
       "      <th>timestamp</th>\n",
       "    </tr>\n",
       "  </thead>\n",
       "  <tbody>\n",
       "    <tr>\n",
       "      <th>0</th>\n",
       "      <td>1</td>\n",
       "      <td>1193</td>\n",
       "      <td>5</td>\n",
       "      <td>978300760</td>\n",
       "    </tr>\n",
       "    <tr>\n",
       "      <th>1</th>\n",
       "      <td>1</td>\n",
       "      <td>661</td>\n",
       "      <td>3</td>\n",
       "      <td>978302109</td>\n",
       "    </tr>\n",
       "    <tr>\n",
       "      <th>2</th>\n",
       "      <td>1</td>\n",
       "      <td>914</td>\n",
       "      <td>3</td>\n",
       "      <td>978301968</td>\n",
       "    </tr>\n",
       "    <tr>\n",
       "      <th>3</th>\n",
       "      <td>1</td>\n",
       "      <td>3408</td>\n",
       "      <td>4</td>\n",
       "      <td>978300275</td>\n",
       "    </tr>\n",
       "    <tr>\n",
       "      <th>4</th>\n",
       "      <td>1</td>\n",
       "      <td>2355</td>\n",
       "      <td>5</td>\n",
       "      <td>978824291</td>\n",
       "    </tr>\n",
       "  </tbody>\n",
       "</table>\n",
       "</div>"
      ],
      "text/plain": [
       "   user_id  movie_id  rating  timestamp\n",
       "0        1      1193       5  978300760\n",
       "1        1       661       3  978302109\n",
       "2        1       914       3  978301968\n",
       "3        1      3408       4  978300275\n",
       "4        1      2355       5  978824291"
      ]
     },
     "execution_count": 12,
     "metadata": {},
     "output_type": "execute_result"
    }
   ],
   "source": [
    "import os\n",
    "import pandas as pd \n",
    "import numpy as np\n",
    "\n",
    "rating_file_path=os.getenv('HOME') + '/recommendata_iu/data/ml-1m/ratings.dat'\n",
    "ratings_cols = ['user_id', 'movie_id', 'rating', 'timestamp']\n",
    "ratings = pd.read_csv(rating_file_path, sep='::', names=ratings_cols, engine='python')\n",
    "orginal_data_size = len(ratings)\n",
    "ratings.head()"
   ]
  },
  {
   "cell_type": "markdown",
   "id": "technical-convertible",
   "metadata": {},
   "source": [
    "### 평점 3점 이상만 남기고.."
   ]
  },
  {
   "cell_type": "code",
   "execution_count": 13,
   "id": "fourth-light",
   "metadata": {},
   "outputs": [
    {
     "name": "stdout",
     "output_type": "stream",
     "text": [
      "orginal_data_size: 1000209, filtered_data_size: 836478\n",
      "Ratio of Remaining Data is 83.63%\n"
     ]
    }
   ],
   "source": [
    "# 3점 이상만 남깁니다.\n",
    "ratings = ratings[ratings['rating']>=3]\n",
    "filtered_data_size = len(ratings)\n",
    "\n",
    "print(f'orginal_data_size: {orginal_data_size}, filtered_data_size: {filtered_data_size}')\n",
    "print(f'Ratio of Remaining Data is {filtered_data_size / orginal_data_size:.2%}')"
   ]
  },
  {
   "cell_type": "code",
   "execution_count": 14,
   "id": "featured-class",
   "metadata": {},
   "outputs": [
    {
     "data": {
      "text/plain": [
       "0          5\n",
       "1          3\n",
       "2          3\n",
       "3          4\n",
       "4          5\n",
       "          ..\n",
       "1000203    3\n",
       "1000205    5\n",
       "1000206    5\n",
       "1000207    4\n",
       "1000208    4\n",
       "Name: count, Length: 836478, dtype: int64"
      ]
     },
     "execution_count": 14,
     "metadata": {},
     "output_type": "execute_result"
    }
   ],
   "source": [
    "# rating 컬럼의 이름을 count로 바꿉니다.\n",
    "ratings.rename(columns={'rating':'count'}, inplace=True)\n",
    "ratings['count']"
   ]
  },
  {
   "cell_type": "code",
   "execution_count": 15,
   "id": "shaped-times",
   "metadata": {},
   "outputs": [],
   "source": [
    "# 영화 제목을 보기 위해 메타 데이터를 읽어옵니다.\n",
    "movie_file_path=os.getenv('HOME') + '/recommendata_iu/data/ml-1m/movies.dat'\n",
    "cols = ['movie_id', 'title', 'genre'] \n",
    "movies = pd.read_csv(movie_file_path, sep='::', names=cols, engine='python')"
   ]
  },
  {
   "cell_type": "code",
   "execution_count": 16,
   "id": "removable-environment",
   "metadata": {},
   "outputs": [
    {
     "data": {
      "text/html": [
       "<div>\n",
       "<style scoped>\n",
       "    .dataframe tbody tr th:only-of-type {\n",
       "        vertical-align: middle;\n",
       "    }\n",
       "\n",
       "    .dataframe tbody tr th {\n",
       "        vertical-align: top;\n",
       "    }\n",
       "\n",
       "    .dataframe thead th {\n",
       "        text-align: right;\n",
       "    }\n",
       "</style>\n",
       "<table border=\"1\" class=\"dataframe\">\n",
       "  <thead>\n",
       "    <tr style=\"text-align: right;\">\n",
       "      <th></th>\n",
       "      <th>movie_id</th>\n",
       "      <th>title</th>\n",
       "      <th>genre</th>\n",
       "    </tr>\n",
       "  </thead>\n",
       "  <tbody>\n",
       "    <tr>\n",
       "      <th>0</th>\n",
       "      <td>1</td>\n",
       "      <td>Toy Story (1995)</td>\n",
       "      <td>Animation|Children's|Comedy</td>\n",
       "    </tr>\n",
       "    <tr>\n",
       "      <th>1</th>\n",
       "      <td>2</td>\n",
       "      <td>Jumanji (1995)</td>\n",
       "      <td>Adventure|Children's|Fantasy</td>\n",
       "    </tr>\n",
       "    <tr>\n",
       "      <th>2</th>\n",
       "      <td>3</td>\n",
       "      <td>Grumpier Old Men (1995)</td>\n",
       "      <td>Comedy|Romance</td>\n",
       "    </tr>\n",
       "    <tr>\n",
       "      <th>3</th>\n",
       "      <td>4</td>\n",
       "      <td>Waiting to Exhale (1995)</td>\n",
       "      <td>Comedy|Drama</td>\n",
       "    </tr>\n",
       "    <tr>\n",
       "      <th>4</th>\n",
       "      <td>5</td>\n",
       "      <td>Father of the Bride Part II (1995)</td>\n",
       "      <td>Comedy</td>\n",
       "    </tr>\n",
       "  </tbody>\n",
       "</table>\n",
       "</div>"
      ],
      "text/plain": [
       "   movie_id                               title                         genre\n",
       "0         1                    Toy Story (1995)   Animation|Children's|Comedy\n",
       "1         2                      Jumanji (1995)  Adventure|Children's|Fantasy\n",
       "2         3             Grumpier Old Men (1995)                Comedy|Romance\n",
       "3         4            Waiting to Exhale (1995)                  Comedy|Drama\n",
       "4         5  Father of the Bride Part II (1995)                        Comedy"
      ]
     },
     "execution_count": 16,
     "metadata": {},
     "output_type": "execute_result"
    }
   ],
   "source": [
    "movies.head()"
   ]
  },
  {
   "cell_type": "code",
   "execution_count": 17,
   "id": "animated-devil",
   "metadata": {},
   "outputs": [
    {
     "data": {
      "text/html": [
       "<div>\n",
       "<style scoped>\n",
       "    .dataframe tbody tr th:only-of-type {\n",
       "        vertical-align: middle;\n",
       "    }\n",
       "\n",
       "    .dataframe tbody tr th {\n",
       "        vertical-align: top;\n",
       "    }\n",
       "\n",
       "    .dataframe thead th {\n",
       "        text-align: right;\n",
       "    }\n",
       "</style>\n",
       "<table border=\"1\" class=\"dataframe\">\n",
       "  <thead>\n",
       "    <tr style=\"text-align: right;\">\n",
       "      <th></th>\n",
       "      <th>user_id</th>\n",
       "      <th>movie_id</th>\n",
       "      <th>count</th>\n",
       "      <th>timestamp</th>\n",
       "    </tr>\n",
       "  </thead>\n",
       "  <tbody>\n",
       "    <tr>\n",
       "      <th>0</th>\n",
       "      <td>1</td>\n",
       "      <td>1193</td>\n",
       "      <td>5</td>\n",
       "      <td>978300760</td>\n",
       "    </tr>\n",
       "    <tr>\n",
       "      <th>1</th>\n",
       "      <td>1</td>\n",
       "      <td>661</td>\n",
       "      <td>3</td>\n",
       "      <td>978302109</td>\n",
       "    </tr>\n",
       "    <tr>\n",
       "      <th>2</th>\n",
       "      <td>1</td>\n",
       "      <td>914</td>\n",
       "      <td>3</td>\n",
       "      <td>978301968</td>\n",
       "    </tr>\n",
       "    <tr>\n",
       "      <th>3</th>\n",
       "      <td>1</td>\n",
       "      <td>3408</td>\n",
       "      <td>4</td>\n",
       "      <td>978300275</td>\n",
       "    </tr>\n",
       "    <tr>\n",
       "      <th>4</th>\n",
       "      <td>1</td>\n",
       "      <td>2355</td>\n",
       "      <td>5</td>\n",
       "      <td>978824291</td>\n",
       "    </tr>\n",
       "  </tbody>\n",
       "</table>\n",
       "</div>"
      ],
      "text/plain": [
       "   user_id  movie_id  count  timestamp\n",
       "0        1      1193      5  978300760\n",
       "1        1       661      3  978302109\n",
       "2        1       914      3  978301968\n",
       "3        1      3408      4  978300275\n",
       "4        1      2355      5  978824291"
      ]
     },
     "execution_count": 17,
     "metadata": {},
     "output_type": "execute_result"
    }
   ],
   "source": [
    "ratings.head()"
   ]
  },
  {
   "cell_type": "markdown",
   "id": "surgical-communist",
   "metadata": {},
   "source": [
    "## Step.2 분석해 봅시다"
   ]
  },
  {
   "cell_type": "markdown",
   "id": "figured-school",
   "metadata": {},
   "source": [
    "\n",
    "    ratings에 있는 유니크한 영화 개수\n",
    "    rating에 있는 유니크한 사용자 수\n",
    "    가장 인기 있는 영화 30개(인기순)\n"
   ]
  },
  {
   "cell_type": "code",
   "execution_count": 20,
   "id": "consecutive-danger",
   "metadata": {},
   "outputs": [
    {
     "name": "stdout",
     "output_type": "stream",
     "text": [
      "유니크한 영화 : 3628 개\n"
     ]
    }
   ],
   "source": [
    "print('유니크한 영화 :', ratings['movie_id'].nunique(), '개')"
   ]
  },
  {
   "cell_type": "code",
   "execution_count": 21,
   "id": "loving-sixth",
   "metadata": {},
   "outputs": [
    {
     "name": "stdout",
     "output_type": "stream",
     "text": [
      "유니크한 사용자 : 6039 명\n"
     ]
    }
   ],
   "source": [
    "print('유니크한 사용자 :', ratings['user_id'].nunique(), '명')"
   ]
  },
  {
   "cell_type": "markdown",
   "id": "biblical-harbor",
   "metadata": {},
   "source": [
    "### ?? nunique()의 의미가 뭐지 ??"
   ]
  },
  {
   "cell_type": "markdown",
   "id": "hungry-reverse",
   "metadata": {},
   "source": [
    "nunique() function return number of unique elements in the object. It returns a scalar value which is the count of all the unique values in the Index. By default the NaN values are not included in the count."
   ]
  },
  {
   "cell_type": "markdown",
   "id": "pleasant-peoples",
   "metadata": {},
   "source": [
    "#### 이제 이해함... 결국 rating에 적용된 영화 수와 사용자 아이디 수 이네요"
   ]
  },
  {
   "cell_type": "code",
   "execution_count": 27,
   "id": "stuck-bermuda",
   "metadata": {},
   "outputs": [
    {
     "name": "stdout",
     "output_type": "stream",
     "text": [
      "Hot No. 1 : American Beauty (1999)\n",
      "Hot No. 2 : Star Wars: Episode IV - A New Hope (1977)\n",
      "Hot No. 3 : Star Wars: Episode V - The Empire Strikes Back (1980)\n",
      "Hot No. 4 : Star Wars: Episode VI - Return of the Jedi (1983)\n",
      "Hot No. 5 : Back to the Future (1985)\n",
      "Hot No. 6 : Saving Private Ryan (1998)\n",
      "Hot No. 7 : Silence of the Lambs, The (1991)\n",
      "Hot No. 8 : Raiders of the Lost Ark (1981)\n",
      "Hot No. 9 : Sixth Sense, The (1999)\n",
      "Hot No. 10 : Terminator 2: Judgment Day (1991)\n",
      "Hot No. 11 : Matrix, The (1999)\n",
      "Hot No. 12 : Fargo (1996)\n",
      "Hot No. 13 : Princess Bride, The (1987)\n",
      "Hot No. 14 : Jurassic Park (1993)\n",
      "Hot No. 15 : Godfather, The (1972)\n",
      "Hot No. 16 : Schindler's List (1993)\n",
      "Hot No. 17 : Men in Black (1997)\n",
      "Hot No. 18 : Shakespeare in Love (1998)\n",
      "Hot No. 19 : Shawshank Redemption, The (1994)\n",
      "Hot No. 20 : L.A. Confidential (1997)\n",
      "Hot No. 21 : Braveheart (1995)\n",
      "Hot No. 22 : E.T. the Extra-Terrestrial (1982)\n",
      "Hot No. 23 : Groundhog Day (1993)\n",
      "Hot No. 24 : Ghostbusters (1984)\n",
      "Hot No. 25 : Being John Malkovich (1999)\n",
      "Hot No. 26 : Terminator, The (1984)\n",
      "Hot No. 27 : Forrest Gump (1994)\n",
      "Hot No. 28 : Pulp Fiction (1994)\n",
      "Hot No. 29 : Toy Story (1995)\n",
      "Hot No. 30 : Alien (1979)\n"
     ]
    }
   ],
   "source": [
    "idx_to_movie = {}\n",
    "movie_to_idx = {}\n",
    "\n",
    "for i in range(movies.shape[0]):\n",
    "    idx_to_movie[movies['movie_id'][i]] = movies['title'][i]\n",
    "    movie_to_idx[movies['title'][i]] = movies['movie_id'][i]\n",
    "    \n",
    "grouping = ratings['user_id'].groupby(ratings['movie_id']).sum()\n",
    "top_30_movies_id = grouping.sort_values(ascending=False)[:30]\n",
    "for i in range(len(top_30_movies_id)):\n",
    "    print('Hot No. {} : {}'.format(i+1, idx_to_movie[top_30_movies_id.index[i]]))"
   ]
  },
  {
   "cell_type": "markdown",
   "id": "equipped-rouge",
   "metadata": {},
   "source": [
    "## Step.3 내가 선호하는 영화를 5가지 골라서 rating에 추가해 줍시다."
   ]
  },
  {
   "cell_type": "code",
   "execution_count": null,
   "id": "aware-singing",
   "metadata": {},
   "outputs": [],
   "source": []
  },
  {
   "cell_type": "markdown",
   "id": "italic-ceramic",
   "metadata": {},
   "source": [
    "## Step.4 CSR matrix를 직접 만들어 봅시다."
   ]
  },
  {
   "cell_type": "code",
   "execution_count": null,
   "id": "signed-google",
   "metadata": {},
   "outputs": [],
   "source": []
  },
  {
   "cell_type": "markdown",
   "id": "conditional-china",
   "metadata": {},
   "source": [
    "## Step.5 als_model = AlternatingLeastSquares 모델을 직접 구성하여 훈련시켜 봅시다."
   ]
  },
  {
   "cell_type": "code",
   "execution_count": null,
   "id": "intense-broad",
   "metadata": {},
   "outputs": [],
   "source": []
  },
  {
   "cell_type": "markdown",
   "id": "provincial-beginning",
   "metadata": {},
   "source": [
    "## Step.6 내가 선호하는 5가지 영화 중 하나와 그 외의 영화 하나를 골라 훈련된 모델이 예측한 나의 선호도를 파악해 보세요."
   ]
  },
  {
   "cell_type": "code",
   "execution_count": null,
   "id": "handy-command",
   "metadata": {},
   "outputs": [],
   "source": []
  },
  {
   "cell_type": "markdown",
   "id": "raising-reliance",
   "metadata": {},
   "source": [
    "## Step.7 내가 좋아하는 영화와 비슷한 영화를 추천받아 봅시다."
   ]
  },
  {
   "cell_type": "code",
   "execution_count": null,
   "id": "unnecessary-marina",
   "metadata": {},
   "outputs": [],
   "source": []
  },
  {
   "cell_type": "markdown",
   "id": "romantic-bacon",
   "metadata": {},
   "source": [
    "## Step.8 내가 가장 좋아할 만한 영화들을 추천받아 봅시다."
   ]
  },
  {
   "cell_type": "code",
   "execution_count": null,
   "id": "impaired-guest",
   "metadata": {},
   "outputs": [],
   "source": []
  },
  {
   "cell_type": "markdown",
   "id": "verified-accused",
   "metadata": {},
   "source": [
    "## 루브릭 평가"
   ]
  },
  {
   "cell_type": "code",
   "execution_count": null,
   "id": "proper-engineer",
   "metadata": {},
   "outputs": [],
   "source": []
  },
  {
   "cell_type": "markdown",
   "id": "gentle-flashing",
   "metadata": {},
   "source": [
    "## 느낌점과 회고"
   ]
  },
  {
   "cell_type": "code",
   "execution_count": null,
   "id": "recognized-mathematics",
   "metadata": {},
   "outputs": [],
   "source": []
  }
 ],
 "metadata": {
  "kernelspec": {
   "display_name": "Python 3",
   "language": "python",
   "name": "python3"
  },
  "language_info": {
   "codemirror_mode": {
    "name": "ipython",
    "version": 3
   },
   "file_extension": ".py",
   "mimetype": "text/x-python",
   "name": "python",
   "nbconvert_exporter": "python",
   "pygments_lexer": "ipython3",
   "version": "3.7.9"
  }
 },
 "nbformat": 4,
 "nbformat_minor": 5
}
