{
 "cells": [
  {
   "cell_type": "markdown",
   "id": "superb-creature",
   "metadata": {},
   "source": [
    "# G16 키포인트 검출 딥러닝 모델"
   ]
  },
  {
   "cell_type": "code",
   "execution_count": 1,
   "id": "suffering-retreat",
   "metadata": {},
   "outputs": [
    {
     "name": "stderr",
     "output_type": "stream",
     "text": [
      "usage: ipykernel_launcher.py [-h] [img_path]\n",
      "ipykernel_launcher.py: error: unrecognized arguments: -f\n"
     ]
    },
    {
     "ename": "SystemExit",
     "evalue": "2",
     "output_type": "error",
     "traceback": [
      "An exception has occurred, use %tb to see the full traceback.\n",
      "\u001b[0;31mSystemExit\u001b[0m\u001b[0;31m:\u001b[0m 2\n"
     ]
    },
    {
     "name": "stderr",
     "output_type": "stream",
     "text": [
      "/home/aiffel-dj29/anaconda3/envs/aiffel/lib/python3.7/site-packages/IPython/core/interactiveshell.py:3435: UserWarning: To exit: use 'exit', 'quit', or Ctrl-D.\n",
      "  warn(\"To exit: use 'exit', 'quit', or Ctrl-D.\", stacklevel=1)\n"
     ]
    }
   ],
   "source": [
    "import os\n",
    "from os.path import join\n",
    "from glob import glob\n",
    "import cv2\n",
    "import argparse\n",
    "import numpy as np\n",
    "import json\n",
    "from pprint import pprint\n",
    "\n",
    "args = argparse.ArgumentParser()\n",
    "\n",
    "# hyperparameters\n",
    "args.add_argument('img_path', type=str, nargs='?', default=None)\n",
    "\n",
    "config = args.parse_args()\n",
    "\n",
    "flg_button = False"
   ]
  },
  {
   "cell_type": "code",
   "execution_count": 2,
   "id": "different-sense",
   "metadata": {},
   "outputs": [],
   "source": [
    "def check_dir():\n",
    "    if config.img_path is None \\\n",
    "        or len(config.img_path) == 0 \\\n",
    "        or config.img_path == '' \\\n",
    "        or os.path.isdir(config.img_path):\n",
    "        root = os.path.realpath('./')\n",
    "        if os.path.isdir(config.img_path):\n",
    "            root = os.path.realpath(config.img_path)\n",
    "        img_list = sorted(glob(join(root, '*.png')))\n",
    "        img_list.extend(sorted(glob(join(root, '*.jpg'))))\n",
    "        config.img_path = img_list[0]\n",
    "\n",
    "    img_dir = os.path.dirname(os.path.realpath(config.img_path))\n",
    "\n",
    "    return img_dir\n",
    "\n",
    "def move(pos, idx, img_list):\n",
    "    if pos == 1:\n",
    "        idx += 1\n",
    "        if idx == len(img_list):\n",
    "            idx = 0\n",
    "    elif pos == -1:\n",
    "        idx -= 1\n",
    "        if idx == -1:\n",
    "            idx = len(img_list) - 1\n",
    "    return idx"
   ]
  },
  {
   "cell_type": "code",
   "execution_count": 3,
   "id": "nonprofit-mention",
   "metadata": {},
   "outputs": [],
   "source": [
    "# Mouse callback function\n",
    "def select_point(event, x,y, flags, param):\n",
    "    global flg_button, gparam\n",
    "    img = gparam['img']\n",
    "\n",
    "    if event == cv2.EVENT_LBUTTONDOWN:\n",
    "        flg_button = True\n",
    "\n",
    "    if event == cv2.EVENT_LBUTTONUP and flg_button == True:\n",
    "        flg_button = False\n",
    "        print (f'({x}, {y}), size:{img.shape}')\n",
    "        gparam['point'] = [x,y]"
   ]
  },
  {
   "cell_type": "code",
   "execution_count": 4,
   "id": "brazilian-parliament",
   "metadata": {},
   "outputs": [
    {
     "ename": "NameError",
     "evalue": "name 'config' is not defined",
     "output_type": "error",
     "traceback": [
      "\u001b[0;31m---------------------------------------------------------------------------\u001b[0m",
      "\u001b[0;31mNameError\u001b[0m                                 Traceback (most recent call last)",
      "\u001b[0;32m<ipython-input-4-8ee23dfb4480>\u001b[0m in \u001b[0;36m<module>\u001b[0;34m\u001b[0m\n\u001b[1;32m     69\u001b[0m \u001b[0;34m\u001b[0m\u001b[0m\n\u001b[1;32m     70\u001b[0m \u001b[0;32mif\u001b[0m \u001b[0m__name__\u001b[0m \u001b[0;34m==\u001b[0m \u001b[0;34m'__main__'\u001b[0m\u001b[0;34m:\u001b[0m\u001b[0;34m\u001b[0m\u001b[0;34m\u001b[0m\u001b[0m\n\u001b[0;32m---> 71\u001b[0;31m     \u001b[0mblend_view\u001b[0m\u001b[0;34m(\u001b[0m\u001b[0;34m)\u001b[0m\u001b[0;34m\u001b[0m\u001b[0;34m\u001b[0m\u001b[0m\n\u001b[0m",
      "\u001b[0;32m<ipython-input-4-8ee23dfb4480>\u001b[0m in \u001b[0;36mblend_view\u001b[0;34m()\u001b[0m\n\u001b[1;32m      5\u001b[0m     \u001b[0mcv2\u001b[0m\u001b[0;34m.\u001b[0m\u001b[0mresizeWindow\u001b[0m\u001b[0;34m(\u001b[0m\u001b[0;34m'show'\u001b[0m\u001b[0;34m,\u001b[0m \u001b[0;36m500\u001b[0m\u001b[0;34m,\u001b[0m \u001b[0;36m500\u001b[0m\u001b[0;34m)\u001b[0m\u001b[0;34m\u001b[0m\u001b[0;34m\u001b[0m\u001b[0m\n\u001b[1;32m      6\u001b[0m \u001b[0;34m\u001b[0m\u001b[0m\n\u001b[0;32m----> 7\u001b[0;31m     \u001b[0mimg_dir\u001b[0m \u001b[0;34m=\u001b[0m \u001b[0mcheck_dir\u001b[0m\u001b[0;34m(\u001b[0m\u001b[0;34m)\u001b[0m\u001b[0;34m\u001b[0m\u001b[0;34m\u001b[0m\u001b[0m\n\u001b[0m\u001b[1;32m      8\u001b[0m \u001b[0;34m\u001b[0m\u001b[0m\n\u001b[1;32m      9\u001b[0m     \u001b[0mfname\u001b[0m\u001b[0;34m,\u001b[0m \u001b[0mext\u001b[0m \u001b[0;34m=\u001b[0m \u001b[0mos\u001b[0m\u001b[0;34m.\u001b[0m\u001b[0mpath\u001b[0m\u001b[0;34m.\u001b[0m\u001b[0msplitext\u001b[0m\u001b[0;34m(\u001b[0m\u001b[0mconfig\u001b[0m\u001b[0;34m.\u001b[0m\u001b[0mimg_path\u001b[0m\u001b[0;34m)\u001b[0m\u001b[0;34m\u001b[0m\u001b[0;34m\u001b[0m\u001b[0m\n",
      "\u001b[0;32m<ipython-input-2-6cad74ee7f28>\u001b[0m in \u001b[0;36mcheck_dir\u001b[0;34m()\u001b[0m\n\u001b[1;32m      1\u001b[0m \u001b[0;32mdef\u001b[0m \u001b[0mcheck_dir\u001b[0m\u001b[0;34m(\u001b[0m\u001b[0;34m)\u001b[0m\u001b[0;34m:\u001b[0m\u001b[0;34m\u001b[0m\u001b[0;34m\u001b[0m\u001b[0m\n\u001b[0;32m----> 2\u001b[0;31m     \u001b[0;32mif\u001b[0m \u001b[0mconfig\u001b[0m\u001b[0;34m.\u001b[0m\u001b[0mimg_path\u001b[0m \u001b[0;32mis\u001b[0m \u001b[0;32mNone\u001b[0m\u001b[0;31m \u001b[0m\u001b[0;31m\\\u001b[0m\u001b[0;34m\u001b[0m\u001b[0;34m\u001b[0m\u001b[0m\n\u001b[0m\u001b[1;32m      3\u001b[0m         \u001b[0;32mor\u001b[0m \u001b[0mlen\u001b[0m\u001b[0;34m(\u001b[0m\u001b[0mconfig\u001b[0m\u001b[0;34m.\u001b[0m\u001b[0mimg_path\u001b[0m\u001b[0;34m)\u001b[0m \u001b[0;34m==\u001b[0m \u001b[0;36m0\u001b[0m\u001b[0;31m \u001b[0m\u001b[0;31m\\\u001b[0m\u001b[0;34m\u001b[0m\u001b[0;34m\u001b[0m\u001b[0m\n\u001b[1;32m      4\u001b[0m         \u001b[0;32mor\u001b[0m \u001b[0mconfig\u001b[0m\u001b[0;34m.\u001b[0m\u001b[0mimg_path\u001b[0m \u001b[0;34m==\u001b[0m \u001b[0;34m''\u001b[0m\u001b[0;31m \u001b[0m\u001b[0;31m\\\u001b[0m\u001b[0;34m\u001b[0m\u001b[0;34m\u001b[0m\u001b[0m\n\u001b[1;32m      5\u001b[0m         \u001b[0;32mor\u001b[0m \u001b[0mos\u001b[0m\u001b[0;34m.\u001b[0m\u001b[0mpath\u001b[0m\u001b[0;34m.\u001b[0m\u001b[0misdir\u001b[0m\u001b[0;34m(\u001b[0m\u001b[0mconfig\u001b[0m\u001b[0;34m.\u001b[0m\u001b[0mimg_path\u001b[0m\u001b[0;34m)\u001b[0m\u001b[0;34m:\u001b[0m\u001b[0;34m\u001b[0m\u001b[0;34m\u001b[0m\u001b[0m\n",
      "\u001b[0;31mNameError\u001b[0m: name 'config' is not defined"
     ]
    }
   ],
   "source": [
    "def blend_view():\n",
    "    global gparam\n",
    "    gparam = {}\n",
    "    cv2.namedWindow('show', 0)\n",
    "    cv2.resizeWindow('show', 500, 500)\n",
    "\n",
    "    img_dir = check_dir()\n",
    "\n",
    "    fname, ext = os.path.splitext(config.img_path)\n",
    "    img_list = [os.path.basename(x) for x in sorted(glob(join(img_dir,'*%s'%ext)))]\n",
    "\n",
    "    dict_label = {}\n",
    "    dict_label['img_dir'] = img_dir\n",
    "    dict_label['labels'] = {}\n",
    "\n",
    "    json_path = os.getenv('HOME')+'/aiffel/coarse_to_fine/eye_annotation.json'\n",
    "    json_file = open(json_path, 'w', encoding='utf-8')\n",
    "\n",
    "    idx = img_list.index(os.path.basename(config.img_path))\n",
    "    pfname = img_list[idx]\n",
    "    orig = None\n",
    "    local_point = [] # 저장할 point list\n",
    "    while True:\n",
    "        start = cv2.getTickCount()\n",
    "        fname = img_list[idx]\n",
    "                # 파일의 변경이 없거나 이미지가 없을 때, point 를 초기화함\n",
    "        if pfname != fname or orig is None:\n",
    "            orig = cv2.imread(join(img_dir, fname), 1)\n",
    "            gparam['point'] = []\n",
    "            pfname = fname\n",
    "                # 저장할 point(local point) 와 새로 지정한 gparam['point'] 가 변경된 경우,\n",
    "                # local_point 를 업데이트\n",
    "        if local_point != gparam['point']:\n",
    "            orig = cv2.imread(join(img_dir, fname), 1)\n",
    "            local_point = gparam['point']\n",
    "\n",
    "        img_show = orig\n",
    "        gparam['img'] = img_show\n",
    "        cv2.setMouseCallback('show', select_point) # mouse event\n",
    "\n",
    "        if len(local_point) == 2:\n",
    "            img_show = cv2.circle(img_show, tuple(local_point),\n",
    "                                  2, (0,255,0), -1)\n",
    "            dict_label['labels'][fname] = local_point # label 로 저장\n",
    "\n",
    "        time = (cv2.getTickCount() - start) / cv2.getTickFrequency() * 1000\n",
    "\n",
    "        if img_show.shape[0] > 300:\n",
    "            cv2.putText(img_show, '%s'%fname, (5,10), cv2.FONT_HERSHEY_COMPLEX_SMALL, 0.5, (255,255,255))\n",
    "\n",
    "        print (f'[INFO] ({idx+1}/{len(img_list)}) {fname}... time: {time:.3f}ms', end='\\r')\n",
    "\n",
    "        cv2.imshow('show', img_show)\n",
    "\n",
    "        key = cv2.waitKey(1)\n",
    "        if key == 27:\n",
    "            return -1\n",
    "        if key == ord('n'):\n",
    "            idx = move(1, idx, img_list)\n",
    "        elif key == ord('p'):\n",
    "            idx = move(-1, idx, img_list)\n",
    "        elif key == ord('v'):\n",
    "            print ()\n",
    "            pprint (dict_label)\n",
    "            print ()\n",
    "        elif key == ord('s'):\n",
    "            json.dump(dict_label, json_file, indent=2)\n",
    "            print (f'[INFO] < {json_path} > saved!')\n",
    "\n",
    "if __name__ == '__main__':\n",
    "    blend_view()"
   ]
  },
  {
   "cell_type": "code",
   "execution_count": null,
   "id": "external-engineer",
   "metadata": {},
   "outputs": [],
   "source": [
    "def findCenterPoint(gray_eye, str_direction='left'):\n",
    "    if gray_eye is None:\n",
    "        return [0, 0]\n",
    "    filtered_eye = cv2.bilateralFilter(gray_eye, 7, 75, 75)\n",
    "    filtered_eye = cv2.bilateralFilter(filtered_eye, 7, 75, 75)\n",
    "    filtered_eye = cv2.bilateralFilter(filtered_eye, 7, 75, 75)\n",
    "\n",
    "    # 2D images -> 1D signals\n",
    "    row_sum = 255 - np.sum(filtered_eye, axis=0)//gray_eye.shape[0]\n",
    "    col_sum = 255 - np.sum(filtered_eye, axis=1)//gray_eye.shape[1]\n",
    "\n",
    "    # normalization & stabilization\n",
    "    def vector_normalization(vector):\n",
    "        vector = vector.astype(np.float32)\n",
    "        vector = (vector-vector.min())/(vector.max()-vector.min()+1e-6)*255\n",
    "        vector = vector.astype(np.uint8)\n",
    "        vector = cv2.blur(vector, (5,1)).reshape((vector.shape[0],))\n",
    "        vector = cv2.blur(vector, (5,1)).reshape((vector.shape[0],))            \n",
    "        return vector\n",
    "    row_sum = vector_normalization(row_sum)\n",
    "    col_sum = vector_normalization(col_sum)\n",
    "\n",
    "    def findOptimalCenter(gray_eye, vector, str_axis='x'):\n",
    "        axis = 1 if str_axis == 'x' else 0\n",
    "        center_from_start = np.argmax(vector)\n",
    "        center_from_end = gray_eye.shape[axis]-1 - np.argmax(np.flip(vector,axis=0))\n",
    "        return (center_from_end + center_from_start) // 2\n",
    "\n",
    "    # x 축 center 를 찾는 알고리즘을 mean shift 로 대체합니다.\n",
    "    # center_x = findOptimalCenter(gray_eye, row_sum, 'x')\n",
    "    center_y = findOptimalCenter(gray_eye, col_sum, 'y')\n",
    "\n",
    "    # 수정된 부분\n",
    "    inv_eye = (255 - filtered_eye).astype(np.float32)\n",
    "    inv_eye = (255*(inv_eye - inv_eye.min())/(inv_eye.max()-inv_eye.min())).astype(np.uint8)\n",
    "\n",
    "    resized_inv_eye = cv2.resize(inv_eye, (inv_eye.shape[1]//3, inv_eye.shape[0]//3))\n",
    "    init_point = np.unravel_index(np.argmax(resized_inv_eye),resized_inv_eye.shape)\n",
    "\n",
    "    x_candidate = init_point[1]*3 + 1\n",
    "    for idx in range(10):\n",
    "        temp_sum = row_sum[x_candidate-2:x_candidate+3].sum()\n",
    "        if temp_sum == 0:\n",
    "            break\n",
    "        normalized_row_sum_part = row_sum[x_candidate-2:x_candidate+3].astype(np.float32)//temp_sum\n",
    "        moving_factor = normalized_row_sum_part[3:5].sum() - normalized_row_sum_part[0:2].sum()\n",
    "        if moving_factor > 0.0:\n",
    "            x_candidate += 1\n",
    "        elif moving_factor < 0.0:\n",
    "            x_candidate -= 1\n",
    "\n",
    "    center_x = x_candidate\n",
    "\n",
    "    if center_x >= gray_eye.shape[1]-2 or center_x <= 2:\n",
    "        center_x = -1\n",
    "    elif center_y >= gray_eye.shape[0]-1 or center_y <= 1:\n",
    "        center_y = -1\n",
    "\n",
    "    return [center_x, center_y]"
   ]
  },
  {
   "cell_type": "code",
   "execution_count": null,
   "id": "advance-agenda",
   "metadata": {},
   "outputs": [],
   "source": []
  },
  {
   "cell_type": "code",
   "execution_count": null,
   "id": "speaking-physiology",
   "metadata": {},
   "outputs": [],
   "source": []
  },
  {
   "cell_type": "code",
   "execution_count": null,
   "id": "concrete-moore",
   "metadata": {},
   "outputs": [],
   "source": []
  },
  {
   "cell_type": "code",
   "execution_count": null,
   "id": "alleged-advocate",
   "metadata": {},
   "outputs": [],
   "source": []
  },
  {
   "cell_type": "code",
   "execution_count": null,
   "id": "received-hindu",
   "metadata": {},
   "outputs": [],
   "source": []
  },
  {
   "cell_type": "code",
   "execution_count": null,
   "id": "bottom-arabic",
   "metadata": {},
   "outputs": [],
   "source": []
  },
  {
   "cell_type": "code",
   "execution_count": null,
   "id": "waiting-hypothesis",
   "metadata": {},
   "outputs": [],
   "source": []
  },
  {
   "cell_type": "code",
   "execution_count": null,
   "id": "vanilla-psychiatry",
   "metadata": {},
   "outputs": [],
   "source": []
  },
  {
   "cell_type": "code",
   "execution_count": null,
   "id": "alone-truck",
   "metadata": {},
   "outputs": [],
   "source": []
  },
  {
   "cell_type": "code",
   "execution_count": null,
   "id": "royal-macintosh",
   "metadata": {},
   "outputs": [],
   "source": []
  },
  {
   "cell_type": "code",
   "execution_count": null,
   "id": "quick-mobile",
   "metadata": {},
   "outputs": [],
   "source": []
  }
 ],
 "metadata": {
  "kernelspec": {
   "display_name": "Python 3",
   "language": "python",
   "name": "python3"
  },
  "language_info": {
   "codemirror_mode": {
    "name": "ipython",
    "version": 3
   },
   "file_extension": ".py",
   "mimetype": "text/x-python",
   "name": "python",
   "nbconvert_exporter": "python",
   "pygments_lexer": "ipython3",
   "version": "3.7.9"
  }
 },
 "nbformat": 4,
 "nbformat_minor": 5
}
